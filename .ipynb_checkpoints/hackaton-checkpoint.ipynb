{
 "cells": [
  {
   "cell_type": "markdown",
   "metadata": {},
   "source": [
    "## HACKATHON SAN ISIDRO\n",
    "## Transito."
   ]
  },
  {
   "cell_type": "markdown",
   "metadata": {},
   "source": [
    "## Apoyo a bomberos\n"
   ]
  },
  {
   "cell_type": "code",
   "execution_count": 1,
   "metadata": {
    "collapsed": false
   },
   "outputs": [],
   "source": [
    "#%matplotlib inline\n",
    "import matplotlib.pyplot as plt\n",
    "import matplotlib\n",
    "import pandas as pd\n",
    "from pandas import *\n",
    "import numpy as np\n"
   ]
  },
  {
   "cell_type": "markdown",
   "metadata": {},
   "source": [
    "\n",
    "\n",
    "### Leer la data\n",
    "\n"
   ]
  },
  {
   "cell_type": "code",
   "execution_count": 2,
   "metadata": {
    "collapsed": false
   },
   "outputs": [
    {
     "name": "stdout",
     "output_type": "stream",
     "text": [
      "570\n"
     ]
    },
    {
     "data": {
      "text/html": [
       "<div>\n",
       "<table border=\"1\" class=\"dataframe\">\n",
       "  <thead>\n",
       "    <tr style=\"text-align: right;\">\n",
       "      <th></th>\n",
       "      <th>CATEGORY</th>\n",
       "      <th>TIME</th>\n",
       "      <th>MODALITY</th>\n",
       "      <th>SECTOR</th>\n",
       "      <th>SUBSECTOR</th>\n",
       "    </tr>\n",
       "  </thead>\n",
       "  <tbody>\n",
       "    <tr>\n",
       "      <th>0</th>\n",
       "      <td>Fires</td>\n",
       "      <td>11:45</td>\n",
       "      <td>NaN</td>\n",
       "      <td>2</td>\n",
       "      <td>1</td>\n",
       "    </tr>\n",
       "    <tr>\n",
       "      <th>1</th>\n",
       "      <td>Car Run Over People</td>\n",
       "      <td>21:34</td>\n",
       "      <td>Driver Recklessness</td>\n",
       "      <td>4</td>\n",
       "      <td>2</td>\n",
       "    </tr>\n",
       "    <tr>\n",
       "      <th>2</th>\n",
       "      <td>Car Crash</td>\n",
       "      <td>08:29</td>\n",
       "      <td>Driver Recklessness</td>\n",
       "      <td>4</td>\n",
       "      <td>4</td>\n",
       "    </tr>\n",
       "    <tr>\n",
       "      <th>3</th>\n",
       "      <td>Fires</td>\n",
       "      <td>12:26</td>\n",
       "      <td>NaN</td>\n",
       "      <td>3</td>\n",
       "      <td>2</td>\n",
       "    </tr>\n",
       "    <tr>\n",
       "      <th>4</th>\n",
       "      <td>Car Run Over People</td>\n",
       "      <td>04:53</td>\n",
       "      <td>Driver Recklessness</td>\n",
       "      <td>2</td>\n",
       "      <td>5</td>\n",
       "    </tr>\n",
       "    <tr>\n",
       "      <th>5</th>\n",
       "      <td>Car Crash</td>\n",
       "      <td>06:40</td>\n",
       "      <td>Speeding</td>\n",
       "      <td>1</td>\n",
       "      <td>2</td>\n",
       "    </tr>\n",
       "    <tr>\n",
       "      <th>6</th>\n",
       "      <td>Car Crash</td>\n",
       "      <td>18:16</td>\n",
       "      <td>Driver Recklessness</td>\n",
       "      <td>4</td>\n",
       "      <td>1</td>\n",
       "    </tr>\n",
       "    <tr>\n",
       "      <th>7</th>\n",
       "      <td>Car Run Over People</td>\n",
       "      <td>19:56</td>\n",
       "      <td>Driver Recklessness</td>\n",
       "      <td>3</td>\n",
       "      <td>2</td>\n",
       "    </tr>\n",
       "    <tr>\n",
       "      <th>8</th>\n",
       "      <td>Car Crash</td>\n",
       "      <td>03:38</td>\n",
       "      <td>Driver Recklessness</td>\n",
       "      <td>1</td>\n",
       "      <td>5</td>\n",
       "    </tr>\n",
       "    <tr>\n",
       "      <th>9</th>\n",
       "      <td>Car Crash</td>\n",
       "      <td>16:49</td>\n",
       "      <td>Driver Recklessness</td>\n",
       "      <td>3</td>\n",
       "      <td>2</td>\n",
       "    </tr>\n",
       "    <tr>\n",
       "      <th>10</th>\n",
       "      <td>Fires</td>\n",
       "      <td>17:45</td>\n",
       "      <td>NaN</td>\n",
       "      <td>4</td>\n",
       "      <td>3</td>\n",
       "    </tr>\n",
       "    <tr>\n",
       "      <th>11</th>\n",
       "      <td>Car Cluelessness</td>\n",
       "      <td>15:15</td>\n",
       "      <td>Driver Recklessness</td>\n",
       "      <td>4</td>\n",
       "      <td>2</td>\n",
       "    </tr>\n",
       "  </tbody>\n",
       "</table>\n",
       "</div>"
      ],
      "text/plain": [
       "               CATEGORY   TIME             MODALITY  SECTOR  SUBSECTOR\n",
       "0                 Fires  11:45                  NaN       2          1\n",
       "1   Car Run Over People  21:34  Driver Recklessness       4          2\n",
       "2             Car Crash  08:29  Driver Recklessness       4          4\n",
       "3                 Fires  12:26                  NaN       3          2\n",
       "4   Car Run Over People  04:53  Driver Recklessness       2          5\n",
       "5             Car Crash  06:40             Speeding       1          2\n",
       "6             Car Crash  18:16  Driver Recklessness       4          1\n",
       "7   Car Run Over People  19:56  Driver Recklessness       3          2\n",
       "8             Car Crash  03:38  Driver Recklessness       1          5\n",
       "9             Car Crash  16:49  Driver Recklessness       3          2\n",
       "10                Fires  17:45                  NaN       4          3\n",
       "11     Car Cluelessness  15:15  Driver Recklessness       4          2"
      ]
     },
     "execution_count": 2,
     "metadata": {},
     "output_type": "execute_result"
    }
   ],
   "source": [
    "#Leemos la data\n",
    "df = pd.read_csv('data2.csv', sep=\",\")\n",
    "\n",
    "dfr = df[['CATEGORY', 'TIME', 'MODALITY','SECTOR', 'SUBSECTOR']]\n",
    "#print dfr['CATEGORIA'].unique()\n",
    "#print dfr['MODALIDAD'].unique()\n",
    "#print len(dfr)\n",
    "#dfr.tail(10)\n",
    "\n",
    "#df.drop([\"ID\", \"TIPO\"], axis=1)\n",
    "\n",
    "print len(dfr)\n",
    "dfr.head(12)\n"
   ]
  },
  {
   "cell_type": "markdown",
   "metadata": {},
   "source": []
  },
  {
   "cell_type": "code",
   "execution_count": 3,
   "metadata": {
    "collapsed": false
   },
   "outputs": [
    {
     "name": "stdout",
     "output_type": "stream",
     "text": [
      "569\n"
     ]
    },
    {
     "name": "stderr",
     "output_type": "stream",
     "text": [
      "/usr/local/lib/python2.7/dist-packages/numpy/lib/arraysetops.py:200: FutureWarning: numpy not_equal will not check object identity in the future. The comparison did not return the same result as suggested by the identity (`is`)) and will change.\n",
      "  flag = np.concatenate(([True], aux[1:] != aux[:-1]))\n"
     ]
    },
    {
     "data": {
      "text/html": [
       "<div>\n",
       "<table border=\"1\" class=\"dataframe\">\n",
       "  <thead>\n",
       "    <tr style=\"text-align: right;\">\n",
       "      <th></th>\n",
       "      <th>CATEGORY</th>\n",
       "      <th>TIME</th>\n",
       "      <th>MODALITY</th>\n",
       "      <th>SECTOR</th>\n",
       "      <th>SUBSECTOR</th>\n",
       "      <th>CATEGORY_n</th>\n",
       "      <th>MODALITY_n</th>\n",
       "    </tr>\n",
       "  </thead>\n",
       "  <tbody>\n",
       "    <tr>\n",
       "      <th>0</th>\n",
       "      <td>Fires</td>\n",
       "      <td>11:45</td>\n",
       "      <td>NaN</td>\n",
       "      <td>2</td>\n",
       "      <td>1</td>\n",
       "      <td>4</td>\n",
       "      <td>0</td>\n",
       "    </tr>\n",
       "    <tr>\n",
       "      <th>1</th>\n",
       "      <td>Car Run Over People</td>\n",
       "      <td>21:34</td>\n",
       "      <td>Driver Recklessness</td>\n",
       "      <td>4</td>\n",
       "      <td>2</td>\n",
       "      <td>3</td>\n",
       "      <td>2</td>\n",
       "    </tr>\n",
       "    <tr>\n",
       "      <th>2</th>\n",
       "      <td>Car Crash</td>\n",
       "      <td>08:29</td>\n",
       "      <td>Driver Recklessness</td>\n",
       "      <td>4</td>\n",
       "      <td>4</td>\n",
       "      <td>1</td>\n",
       "      <td>2</td>\n",
       "    </tr>\n",
       "    <tr>\n",
       "      <th>3</th>\n",
       "      <td>Fires</td>\n",
       "      <td>12:26</td>\n",
       "      <td>NaN</td>\n",
       "      <td>3</td>\n",
       "      <td>2</td>\n",
       "      <td>4</td>\n",
       "      <td>0</td>\n",
       "    </tr>\n",
       "    <tr>\n",
       "      <th>4</th>\n",
       "      <td>Car Run Over People</td>\n",
       "      <td>04:53</td>\n",
       "      <td>Driver Recklessness</td>\n",
       "      <td>2</td>\n",
       "      <td>5</td>\n",
       "      <td>3</td>\n",
       "      <td>2</td>\n",
       "    </tr>\n",
       "    <tr>\n",
       "      <th>5</th>\n",
       "      <td>Car Crash</td>\n",
       "      <td>06:40</td>\n",
       "      <td>Speeding</td>\n",
       "      <td>1</td>\n",
       "      <td>2</td>\n",
       "      <td>1</td>\n",
       "      <td>7</td>\n",
       "    </tr>\n",
       "    <tr>\n",
       "      <th>6</th>\n",
       "      <td>Car Crash</td>\n",
       "      <td>18:16</td>\n",
       "      <td>Driver Recklessness</td>\n",
       "      <td>4</td>\n",
       "      <td>1</td>\n",
       "      <td>1</td>\n",
       "      <td>2</td>\n",
       "    </tr>\n",
       "    <tr>\n",
       "      <th>7</th>\n",
       "      <td>Car Run Over People</td>\n",
       "      <td>19:56</td>\n",
       "      <td>Driver Recklessness</td>\n",
       "      <td>3</td>\n",
       "      <td>2</td>\n",
       "      <td>3</td>\n",
       "      <td>2</td>\n",
       "    </tr>\n",
       "    <tr>\n",
       "      <th>8</th>\n",
       "      <td>Car Crash</td>\n",
       "      <td>03:38</td>\n",
       "      <td>Driver Recklessness</td>\n",
       "      <td>1</td>\n",
       "      <td>5</td>\n",
       "      <td>1</td>\n",
       "      <td>2</td>\n",
       "    </tr>\n",
       "    <tr>\n",
       "      <th>9</th>\n",
       "      <td>Car Crash</td>\n",
       "      <td>16:49</td>\n",
       "      <td>Driver Recklessness</td>\n",
       "      <td>3</td>\n",
       "      <td>2</td>\n",
       "      <td>1</td>\n",
       "      <td>2</td>\n",
       "    </tr>\n",
       "  </tbody>\n",
       "</table>\n",
       "</div>"
      ],
      "text/plain": [
       "              CATEGORY   TIME             MODALITY  SECTOR  SUBSECTOR  \\\n",
       "0                Fires  11:45                  NaN       2          1   \n",
       "1  Car Run Over People  21:34  Driver Recklessness       4          2   \n",
       "2            Car Crash  08:29  Driver Recklessness       4          4   \n",
       "3                Fires  12:26                  NaN       3          2   \n",
       "4  Car Run Over People  04:53  Driver Recklessness       2          5   \n",
       "5            Car Crash  06:40             Speeding       1          2   \n",
       "6            Car Crash  18:16  Driver Recklessness       4          1   \n",
       "7  Car Run Over People  19:56  Driver Recklessness       3          2   \n",
       "8            Car Crash  03:38  Driver Recklessness       1          5   \n",
       "9            Car Crash  16:49  Driver Recklessness       3          2   \n",
       "\n",
       "   CATEGORY_n  MODALITY_n  \n",
       "0           4           0  \n",
       "1           3           2  \n",
       "2           1           2  \n",
       "3           4           0  \n",
       "4           3           2  \n",
       "5           1           7  \n",
       "6           1           2  \n",
       "7           3           2  \n",
       "8           1           2  \n",
       "9           1           2  "
      ]
     },
     "execution_count": 3,
     "metadata": {},
     "output_type": "execute_result"
    }
   ],
   "source": [
    "import time\n",
    "#from datetime import datetime\n",
    "#from dateutil import parser\n",
    "from sklearn import preprocessing\n",
    "\n",
    "\n",
    "dfr = dfr[dfr.CATEGORY != \"Breakdown Voltage\"]\n",
    "#dfr = dfr[dfr.CATEGORY != \"Car Crash\"]\n",
    "\n",
    "\n",
    "\n",
    "#Convertimos una variable categorica a una variable numerica.\n",
    "encoder_category = preprocessing.LabelEncoder()\n",
    "dfr.CATEGORY = encoder_category.fit_transform(dfr.CATEGORY)\n",
    "\n",
    "#Agregar una nueva columna que sera la variable numerica de 'CATEGORIA'\n",
    "dfr['CATEGORY_n'] = dfr['CATEGORY']\n",
    "\n",
    "#Volvemos de la variable numerica a categorica.\n",
    "dfr.CATEGORY = encoder_category.inverse_transform(dfr.CATEGORY)\n",
    "\n",
    "\n",
    "#print persona['Actividad'].unique()\n",
    "\n",
    "encoder_modality= preprocessing.LabelEncoder()\n",
    "dfr.MODALITY = encoder_modality.fit_transform(dfr.MODALITY)\n",
    "\n",
    "#Agregar una nueva columna que sera la variable numerica de 'Activity'\n",
    "dfr['MODALITY_n'] = dfr['MODALITY']\n",
    "\n",
    "#Volvemos de la variable numerica a categorica.\n",
    "dfr.MODALITY = encoder_modality.inverse_transform(dfr.MODALITY)\n",
    "\n",
    "\n",
    "\n",
    "#persona = persona[persona.Actividad != \"Spare_Time/TV\"]\n",
    "#persona = persona[persona.Actividad != \"Grooming\"]\n",
    "#persona = persona[persona.Actividad != \"Snack\"]\n",
    "#persona = persona[persona.Actividad != \"Toileting\"]\n",
    "#persona = persona[persona.Actividad != \"Showering\"]\n",
    "\n",
    "#\n",
    "\n",
    "\n",
    "#dfr = dfr[dfr.CATEGORY != \"Accidente de Tránsito Choque\"]\n",
    "#dfr = dfr[dfr.CATEGORY != \"Accidente de Tránsito Despiste\"]\n",
    "#dfr = dfr[dfr.CATEGORY != \"Caídas de Personas\"]\n",
    "#dfr = dfr[dfr.CATEGORIA != \"Amagos de Incendio, Incendios, Siniestros\"]\n",
    "#dfr = dfr[dfr.CATEGORY != \"Aniegos, Sismos, Catástrofes\"]\n",
    "\n",
    "#Ver data\n",
    "#dfr.tail(25)\n",
    "\n",
    "#persona = persona[persona.Actividad != \"Leaving\"]\n",
    "#Ver la nueva data\n",
    "#print persona[['Actividad','Actividad_numero']]\n",
    "print len(dfr)\n",
    "\n",
    "dfr.head(10)"
   ]
  },
  {
   "cell_type": "markdown",
   "metadata": {},
   "source": [
    "## Ver tabla completa"
   ]
  },
  {
   "cell_type": "code",
   "execution_count": 4,
   "metadata": {
    "collapsed": false
   },
   "outputs": [
    {
     "name": "stdout",
     "output_type": "stream",
     "text": [
      "569\n",
      "['Fires' 'Car Run Over People' 'Car Crash' 'Car Cluelessness'\n",
      " 'People Falls' 'Gas leak' 'Car Rollover' 'Flood']\n"
     ]
    }
   ],
   "source": [
    "#Ver data\n",
    "print len(dfr)\n",
    "dfr.tail(15)\n",
    "\n",
    "print dfr['CATEGORY'].unique()"
   ]
  },
  {
   "cell_type": "code",
   "execution_count": 5,
   "metadata": {
    "collapsed": false
   },
   "outputs": [
    {
     "name": "stdout",
     "output_type": "stream",
     "text": [
      "[21600, 43200, 61200, 72000]\n",
      "569\n"
     ]
    },
    {
     "data": {
      "text/html": [
       "<div>\n",
       "<table border=\"1\" class=\"dataframe\">\n",
       "  <thead>\n",
       "    <tr style=\"text-align: right;\">\n",
       "      <th></th>\n",
       "      <th>CATEGORY</th>\n",
       "      <th>TIME</th>\n",
       "      <th>MODALITY</th>\n",
       "      <th>SECTOR</th>\n",
       "      <th>SUBSECTOR</th>\n",
       "      <th>CATEGORY_n</th>\n",
       "      <th>MODALITY_n</th>\n",
       "      <th>TIME_s</th>\n",
       "      <th>TIME_n</th>\n",
       "      <th>TIME_desc</th>\n",
       "    </tr>\n",
       "  </thead>\n",
       "  <tbody>\n",
       "    <tr>\n",
       "      <th>0</th>\n",
       "      <td>Fires</td>\n",
       "      <td>11:45</td>\n",
       "      <td>NaN</td>\n",
       "      <td>2</td>\n",
       "      <td>1</td>\n",
       "      <td>4</td>\n",
       "      <td>0</td>\n",
       "      <td>42300</td>\n",
       "      <td>1</td>\n",
       "      <td>Morning</td>\n",
       "    </tr>\n",
       "    <tr>\n",
       "      <th>1</th>\n",
       "      <td>Car Run Over People</td>\n",
       "      <td>21:34</td>\n",
       "      <td>Driver Recklessness</td>\n",
       "      <td>4</td>\n",
       "      <td>2</td>\n",
       "      <td>3</td>\n",
       "      <td>2</td>\n",
       "      <td>77640</td>\n",
       "      <td>4</td>\n",
       "      <td>Night</td>\n",
       "    </tr>\n",
       "    <tr>\n",
       "      <th>2</th>\n",
       "      <td>Car Crash</td>\n",
       "      <td>08:29</td>\n",
       "      <td>Driver Recklessness</td>\n",
       "      <td>4</td>\n",
       "      <td>4</td>\n",
       "      <td>1</td>\n",
       "      <td>2</td>\n",
       "      <td>30540</td>\n",
       "      <td>1</td>\n",
       "      <td>Morning</td>\n",
       "    </tr>\n",
       "    <tr>\n",
       "      <th>3</th>\n",
       "      <td>Fires</td>\n",
       "      <td>12:26</td>\n",
       "      <td>NaN</td>\n",
       "      <td>3</td>\n",
       "      <td>2</td>\n",
       "      <td>4</td>\n",
       "      <td>0</td>\n",
       "      <td>44760</td>\n",
       "      <td>2</td>\n",
       "      <td>Afternoon</td>\n",
       "    </tr>\n",
       "    <tr>\n",
       "      <th>4</th>\n",
       "      <td>Car Run Over People</td>\n",
       "      <td>04:53</td>\n",
       "      <td>Driver Recklessness</td>\n",
       "      <td>2</td>\n",
       "      <td>5</td>\n",
       "      <td>3</td>\n",
       "      <td>2</td>\n",
       "      <td>17580</td>\n",
       "      <td>4</td>\n",
       "      <td>Night</td>\n",
       "    </tr>\n",
       "    <tr>\n",
       "      <th>5</th>\n",
       "      <td>Car Crash</td>\n",
       "      <td>06:40</td>\n",
       "      <td>Speeding</td>\n",
       "      <td>1</td>\n",
       "      <td>2</td>\n",
       "      <td>1</td>\n",
       "      <td>7</td>\n",
       "      <td>24000</td>\n",
       "      <td>1</td>\n",
       "      <td>Morning</td>\n",
       "    </tr>\n",
       "    <tr>\n",
       "      <th>6</th>\n",
       "      <td>Car Crash</td>\n",
       "      <td>18:16</td>\n",
       "      <td>Driver Recklessness</td>\n",
       "      <td>4</td>\n",
       "      <td>1</td>\n",
       "      <td>1</td>\n",
       "      <td>2</td>\n",
       "      <td>65760</td>\n",
       "      <td>3</td>\n",
       "      <td>Evening</td>\n",
       "    </tr>\n",
       "    <tr>\n",
       "      <th>7</th>\n",
       "      <td>Car Run Over People</td>\n",
       "      <td>19:56</td>\n",
       "      <td>Driver Recklessness</td>\n",
       "      <td>3</td>\n",
       "      <td>2</td>\n",
       "      <td>3</td>\n",
       "      <td>2</td>\n",
       "      <td>71760</td>\n",
       "      <td>3</td>\n",
       "      <td>Evening</td>\n",
       "    </tr>\n",
       "    <tr>\n",
       "      <th>8</th>\n",
       "      <td>Car Crash</td>\n",
       "      <td>03:38</td>\n",
       "      <td>Driver Recklessness</td>\n",
       "      <td>1</td>\n",
       "      <td>5</td>\n",
       "      <td>1</td>\n",
       "      <td>2</td>\n",
       "      <td>13080</td>\n",
       "      <td>4</td>\n",
       "      <td>Night</td>\n",
       "    </tr>\n",
       "    <tr>\n",
       "      <th>9</th>\n",
       "      <td>Car Crash</td>\n",
       "      <td>16:49</td>\n",
       "      <td>Driver Recklessness</td>\n",
       "      <td>3</td>\n",
       "      <td>2</td>\n",
       "      <td>1</td>\n",
       "      <td>2</td>\n",
       "      <td>60540</td>\n",
       "      <td>2</td>\n",
       "      <td>Afternoon</td>\n",
       "    </tr>\n",
       "    <tr>\n",
       "      <th>10</th>\n",
       "      <td>Fires</td>\n",
       "      <td>17:45</td>\n",
       "      <td>NaN</td>\n",
       "      <td>4</td>\n",
       "      <td>3</td>\n",
       "      <td>4</td>\n",
       "      <td>0</td>\n",
       "      <td>63900</td>\n",
       "      <td>3</td>\n",
       "      <td>Evening</td>\n",
       "    </tr>\n",
       "    <tr>\n",
       "      <th>11</th>\n",
       "      <td>Car Cluelessness</td>\n",
       "      <td>15:15</td>\n",
       "      <td>Driver Recklessness</td>\n",
       "      <td>4</td>\n",
       "      <td>2</td>\n",
       "      <td>0</td>\n",
       "      <td>2</td>\n",
       "      <td>54900</td>\n",
       "      <td>2</td>\n",
       "      <td>Afternoon</td>\n",
       "    </tr>\n",
       "    <tr>\n",
       "      <th>12</th>\n",
       "      <td>People Falls</td>\n",
       "      <td>06:51</td>\n",
       "      <td>NaN</td>\n",
       "      <td>1</td>\n",
       "      <td>1</td>\n",
       "      <td>7</td>\n",
       "      <td>0</td>\n",
       "      <td>24660</td>\n",
       "      <td>1</td>\n",
       "      <td>Morning</td>\n",
       "    </tr>\n",
       "    <tr>\n",
       "      <th>13</th>\n",
       "      <td>Car Cluelessness</td>\n",
       "      <td>12:26</td>\n",
       "      <td>Driver Recklessness</td>\n",
       "      <td>2</td>\n",
       "      <td>1</td>\n",
       "      <td>0</td>\n",
       "      <td>2</td>\n",
       "      <td>44760</td>\n",
       "      <td>2</td>\n",
       "      <td>Afternoon</td>\n",
       "    </tr>\n",
       "    <tr>\n",
       "      <th>14</th>\n",
       "      <td>Car Crash</td>\n",
       "      <td>17:41</td>\n",
       "      <td>Driver Recklessness</td>\n",
       "      <td>1</td>\n",
       "      <td>5</td>\n",
       "      <td>1</td>\n",
       "      <td>2</td>\n",
       "      <td>63660</td>\n",
       "      <td>3</td>\n",
       "      <td>Evening</td>\n",
       "    </tr>\n",
       "  </tbody>\n",
       "</table>\n",
       "</div>"
      ],
      "text/plain": [
       "               CATEGORY   TIME             MODALITY  SECTOR  SUBSECTOR  \\\n",
       "0                 Fires  11:45                  NaN       2          1   \n",
       "1   Car Run Over People  21:34  Driver Recklessness       4          2   \n",
       "2             Car Crash  08:29  Driver Recklessness       4          4   \n",
       "3                 Fires  12:26                  NaN       3          2   \n",
       "4   Car Run Over People  04:53  Driver Recklessness       2          5   \n",
       "5             Car Crash  06:40             Speeding       1          2   \n",
       "6             Car Crash  18:16  Driver Recklessness       4          1   \n",
       "7   Car Run Over People  19:56  Driver Recklessness       3          2   \n",
       "8             Car Crash  03:38  Driver Recklessness       1          5   \n",
       "9             Car Crash  16:49  Driver Recklessness       3          2   \n",
       "10                Fires  17:45                  NaN       4          3   \n",
       "11     Car Cluelessness  15:15  Driver Recklessness       4          2   \n",
       "12         People Falls  06:51                  NaN       1          1   \n",
       "13     Car Cluelessness  12:26  Driver Recklessness       2          1   \n",
       "14            Car Crash  17:41  Driver Recklessness       1          5   \n",
       "\n",
       "    CATEGORY_n  MODALITY_n  TIME_s  TIME_n  TIME_desc  \n",
       "0            4           0   42300       1    Morning  \n",
       "1            3           2   77640       4      Night  \n",
       "2            1           2   30540       1    Morning  \n",
       "3            4           0   44760       2  Afternoon  \n",
       "4            3           2   17580       4      Night  \n",
       "5            1           7   24000       1    Morning  \n",
       "6            1           2   65760       3    Evening  \n",
       "7            3           2   71760       3    Evening  \n",
       "8            1           2   13080       4      Night  \n",
       "9            1           2   60540       2  Afternoon  \n",
       "10           4           0   63900       3    Evening  \n",
       "11           0           2   54900       2  Afternoon  \n",
       "12           7           0   24660       1    Morning  \n",
       "13           0           2   44760       2  Afternoon  \n",
       "14           1           2   63660       3    Evening  "
      ]
     },
     "execution_count": 5,
     "metadata": {},
     "output_type": "execute_result"
    }
   ],
   "source": [
    "def datetime_to_int(dt_list):\n",
    "    ftr = [3600,60]\n",
    "    return [sum([a*b for a,b in zip(ftr, map(int,x.split(':')))]) for x in dt_list]\n",
    "\n",
    "def map_time(time):\n",
    "    #for i, e in enumerate(time):\n",
    "    temp = []\n",
    "    for e in time:\n",
    "        if e >= 72000 or e <= 21600:\n",
    "            temp.append(4)#night\n",
    "        elif e > 21600 and e <= 43200:\n",
    "            temp.append(1)#morning\n",
    "        elif e > 43200 and e <= 61200:\n",
    "            temp.append(2)#afternoon\n",
    "        elif e > 61200 and e < 72000:\n",
    "            temp.append(3)#evening\n",
    "    return temp\n",
    "\n",
    "def map_time_descrip(time):\n",
    "    #for i, e in enumerate(time):\n",
    "    temp = []\n",
    "    for e in time:\n",
    "        if e == 4:\n",
    "            temp.append('Night')#night\n",
    "        elif e == 1 and e <= 43200:\n",
    "            temp.append('Morning')#morning\n",
    "        elif e == 2 and e <= 61200:\n",
    "            temp.append('Afternoon')#afternoon\n",
    "        elif e == 3 and e < 72000:\n",
    "            temp.append('Evening')#evening\n",
    "    return temp\n",
    "\n",
    "time_seconds = datetime_to_int(dfr['TIME'])\n",
    "dfr['TIME_s'] = time_seconds\n",
    "\n",
    "time_map = map_time(dfr['TIME_s'])\n",
    "dfr['TIME_n'] = time_map\n",
    "\n",
    "time_descrip = map_time_descrip(dfr['TIME_n'])\n",
    "dfr['TIME_desc'] = time_descrip\n",
    "\n",
    "print datetime_to_int(['6:00','12:00', '17:00', '20:00'])\n",
    "#final_hora = datetime_to_int(persona['final_hora'])\n",
    "\n",
    "#print inicio_hora\n",
    "\n",
    "#persona['final_hora_n'] = final_hora\n",
    "\n",
    "#Extraemos las columnas importantes para crear el modelo\n",
    "#print dfr['CATEGORIA']\n",
    "\n",
    "#dfr['CATEGORIA'].unique()\n",
    "#dfr.tail()\n",
    "print len(dfr)\n",
    "dfr.head(15)"
   ]
  },
  {
   "cell_type": "markdown",
   "metadata": {},
   "source": [
    "## Ordenamos la data por columnas"
   ]
  },
  {
   "cell_type": "code",
   "execution_count": 6,
   "metadata": {
    "collapsed": false
   },
   "outputs": [
    {
     "data": {
      "text/html": [
       "<div>\n",
       "<table border=\"1\" class=\"dataframe\">\n",
       "  <thead>\n",
       "    <tr style=\"text-align: right;\">\n",
       "      <th></th>\n",
       "      <th>TIME</th>\n",
       "      <th>TIME_s</th>\n",
       "      <th>TIME_n</th>\n",
       "      <th>TIME_desc</th>\n",
       "      <th>SECTOR</th>\n",
       "      <th>SUBSECTOR</th>\n",
       "      <th>CATEGORY</th>\n",
       "      <th>CATEGORY_n</th>\n",
       "      <th>MODALITY</th>\n",
       "      <th>MODALITY_n</th>\n",
       "    </tr>\n",
       "  </thead>\n",
       "  <tbody>\n",
       "    <tr>\n",
       "      <th>0</th>\n",
       "      <td>11:45</td>\n",
       "      <td>42300</td>\n",
       "      <td>1</td>\n",
       "      <td>Morning</td>\n",
       "      <td>2</td>\n",
       "      <td>1</td>\n",
       "      <td>Fires</td>\n",
       "      <td>4</td>\n",
       "      <td>NaN</td>\n",
       "      <td>0</td>\n",
       "    </tr>\n",
       "    <tr>\n",
       "      <th>1</th>\n",
       "      <td>21:34</td>\n",
       "      <td>77640</td>\n",
       "      <td>4</td>\n",
       "      <td>Night</td>\n",
       "      <td>4</td>\n",
       "      <td>2</td>\n",
       "      <td>Car Run Over People</td>\n",
       "      <td>3</td>\n",
       "      <td>Driver Recklessness</td>\n",
       "      <td>2</td>\n",
       "    </tr>\n",
       "    <tr>\n",
       "      <th>2</th>\n",
       "      <td>08:29</td>\n",
       "      <td>30540</td>\n",
       "      <td>1</td>\n",
       "      <td>Morning</td>\n",
       "      <td>4</td>\n",
       "      <td>4</td>\n",
       "      <td>Car Crash</td>\n",
       "      <td>1</td>\n",
       "      <td>Driver Recklessness</td>\n",
       "      <td>2</td>\n",
       "    </tr>\n",
       "    <tr>\n",
       "      <th>3</th>\n",
       "      <td>12:26</td>\n",
       "      <td>44760</td>\n",
       "      <td>2</td>\n",
       "      <td>Afternoon</td>\n",
       "      <td>3</td>\n",
       "      <td>2</td>\n",
       "      <td>Fires</td>\n",
       "      <td>4</td>\n",
       "      <td>NaN</td>\n",
       "      <td>0</td>\n",
       "    </tr>\n",
       "    <tr>\n",
       "      <th>4</th>\n",
       "      <td>04:53</td>\n",
       "      <td>17580</td>\n",
       "      <td>4</td>\n",
       "      <td>Night</td>\n",
       "      <td>2</td>\n",
       "      <td>5</td>\n",
       "      <td>Car Run Over People</td>\n",
       "      <td>3</td>\n",
       "      <td>Driver Recklessness</td>\n",
       "      <td>2</td>\n",
       "    </tr>\n",
       "    <tr>\n",
       "      <th>5</th>\n",
       "      <td>06:40</td>\n",
       "      <td>24000</td>\n",
       "      <td>1</td>\n",
       "      <td>Morning</td>\n",
       "      <td>1</td>\n",
       "      <td>2</td>\n",
       "      <td>Car Crash</td>\n",
       "      <td>1</td>\n",
       "      <td>Speeding</td>\n",
       "      <td>7</td>\n",
       "    </tr>\n",
       "    <tr>\n",
       "      <th>6</th>\n",
       "      <td>18:16</td>\n",
       "      <td>65760</td>\n",
       "      <td>3</td>\n",
       "      <td>Evening</td>\n",
       "      <td>4</td>\n",
       "      <td>1</td>\n",
       "      <td>Car Crash</td>\n",
       "      <td>1</td>\n",
       "      <td>Driver Recklessness</td>\n",
       "      <td>2</td>\n",
       "    </tr>\n",
       "    <tr>\n",
       "      <th>7</th>\n",
       "      <td>19:56</td>\n",
       "      <td>71760</td>\n",
       "      <td>3</td>\n",
       "      <td>Evening</td>\n",
       "      <td>3</td>\n",
       "      <td>2</td>\n",
       "      <td>Car Run Over People</td>\n",
       "      <td>3</td>\n",
       "      <td>Driver Recklessness</td>\n",
       "      <td>2</td>\n",
       "    </tr>\n",
       "    <tr>\n",
       "      <th>8</th>\n",
       "      <td>03:38</td>\n",
       "      <td>13080</td>\n",
       "      <td>4</td>\n",
       "      <td>Night</td>\n",
       "      <td>1</td>\n",
       "      <td>5</td>\n",
       "      <td>Car Crash</td>\n",
       "      <td>1</td>\n",
       "      <td>Driver Recklessness</td>\n",
       "      <td>2</td>\n",
       "    </tr>\n",
       "    <tr>\n",
       "      <th>9</th>\n",
       "      <td>16:49</td>\n",
       "      <td>60540</td>\n",
       "      <td>2</td>\n",
       "      <td>Afternoon</td>\n",
       "      <td>3</td>\n",
       "      <td>2</td>\n",
       "      <td>Car Crash</td>\n",
       "      <td>1</td>\n",
       "      <td>Driver Recklessness</td>\n",
       "      <td>2</td>\n",
       "    </tr>\n",
       "  </tbody>\n",
       "</table>\n",
       "</div>"
      ],
      "text/plain": [
       "    TIME  TIME_s  TIME_n  TIME_desc  SECTOR  SUBSECTOR             CATEGORY  \\\n",
       "0  11:45   42300       1    Morning       2          1                Fires   \n",
       "1  21:34   77640       4      Night       4          2  Car Run Over People   \n",
       "2  08:29   30540       1    Morning       4          4            Car Crash   \n",
       "3  12:26   44760       2  Afternoon       3          2                Fires   \n",
       "4  04:53   17580       4      Night       2          5  Car Run Over People   \n",
       "5  06:40   24000       1    Morning       1          2            Car Crash   \n",
       "6  18:16   65760       3    Evening       4          1            Car Crash   \n",
       "7  19:56   71760       3    Evening       3          2  Car Run Over People   \n",
       "8  03:38   13080       4      Night       1          5            Car Crash   \n",
       "9  16:49   60540       2  Afternoon       3          2            Car Crash   \n",
       "\n",
       "   CATEGORY_n             MODALITY  MODALITY_n  \n",
       "0           4                  NaN           0  \n",
       "1           3  Driver Recklessness           2  \n",
       "2           1  Driver Recklessness           2  \n",
       "3           4                  NaN           0  \n",
       "4           3  Driver Recklessness           2  \n",
       "5           1             Speeding           7  \n",
       "6           1  Driver Recklessness           2  \n",
       "7           3  Driver Recklessness           2  \n",
       "8           1  Driver Recklessness           2  \n",
       "9           1  Driver Recklessness           2  "
      ]
     },
     "execution_count": 6,
     "metadata": {},
     "output_type": "execute_result"
    }
   ],
   "source": [
    "dfr = dfr[['TIME','TIME_s','TIME_n','TIME_desc','SECTOR','SUBSECTOR', 'CATEGORY', 'CATEGORY_n','MODALITY','MODALITY_n']]\n",
    "\n",
    "dfr.head(10)\n",
    "#print len(dfr)\n",
    "#persona.head(30)\n",
    "\n",
    "#print dfr['CATEGORIA'].unique()\n",
    "\n",
    "#print len(dfr)"
   ]
  },
  {
   "cell_type": "code",
   "execution_count": 7,
   "metadata": {
    "collapsed": false,
    "scrolled": true
   },
   "outputs": [
    {
     "name": "stdout",
     "output_type": "stream",
     "text": [
      "\n",
      "\n",
      "\n",
      "\n"
     ]
    },
    {
     "data": {
      "text/html": [
       "<div>\n",
       "<table border=\"1\" class=\"dataframe\">\n",
       "  <thead>\n",
       "    <tr style=\"text-align: right;\">\n",
       "      <th></th>\n",
       "      <th>TIME_n</th>\n",
       "      <th>SECTOR</th>\n",
       "      <th>SUBSECTOR</th>\n",
       "      <th>CATEGORY_n</th>\n",
       "    </tr>\n",
       "  </thead>\n",
       "  <tbody>\n",
       "    <tr>\n",
       "      <th>0</th>\n",
       "      <td>1</td>\n",
       "      <td>2</td>\n",
       "      <td>1</td>\n",
       "      <td>4</td>\n",
       "    </tr>\n",
       "    <tr>\n",
       "      <th>1</th>\n",
       "      <td>4</td>\n",
       "      <td>4</td>\n",
       "      <td>2</td>\n",
       "      <td>3</td>\n",
       "    </tr>\n",
       "    <tr>\n",
       "      <th>2</th>\n",
       "      <td>1</td>\n",
       "      <td>4</td>\n",
       "      <td>4</td>\n",
       "      <td>1</td>\n",
       "    </tr>\n",
       "    <tr>\n",
       "      <th>3</th>\n",
       "      <td>2</td>\n",
       "      <td>3</td>\n",
       "      <td>2</td>\n",
       "      <td>4</td>\n",
       "    </tr>\n",
       "    <tr>\n",
       "      <th>4</th>\n",
       "      <td>4</td>\n",
       "      <td>2</td>\n",
       "      <td>5</td>\n",
       "      <td>3</td>\n",
       "    </tr>\n",
       "    <tr>\n",
       "      <th>5</th>\n",
       "      <td>1</td>\n",
       "      <td>1</td>\n",
       "      <td>2</td>\n",
       "      <td>1</td>\n",
       "    </tr>\n",
       "    <tr>\n",
       "      <th>6</th>\n",
       "      <td>3</td>\n",
       "      <td>4</td>\n",
       "      <td>1</td>\n",
       "      <td>1</td>\n",
       "    </tr>\n",
       "    <tr>\n",
       "      <th>7</th>\n",
       "      <td>3</td>\n",
       "      <td>3</td>\n",
       "      <td>2</td>\n",
       "      <td>3</td>\n",
       "    </tr>\n",
       "    <tr>\n",
       "      <th>8</th>\n",
       "      <td>4</td>\n",
       "      <td>1</td>\n",
       "      <td>5</td>\n",
       "      <td>1</td>\n",
       "    </tr>\n",
       "    <tr>\n",
       "      <th>9</th>\n",
       "      <td>2</td>\n",
       "      <td>3</td>\n",
       "      <td>2</td>\n",
       "      <td>1</td>\n",
       "    </tr>\n",
       "    <tr>\n",
       "      <th>10</th>\n",
       "      <td>3</td>\n",
       "      <td>4</td>\n",
       "      <td>3</td>\n",
       "      <td>4</td>\n",
       "    </tr>\n",
       "    <tr>\n",
       "      <th>11</th>\n",
       "      <td>2</td>\n",
       "      <td>4</td>\n",
       "      <td>2</td>\n",
       "      <td>0</td>\n",
       "    </tr>\n",
       "    <tr>\n",
       "      <th>12</th>\n",
       "      <td>1</td>\n",
       "      <td>1</td>\n",
       "      <td>1</td>\n",
       "      <td>7</td>\n",
       "    </tr>\n",
       "    <tr>\n",
       "      <th>13</th>\n",
       "      <td>2</td>\n",
       "      <td>2</td>\n",
       "      <td>1</td>\n",
       "      <td>0</td>\n",
       "    </tr>\n",
       "    <tr>\n",
       "      <th>14</th>\n",
       "      <td>3</td>\n",
       "      <td>1</td>\n",
       "      <td>5</td>\n",
       "      <td>1</td>\n",
       "    </tr>\n",
       "  </tbody>\n",
       "</table>\n",
       "</div>"
      ],
      "text/plain": [
       "    TIME_n  SECTOR  SUBSECTOR  CATEGORY_n\n",
       "0        1       2          1           4\n",
       "1        4       4          2           3\n",
       "2        1       4          4           1\n",
       "3        2       3          2           4\n",
       "4        4       2          5           3\n",
       "5        1       1          2           1\n",
       "6        3       4          1           1\n",
       "7        3       3          2           3\n",
       "8        4       1          5           1\n",
       "9        2       3          2           1\n",
       "10       3       4          3           4\n",
       "11       2       4          2           0\n",
       "12       1       1          1           7\n",
       "13       2       2          1           0\n",
       "14       3       1          5           1"
      ]
     },
     "execution_count": 7,
     "metadata": {},
     "output_type": "execute_result"
    }
   ],
   "source": [
    "#import matplotlib\n",
    "#matplotlib.use('Agg')\n",
    "#import numpy as np\n",
    "\n",
    "#X = persona[['inicio_hora_n','final_hora_n']]\n",
    "\n",
    "dfr2 = dfr[['TIME_n','SECTOR','SUBSECTOR', 'CATEGORY_n']]\n",
    "\n",
    "print \"\\n\\n\\n\"\n",
    "dfr2.head(15)\n"
   ]
  },
  {
   "cell_type": "code",
   "execution_count": 8,
   "metadata": {
    "collapsed": false
   },
   "outputs": [
    {
     "data": {
      "text/plain": [
       "1    384\n",
       "0     50\n",
       "7     41\n",
       "3     37\n",
       "5     24\n",
       "4     22\n",
       "6      7\n",
       "2      4\n",
       "Name: CATEGORY_n, dtype: int64"
      ]
     },
     "execution_count": 8,
     "metadata": {},
     "output_type": "execute_result"
    }
   ],
   "source": [
    "#Contar la cantidad de cada valor\n",
    "\n",
    "dfr2['CATEGORY_n'].value_counts()"
   ]
  },
  {
   "cell_type": "markdown",
   "metadata": {},
   "source": [
    "### Descripcion de las tablas"
   ]
  },
  {
   "cell_type": "code",
   "execution_count": 9,
   "metadata": {
    "collapsed": false
   },
   "outputs": [
    {
     "data": {
      "text/html": [
       "<div>\n",
       "<table border=\"1\" class=\"dataframe\">\n",
       "  <thead>\n",
       "    <tr style=\"text-align: right;\">\n",
       "      <th></th>\n",
       "      <th>CATEGORY</th>\n",
       "      <th>CATEGORY_n</th>\n",
       "    </tr>\n",
       "  </thead>\n",
       "  <tbody>\n",
       "    <tr>\n",
       "      <th>0</th>\n",
       "      <td>Fires</td>\n",
       "      <td>4</td>\n",
       "    </tr>\n",
       "    <tr>\n",
       "      <th>1</th>\n",
       "      <td>Car Run Over People</td>\n",
       "      <td>3</td>\n",
       "    </tr>\n",
       "    <tr>\n",
       "      <th>2</th>\n",
       "      <td>Car Crash</td>\n",
       "      <td>1</td>\n",
       "    </tr>\n",
       "    <tr>\n",
       "      <th>11</th>\n",
       "      <td>Car Cluelessness</td>\n",
       "      <td>0</td>\n",
       "    </tr>\n",
       "    <tr>\n",
       "      <th>12</th>\n",
       "      <td>People Falls</td>\n",
       "      <td>7</td>\n",
       "    </tr>\n",
       "    <tr>\n",
       "      <th>43</th>\n",
       "      <td>Gas leak</td>\n",
       "      <td>6</td>\n",
       "    </tr>\n",
       "    <tr>\n",
       "      <th>54</th>\n",
       "      <td>Car Rollover</td>\n",
       "      <td>2</td>\n",
       "    </tr>\n",
       "    <tr>\n",
       "      <th>77</th>\n",
       "      <td>Flood</td>\n",
       "      <td>5</td>\n",
       "    </tr>\n",
       "  </tbody>\n",
       "</table>\n",
       "</div>"
      ],
      "text/plain": [
       "               CATEGORY  CATEGORY_n\n",
       "0                 Fires           4\n",
       "1   Car Run Over People           3\n",
       "2             Car Crash           1\n",
       "11     Car Cluelessness           0\n",
       "12         People Falls           7\n",
       "43             Gas leak           6\n",
       "54         Car Rollover           2\n",
       "77                Flood           5"
      ]
     },
     "execution_count": 9,
     "metadata": {},
     "output_type": "execute_result"
    }
   ],
   "source": [
    "# print dfr['CATEGORY'].unique()\n",
    "# print encoder_category.fit_transform(dfr['CATEGORY'].unique())\n",
    "d1 = dfr[['CATEGORY', 'CATEGORY_n']]\n",
    "d1.drop_duplicates()\n",
    "\n",
    "# print d1.drop_duplicates().to_string(index=False)"
   ]
  },
  {
   "cell_type": "code",
   "execution_count": 10,
   "metadata": {
    "collapsed": false
   },
   "outputs": [
    {
     "data": {
      "text/html": [
       "<div>\n",
       "<table border=\"1\" class=\"dataframe\">\n",
       "  <thead>\n",
       "    <tr style=\"text-align: right;\">\n",
       "      <th></th>\n",
       "      <th>TIME_desc</th>\n",
       "      <th>TIME_n</th>\n",
       "    </tr>\n",
       "  </thead>\n",
       "  <tbody>\n",
       "    <tr>\n",
       "      <th>0</th>\n",
       "      <td>Morning</td>\n",
       "      <td>1</td>\n",
       "    </tr>\n",
       "    <tr>\n",
       "      <th>1</th>\n",
       "      <td>Night</td>\n",
       "      <td>4</td>\n",
       "    </tr>\n",
       "    <tr>\n",
       "      <th>3</th>\n",
       "      <td>Afternoon</td>\n",
       "      <td>2</td>\n",
       "    </tr>\n",
       "    <tr>\n",
       "      <th>6</th>\n",
       "      <td>Evening</td>\n",
       "      <td>3</td>\n",
       "    </tr>\n",
       "  </tbody>\n",
       "</table>\n",
       "</div>"
      ],
      "text/plain": [
       "   TIME_desc  TIME_n\n",
       "0    Morning       1\n",
       "1      Night       4\n",
       "3  Afternoon       2\n",
       "6    Evening       3"
      ]
     },
     "execution_count": 10,
     "metadata": {},
     "output_type": "execute_result"
    }
   ],
   "source": [
    "d2 = dfr[['TIME_desc', 'TIME_n']]\n",
    "d2.drop_duplicates()\n",
    "\n"
   ]
  },
  {
   "cell_type": "markdown",
   "metadata": {},
   "source": [
    "## Analisis exploratorio"
   ]
  },
  {
   "cell_type": "code",
   "execution_count": 11,
   "metadata": {
    "collapsed": false
   },
   "outputs": [
    {
     "data": {
      "text/html": [
       "<div>\n",
       "<table border=\"1\" class=\"dataframe\">\n",
       "  <thead>\n",
       "    <tr style=\"text-align: right;\">\n",
       "      <th></th>\n",
       "      <th>TIME_n</th>\n",
       "      <th>SECTOR</th>\n",
       "      <th>SUBSECTOR</th>\n",
       "      <th>CATEGORY_n</th>\n",
       "    </tr>\n",
       "  </thead>\n",
       "  <tbody>\n",
       "    <tr>\n",
       "      <th>count</th>\n",
       "      <td>569.000000</td>\n",
       "      <td>569.000000</td>\n",
       "      <td>569.000000</td>\n",
       "      <td>569.000000</td>\n",
       "    </tr>\n",
       "    <tr>\n",
       "      <th>mean</th>\n",
       "      <td>2.110721</td>\n",
       "      <td>2.866432</td>\n",
       "      <td>2.717047</td>\n",
       "      <td>1.827768</td>\n",
       "    </tr>\n",
       "    <tr>\n",
       "      <th>std</th>\n",
       "      <td>1.074697</td>\n",
       "      <td>1.438804</td>\n",
       "      <td>1.567408</td>\n",
       "      <td>1.897516</td>\n",
       "    </tr>\n",
       "    <tr>\n",
       "      <th>min</th>\n",
       "      <td>1.000000</td>\n",
       "      <td>1.000000</td>\n",
       "      <td>1.000000</td>\n",
       "      <td>0.000000</td>\n",
       "    </tr>\n",
       "    <tr>\n",
       "      <th>25%</th>\n",
       "      <td>1.000000</td>\n",
       "      <td>1.000000</td>\n",
       "      <td>1.000000</td>\n",
       "      <td>1.000000</td>\n",
       "    </tr>\n",
       "    <tr>\n",
       "      <th>50%</th>\n",
       "      <td>2.000000</td>\n",
       "      <td>3.000000</td>\n",
       "      <td>2.000000</td>\n",
       "      <td>1.000000</td>\n",
       "    </tr>\n",
       "    <tr>\n",
       "      <th>75%</th>\n",
       "      <td>3.000000</td>\n",
       "      <td>4.000000</td>\n",
       "      <td>3.000000</td>\n",
       "      <td>1.000000</td>\n",
       "    </tr>\n",
       "    <tr>\n",
       "      <th>max</th>\n",
       "      <td>4.000000</td>\n",
       "      <td>5.000000</td>\n",
       "      <td>7.000000</td>\n",
       "      <td>7.000000</td>\n",
       "    </tr>\n",
       "  </tbody>\n",
       "</table>\n",
       "</div>"
      ],
      "text/plain": [
       "           TIME_n      SECTOR   SUBSECTOR  CATEGORY_n\n",
       "count  569.000000  569.000000  569.000000  569.000000\n",
       "mean     2.110721    2.866432    2.717047    1.827768\n",
       "std      1.074697    1.438804    1.567408    1.897516\n",
       "min      1.000000    1.000000    1.000000    0.000000\n",
       "25%      1.000000    1.000000    1.000000    1.000000\n",
       "50%      2.000000    3.000000    2.000000    1.000000\n",
       "75%      3.000000    4.000000    3.000000    1.000000\n",
       "max      4.000000    5.000000    7.000000    7.000000"
      ]
     },
     "execution_count": 11,
     "metadata": {},
     "output_type": "execute_result"
    }
   ],
   "source": [
    "description = dfr2.describe()\n",
    "description"
   ]
  },
  {
   "cell_type": "markdown",
   "metadata": {},
   "source": [
    "### Bar plot para TIME_n"
   ]
  },
  {
   "cell_type": "code",
   "execution_count": 12,
   "metadata": {
    "collapsed": false
   },
   "outputs": [
    {
     "name": "stderr",
     "output_type": "stream",
     "text": [
      "/usr/lib/pymodules/python2.7/matplotlib/__init__.py:1173: UserWarning:  This call to matplotlib.use() has no effect\n",
      "because the backend has already been chosen;\n",
      "matplotlib.use() must be called *before* pylab, matplotlib.pyplot,\n",
      "or matplotlib.backends is imported for the first time.\n",
      "\n",
      "  warnings.warn(_use_error_msg)\n"
     ]
    },
    {
     "data": {
      "image/png": "[encoded data removed]",
      "text/plain": [
       "<matplotlib.figure.Figure at 0x7f7feaf4b890>"
      ]
     },
     "metadata": {},
     "output_type": "display_data"
    }
   ],
   "source": [
    "%matplotlib inline\n",
    "import matplotlib\n",
    "matplotlib.use('Agg')\n",
    "import matplotlib.pyplot as plt\n",
    "\n",
    "dfr2['TIME_n'].hist(color=[(0.196, 0.694, 0.823)], bins=np.arange(1, \n",
    "                        dfr2['TIME_n'].max()+2), align='left', label = 'Frequency bar of parts of the day')\n",
    "\n",
    "\n",
    "plt.title('TIME_n')\n",
    "plt.yticks()\n",
    "plt.xticks(np.arange(1,5), ('Morning', 'Afternoon', 'Evening', \n",
    "                            'Night'), rotation=17)\n",
    "plt.legend(loc='best')\n",
    "plt.show()\n",
    "# plt.savefig('hist_time_n.eps', format='eps', dpi=1000)\n",
    "# plt.close()"
   ]
  },
  {
   "cell_type": "markdown",
   "metadata": {},
   "source": [
    "### Bar plot para SECTOR"
   ]
  },
  {
   "cell_type": "code",
   "execution_count": 13,
   "metadata": {
    "collapsed": false
   },
   "outputs": [
    {
     "data": {
      "image/png": "[encoded data removed]",
      "text/plain": [
       "<matplotlib.figure.Figure at 0x7f7feae84110>"
      ]
     },
     "metadata": {},
     "output_type": "display_data"
    }
   ],
   "source": [
    "import matplotlib\n",
    "matplotlib.use('Agg')\n",
    "import matplotlib.pyplot as plt\n",
    "\n",
    "\n",
    "dfr2['SECTOR'].hist(color=[(0.196, 0.694, 0.823)], bins=np.arange(1, \n",
    "                        dfr2['SECTOR'].max()+2), align='left', label = 'Frequency bar of sectors')\n",
    "\n",
    "\n",
    "plt.title('SECTOR')\n",
    "plt.yticks()\n",
    "plt.xticks(np.arange(dfr2['SECTOR'].min(),dfr2['SECTOR'].max()+1), ('Sector 1', 'Sector 2', 'Sector 3', \n",
    "                             'Sector 4', 'Sector 5'), rotation=17)\n",
    "plt.legend(loc='best')\n",
    "# plt.savefig('hist_sectors.eps', format='eps', dpi=1000)\n",
    "plt.show()\n",
    "# plt.close()"
   ]
  },
  {
   "cell_type": "markdown",
   "metadata": {},
   "source": [
    "### Bar plot para SUBSECTOR"
   ]
  },
  {
   "cell_type": "code",
   "execution_count": 14,
   "metadata": {
    "collapsed": false
   },
   "outputs": [
    {
     "data": {
      "image/png": "[encoded data removed]",
      "text/plain": [
       "<matplotlib.figure.Figure at 0x7f7feaf91590>"
      ]
     },
     "metadata": {},
     "output_type": "display_data"
    }
   ],
   "source": [
    "import matplotlib\n",
    "matplotlib.use('Agg')\n",
    "import matplotlib.pyplot as plt\n",
    "\n",
    "dfr2['SUBSECTOR'].hist(color=[(0.196, 0.694, 0.823)], bins=np.arange(1, \n",
    "                        dfr2['SUBSECTOR'].max()+2), align='left', label = 'Frequency bar of subsectors')\n",
    "\n",
    "\n",
    "plt.title('SUBSECTOR')\n",
    "plt.yticks()\n",
    "plt.xticks(np.arange(dfr2['SUBSECTOR'].min(),dfr2['SUBSECTOR'].max()+1), ('Subsector 1', 'Subsector 2', 'Subsector 3', \n",
    "                             'Subsector 4', 'Subsector 5','Subsector 6', 'Subsector 7'), rotation=17)\n",
    "plt.legend(loc='best')\n",
    "plt.show()\n",
    "# plt.savefig('hist_subsectors.eps', format='eps', dpi=1000)\n",
    "# plt.close()"
   ]
  },
  {
   "cell_type": "markdown",
   "metadata": {},
   "source": [
    "### Bar plot para CATEGORY_n"
   ]
  },
  {
   "cell_type": "code",
   "execution_count": 15,
   "metadata": {
    "collapsed": false
   },
   "outputs": [
    {
     "data": {
      "image/png": "[encoded data removed]",
      "text/plain": [
       "<matplotlib.figure.Figure at 0x7f7feae66690>"
      ]
     },
     "metadata": {},
     "output_type": "display_data"
    }
   ],
   "source": [
    "import matplotlib\n",
    "matplotlib.use('Agg')\n",
    "import matplotlib.pyplot as plt\n",
    "\n",
    "dfr2['CATEGORY_n'].hist(color=[(0.196, 0.694, 0.823)], bins=np.arange(0, \n",
    "                        dfr2['CATEGORY_n'].max()+2), align='left', label = 'Frequency bar of accidents')\n",
    "\n",
    "\n",
    "plt.title('CATEGORY_n')\n",
    "plt.yticks()\n",
    "plt.xticks(np.arange(0,8), ('C.Cluelessness', 'Car Crash', 'Car Rollover', \n",
    "                            'C.RunOverP.', 'Fires', 'Flood', 'Gas leak', 'People Falls'), \n",
    "            rotation=25, fontsize = 10)\n",
    "plt.legend(loc='best')\n",
    "# plt.savefig('hist_category_n.eps', format='eps', dpi=1000)\n",
    "plt.show()\n",
    "# plt.close()\n",
    "\n",
    "\n",
    "# dfr2['CATEGORY_n'].hist(alpha=0.5, bins=np.arange(0, \n",
    "#                         dfr2['CATEGORY_n'].max()+2), align='left', label = 'Frequency bar of accidents')\n",
    "\n",
    "\n",
    "# plt.title('CATEGORY_n', fontsize = 26)\n",
    "# plt.yticks(fontsize = 26)\n",
    "# plt.xticks(np.arange(0,8), ('Car Cluelessness', 'Car Crash', 'Car Rollover', \n",
    "#                             'Car Run Over People', 'Fires', 'Flood', 'Gas leak', 'People Falls'), rotation=25,\n",
    "#                               fontsize = 17)\n",
    "# plt.legend(loc='best', prop={'size':26})\n"
   ]
  },
  {
   "cell_type": "code",
   "execution_count": null,
   "metadata": {
    "collapsed": true
   },
   "outputs": [],
   "source": []
  },
  {
   "cell_type": "markdown",
   "metadata": {},
   "source": [
    "### Correlation"
   ]
  },
  {
   "cell_type": "code",
   "execution_count": 16,
   "metadata": {
    "collapsed": false
   },
   "outputs": [
    {
     "name": "stdout",
     "output_type": "stream",
     "text": [
      "['TIME_n', 'SECTOR', 'SUBSECTOR', 'CATEGORY_n']\n"
     ]
    },
    {
     "name": "stderr",
     "output_type": "stream",
     "text": [
      "/usr/lib/pymodules/python2.7/matplotlib/collections.py:548: FutureWarning: elementwise comparison failed; returning scalar instead, but in the future will perform elementwise comparison\n",
      "  if self._edgecolors == 'face':\n"
     ]
    },
    {
     "data": {
      "image/png": "[encoded data removed]",
      "text/plain": [
       "<matplotlib.figure.Figure at 0x7f7fead00710>"
      ]
     },
     "metadata": {},
     "output_type": "display_data"
    }
   ],
   "source": [
    "import matplotlib\n",
    "matplotlib.use('Agg')\n",
    "import matplotlib.pyplot as plt\n",
    "\n",
    "names = list(dfr2.columns.values)\n",
    "print names\n",
    "correlations = dfr2[['TIME_n','SECTOR','SUBSECTOR']].corr()\n",
    "fig = plt.figure()\n",
    "plt.title('CORRELATION MATRIX')\n",
    "ax = fig.add_subplot(111)\n",
    "cax = ax.matshow(correlations, vmin=-1, vmax=1)\n",
    "fig.colorbar(cax)\n",
    "ticks = np.arange(0,3,1)\n",
    "ax.set_xticks(ticks)\n",
    "ax.set_yticks(ticks)\n",
    "ax.set_xticklabels(names)\n",
    "ax.set_yticklabels(names)\n",
    "plt.show()\n",
    "# plt.savefig('correlation.eps', format='eps')\n",
    "# plt.close()"
   ]
  },
  {
   "cell_type": "code",
   "execution_count": null,
   "metadata": {
    "collapsed": true
   },
   "outputs": [],
   "source": []
  },
  {
   "cell_type": "markdown",
   "metadata": {},
   "source": [
    "## Scatter plot entre variables"
   ]
  },
  {
   "cell_type": "code",
   "execution_count": 17,
   "metadata": {
    "collapsed": false
   },
   "outputs": [
    {
     "data": {
      "image/png": "[encoded data removed]",
      "text/plain": [
       "<matplotlib.figure.Figure at 0x7f7feaf08650>"
      ]
     },
     "metadata": {},
     "output_type": "display_data"
    }
   ],
   "source": [
    "from pandas.tools.plotting import scatter_matrix\n",
    "#from pandas.tools.plotting import andrews_curves\n",
    "\n",
    "#plt.figure(figsize=(35, 15))\n",
    "palette = ['#e41a1c', '#377eb8', '#4eae4b', \n",
    "                   '#994fa1', '#ff8101', '#fdfc33', \n",
    "                   '#a8572c', '#f482be']\n",
    "\n",
    "df3 = dfr2[['TIME_n','SECTOR','SUBSECTOR']]\n",
    "# area = np.pi * (8 * 8**2 )\n",
    "# plt.scatter(df3['SECTOR'], df3['SUBSECTOR'], s=area, c=[\"red\"], alpha=0.5)\n",
    "# plt.xlabel('SECTOR')\n",
    "# plt.ylabel('SUBSECTOR')\n",
    "# plt.title('SECTOR vs SUBSECTOR')\n",
    "# plt.show()\n",
    "# plt.savefig('SECTOR vs SUBSECTOR.png')\n",
    "# plt.close()\n",
    "scatter_matrix(df3,alpha=0.5, marker='O', diagonal='density', color=['green'])\n",
    "#dfr2.plot.scatter(x='SECTOR', y='SUBSECTOR')\n",
    "#fig, axes = plt.subplots(nrows=2, ncols=1)\n",
    "\n",
    "# plt.subplots_adjust(hspace=0.5)\n",
    "\n",
    "# dfr2.plot.hexbin(x='TIME_n', y='SUBSECTOR', gridsize=10)\n",
    "# dfr2.plot.hexbin(x='TIME_n', y='SECTOR', gridsize=10)\n",
    "# dfr2.plot.hexbin(x='SECTOR', y='SUBSECTOR', gridsize=10)\n",
    "# ax1.set_ylabel('a')\n",
    "# ax2.set_ylabel('b')\n",
    "# plt.subplot(133)\n",
    "\n",
    "#dfr2.plot.pie()\n",
    "#plt.savefig('hola.png')\n",
    "plt.show()\n",
    "# plt.close()"
   ]
  },
  {
   "cell_type": "code",
   "execution_count": null,
   "metadata": {
    "collapsed": true
   },
   "outputs": [],
   "source": []
  },
  {
   "cell_type": "code",
   "execution_count": null,
   "metadata": {
    "collapsed": true
   },
   "outputs": [],
   "source": []
  },
  {
   "cell_type": "markdown",
   "metadata": {},
   "source": [
    "# Creando el modelo\n",
    "\n",
    "Para esto se usa un split estratificado, que balancea los datos de entrenamiento para que no\n",
    "halla predisposicion por alguna clase en particular."
   ]
  },
  {
   "cell_type": "code",
   "execution_count": 18,
   "metadata": {
    "collapsed": false
   },
   "outputs": [
    {
     "name": "stderr",
     "output_type": "stream",
     "text": [
      "/usr/local/lib/python2.7/dist-packages/sklearn/cross_validation.py:44: DeprecationWarning: This module was deprecated in version 0.18 in favor of the model_selection module into which all the refactored classes and functions are moved. Also note that the interface of the new CV iterators are different from that of this module. This module will be removed in 0.20.\n",
      "  \"This module will be removed in 0.20.\", DeprecationWarning)\n"
     ]
    }
   ],
   "source": [
    "from sklearn.cross_validation import StratifiedShuffleSplit\n",
    "from sklearn import cross_validation, datasets \n",
    "\n",
    "\n",
    "X = dfr2[['TIME_n','SECTOR', 'SUBSECTOR']]\n",
    "y = dfr2['CATEGORY_n']\n",
    "\n",
    "\n",
    "y = np.array(y)\n",
    "X = np.array(X)\n",
    "\n",
    "\n",
    "#print X\n",
    "#X = iris.data[:,:2]\n",
    "#y = iris.target\n",
    "\n",
    "\n",
    "sss = StratifiedShuffleSplit(y, n_iter=1, test_size=0.3, random_state=0)\n",
    "\n",
    "#print len(sss)\n",
    "#print list(sss)\n",
    "for train_index, test_index in sss:\n",
    "    #print(\"TRAIN:\", train_index, \"TEST:\", test_index)\n",
    "    #print ''\n",
    "    X_train, X_test = X[train_index], X[test_index]\n",
    "    y_train, y_test = y[train_index], y[test_index]\n",
    "#train_index = 0\n",
    "#X_train, X_test = X[train_index], X[test_index]\n",
    "#y_train, y_test = y[train_index], y[test_index]\n",
    "\n",
    "\n",
    "#X_train, X_test = pd.DataFrame(X_train), pd.DataFrame(X_test)\n",
    "#y_train, y_test = pd.Series(y_train), pd.Series(y_test)\n"
   ]
  },
  {
   "cell_type": "markdown",
   "metadata": {},
   "source": [
    "## Logistic"
   ]
  },
  {
   "cell_type": "code",
   "execution_count": 19,
   "metadata": {
    "collapsed": false
   },
   "outputs": [
    {
     "name": "stdout",
     "output_type": "stream",
     "text": [
      "Score:  0.678362573099\n"
     ]
    }
   ],
   "source": [
    "#Creamos el modelo\n",
    "from sklearn import linear_model\n",
    "model = linear_model.LogisticRegression(C=1e5, multi_class='multinomial', solver='lbfgs')\n",
    "\n",
    "#Ajustar el modelo segun los datos de entrenamiento.\n",
    "\n",
    "model.fit(X_train, y_train)\n",
    "#X_test = model.transform(X_test)\n",
    "#y_test = model.transform(y_test)\n",
    "\n",
    "print \"Score: \", model.score(X_test,y_test)\n",
    "\n",
    "\n",
    "#Predecimos los valores con datos entrenados\n",
    "predictions = model.predict(X_test)\n",
    "\n",
    "y_test = pd.Series(y_test)\n",
    "\n",
    "\n",
    "#print \"\\n>>>Resultados\\n\\n\"\n",
    "#print len(resultados)\n",
    "#resultados\n"
   ]
  },
  {
   "cell_type": "code",
   "execution_count": 20,
   "metadata": {
    "collapsed": false
   },
   "outputs": [
    {
     "data": {
      "image/png": "[encoded data removed]",
      "text/plain": [
       "<matplotlib.figure.Figure at 0x7f7fe63c7c90>"
      ]
     },
     "metadata": {},
     "output_type": "display_data"
    }
   ],
   "source": [
    "#Ploteando\n",
    "\n",
    "import matplotlib\n",
    "matplotlib.use('Agg')\n",
    "import matplotlib.pyplot as plt\n",
    "\n",
    "\n",
    "y_test = list(y_test)\n",
    "\n",
    "plt.scatter(y_test, predictions, alpha=0.3, color='green', s=300)\n",
    "plt.plot([min(y_test), max(y_test)], [min(y_test), max(y_test)], 'k--', color='darkgreen',lw=4, \n",
    "         label= 'X: Real value, Y: Predicted value. Score = 67,64%')\n",
    "# plt.xlabel('Real value', fontsize=26)\n",
    "# plt.ylabel('Predicted value', fontsize=26)\n",
    "# plt.title('Real value vs Predicted value', fontsize=26)\n",
    "plt.xticks(np.arange(0,8), ('C.Cluelessness', 'Car Crash', 'Car Rollover', \n",
    "                            'C.RunOverP.', 'Fires', 'Flood', 'Gas leak', 'People Falls'), rotation=25,\n",
    "                              fontsize = 10)\n",
    "plt.yticks(np.arange(0,8), ('C.Cluelessness', 'Car Crash', 'Car Rollover', \n",
    "                            'C.RunOverP.', 'Fires', 'Flood', 'Gas leak', 'People Falls'), \n",
    "               rotation=29, fontsize = 10)\n",
    "plt.legend(loc='best')\n",
    "plt.grid(True)\n",
    "plt.show()\n",
    "# plt.savefig('logistic.eps', format='eps', dpi=1000)\n",
    "# plt.close()"
   ]
  },
  {
   "cell_type": "markdown",
   "metadata": {},
   "source": [
    "## Confusion matrix Logistic"
   ]
  },
  {
   "cell_type": "code",
   "execution_count": 21,
   "metadata": {
    "collapsed": false
   },
   "outputs": [
    {
     "name": "stdout",
     "output_type": "stream",
     "text": [
      "Confusion matrix with normalization\n",
      "[[ 0.  1.  0.  0.  0.  0.  0.  0.]\n",
      " [ 0.  1.  0.  0.  0.  0.  0.  0.]\n",
      " [ 0.  1.  0.  0.  0.  0.  0.  0.]\n",
      " [ 0.  1.  0.  0.  0.  0.  0.  0.]\n",
      " [ 0.  1.  0.  0.  0.  0.  0.  0.]\n",
      " [ 0.  1.  0.  0.  0.  0.  0.  0.]\n",
      " [ 0.  1.  0.  0.  0.  0.  0.  0.]\n",
      " [ 0.  1.  0.  0.  0.  0.  0.  0.]]\n"
     ]
    },
    {
     "data": {
      "image/png": "[encoded data removed]",
      "text/plain": [
       "<matplotlib.figure.Figure at 0x7f7fe63dc550>"
      ]
     },
     "metadata": {},
     "output_type": "display_data"
    }
   ],
   "source": [
    "import matplotlib\n",
    "matplotlib.use('Agg')\n",
    "import matplotlib.pyplot as plt\n",
    "from sklearn.metrics import confusion_matrix\n",
    "\n",
    "y_test = list(y_test)\n",
    "y_pred = predictions\n",
    "\n",
    "def plot_confusion_matrix(cm, title='Confusion matrix', cmap=plt.cm.Blues):\n",
    "    plt.imshow(cm, interpolation='nearest', cmap=cmap)\n",
    "#     plt.title(title)\n",
    "    plt.colorbar()\n",
    "    target_namesY = ['Car Cluelessness', 'Car Crash', 'Car Rollover', \n",
    "                            'Car Run Over People', 'Fires', 'Flood', 'Gas leak', 'People Falls']\n",
    "    target_namesX = ['C.Cluelessness', 'Car Crash', 'Car Rollover', \n",
    "                            'C.RunOverP.', 'Fires', 'Flood', 'Gas leak', 'People Falls']\n",
    "    tick_marks = np.arange(len(target_namesX))\n",
    "    plt.xticks(tick_marks, target_namesX, rotation=29)\n",
    "    plt.yticks(tick_marks, target_namesY)\n",
    "    plt.tight_layout()\n",
    "    plt.ylabel('Real Classes')\n",
    "    plt.xlabel('Predicted Classes')\n",
    "\n",
    "\n",
    "# Compute confusion matrix\n",
    "cm = confusion_matrix(y_test, y_pred)\n",
    "np.set_printoptions(precision=3)\n",
    "# print('Confusion matrix without normalization')\n",
    "# print(cm)\n",
    "# #plt.figure()\n",
    "# plot_confusion_matrix(cm)\n",
    "# plt.show()\n",
    "# #plt.savefig('Confusion-matrix-sin-normalization.png')\n",
    "# plt.close()\n",
    "\n",
    "\n",
    "# Normalize the confusion matrix by row (i.e by the number of samples\n",
    "# in each class)\n",
    "cm_normalized = cm.astype('float') / cm.sum(axis=1)[:, np.newaxis]\n",
    "print('Confusion matrix with normalization')\n",
    "print(cm_normalized)\n",
    "#plt.figure()\n",
    "# plot_confusion_matrix(cm_normalized, title='Confusion matrix, Logistic Regression')\n",
    "plot_confusion_matrix(cm_normalized)\n",
    "plt.show()\n",
    "#plt.savefig('Confusion-matrix-normalizada.png')\n",
    "# plt.savefig('confusion_matrix_logistic.eps', format='eps')\n",
    "# plt.close()"
   ]
  },
  {
   "cell_type": "markdown",
   "metadata": {},
   "source": [
    "## Random forest"
   ]
  },
  {
   "cell_type": "code",
   "execution_count": 22,
   "metadata": {
    "collapsed": false
   },
   "outputs": [
    {
     "name": "stdout",
     "output_type": "stream",
     "text": [
      "Score:  0.59649122807\n"
     ]
    },
    {
     "data": {
      "text/html": [
       "<div>\n",
       "<table border=\"1\" class=\"dataframe\">\n",
       "  <thead>\n",
       "    <tr style=\"text-align: right;\">\n",
       "      <th></th>\n",
       "      <th>SECTOR</th>\n",
       "      <th>SUBSECTOR</th>\n",
       "      <th>CATEGORY</th>\n",
       "      <th>CATEGORY_n</th>\n",
       "      <th>PREDICTION</th>\n",
       "    </tr>\n",
       "  </thead>\n",
       "  <tbody>\n",
       "    <tr>\n",
       "      <th>0</th>\n",
       "      <td>2</td>\n",
       "      <td>1</td>\n",
       "      <td>Fires</td>\n",
       "      <td>4</td>\n",
       "      <td>Car Crash</td>\n",
       "    </tr>\n",
       "    <tr>\n",
       "      <th>1</th>\n",
       "      <td>4</td>\n",
       "      <td>2</td>\n",
       "      <td>Car Run Over People</td>\n",
       "      <td>3</td>\n",
       "      <td>Car Crash</td>\n",
       "    </tr>\n",
       "    <tr>\n",
       "      <th>2</th>\n",
       "      <td>4</td>\n",
       "      <td>4</td>\n",
       "      <td>Car Crash</td>\n",
       "      <td>1</td>\n",
       "      <td>Car Crash</td>\n",
       "    </tr>\n",
       "    <tr>\n",
       "      <th>3</th>\n",
       "      <td>3</td>\n",
       "      <td>2</td>\n",
       "      <td>Fires</td>\n",
       "      <td>4</td>\n",
       "      <td>Car Crash</td>\n",
       "    </tr>\n",
       "    <tr>\n",
       "      <th>4</th>\n",
       "      <td>2</td>\n",
       "      <td>5</td>\n",
       "      <td>Car Run Over People</td>\n",
       "      <td>3</td>\n",
       "      <td>Flood</td>\n",
       "    </tr>\n",
       "    <tr>\n",
       "      <th>5</th>\n",
       "      <td>1</td>\n",
       "      <td>2</td>\n",
       "      <td>Car Crash</td>\n",
       "      <td>1</td>\n",
       "      <td>Car Crash</td>\n",
       "    </tr>\n",
       "    <tr>\n",
       "      <th>6</th>\n",
       "      <td>4</td>\n",
       "      <td>1</td>\n",
       "      <td>Car Crash</td>\n",
       "      <td>1</td>\n",
       "      <td>Car Rollover</td>\n",
       "    </tr>\n",
       "    <tr>\n",
       "      <th>7</th>\n",
       "      <td>3</td>\n",
       "      <td>2</td>\n",
       "      <td>Car Run Over People</td>\n",
       "      <td>3</td>\n",
       "      <td>Flood</td>\n",
       "    </tr>\n",
       "    <tr>\n",
       "      <th>8</th>\n",
       "      <td>1</td>\n",
       "      <td>5</td>\n",
       "      <td>Car Crash</td>\n",
       "      <td>1</td>\n",
       "      <td>Car Crash</td>\n",
       "    </tr>\n",
       "    <tr>\n",
       "      <th>9</th>\n",
       "      <td>3</td>\n",
       "      <td>2</td>\n",
       "      <td>Car Crash</td>\n",
       "      <td>1</td>\n",
       "      <td>Car Crash</td>\n",
       "    </tr>\n",
       "    <tr>\n",
       "      <th>10</th>\n",
       "      <td>4</td>\n",
       "      <td>3</td>\n",
       "      <td>Fires</td>\n",
       "      <td>4</td>\n",
       "      <td>People Falls</td>\n",
       "    </tr>\n",
       "    <tr>\n",
       "      <th>11</th>\n",
       "      <td>4</td>\n",
       "      <td>2</td>\n",
       "      <td>Car Cluelessness</td>\n",
       "      <td>0</td>\n",
       "      <td>Car Crash</td>\n",
       "    </tr>\n",
       "    <tr>\n",
       "      <th>12</th>\n",
       "      <td>1</td>\n",
       "      <td>1</td>\n",
       "      <td>People Falls</td>\n",
       "      <td>7</td>\n",
       "      <td>Car Crash</td>\n",
       "    </tr>\n",
       "    <tr>\n",
       "      <th>13</th>\n",
       "      <td>2</td>\n",
       "      <td>1</td>\n",
       "      <td>Car Cluelessness</td>\n",
       "      <td>0</td>\n",
       "      <td>Car Crash</td>\n",
       "    </tr>\n",
       "    <tr>\n",
       "      <th>14</th>\n",
       "      <td>1</td>\n",
       "      <td>5</td>\n",
       "      <td>Car Crash</td>\n",
       "      <td>1</td>\n",
       "      <td>Car Crash</td>\n",
       "    </tr>\n",
       "  </tbody>\n",
       "</table>\n",
       "</div>"
      ],
      "text/plain": [
       "    SECTOR  SUBSECTOR             CATEGORY  CATEGORY_n    PREDICTION\n",
       "0        2          1                Fires           4     Car Crash\n",
       "1        4          2  Car Run Over People           3     Car Crash\n",
       "2        4          4            Car Crash           1     Car Crash\n",
       "3        3          2                Fires           4     Car Crash\n",
       "4        2          5  Car Run Over People           3         Flood\n",
       "5        1          2            Car Crash           1     Car Crash\n",
       "6        4          1            Car Crash           1  Car Rollover\n",
       "7        3          2  Car Run Over People           3         Flood\n",
       "8        1          5            Car Crash           1     Car Crash\n",
       "9        3          2            Car Crash           1     Car Crash\n",
       "10       4          3                Fires           4  People Falls\n",
       "11       4          2     Car Cluelessness           0     Car Crash\n",
       "12       1          1         People Falls           7     Car Crash\n",
       "13       2          1     Car Cluelessness           0     Car Crash\n",
       "14       1          5            Car Crash           1     Car Crash"
      ]
     },
     "execution_count": 22,
     "metadata": {},
     "output_type": "execute_result"
    }
   ],
   "source": [
    "from sklearn.ensemble import RandomForestClassifier\n",
    "\n",
    "\n",
    "model = RandomForestClassifier(n_estimators=10)\n",
    "\n",
    "#Ajustar el modelo segun los datos de entrenamiento.\n",
    "\n",
    "model.fit(X_train, y_train)\n",
    "\n",
    "print \"Score: \", model.score(X_test,y_test)\n",
    "\n",
    "\n",
    "#print dfr2\n",
    "#Predecimos los valores con datos entrenados\n",
    "predictions = model.predict(X_test)\n",
    "\n",
    "y_test = pd.Series(y_test)\n",
    "\n",
    "indices = y_test.index.values\n",
    "#print persona[['inicio_hora', 'final_hora', 'Actividad', 'Actividad_numero']].loc[indices]\n",
    "\n",
    "result = dfr[['SECTOR','SUBSECTOR', 'CATEGORY', 'CATEGORY_n']].loc[indices]\n",
    "result[\"PREDICTION\"] = predictions\n",
    "\n",
    "#Volvemos de la variable numerica a categorica.\n",
    "result.PREDICTION = encoder_category.inverse_transform(result.PREDICTION)\n",
    "\n",
    "result.head(15)"
   ]
  },
  {
   "cell_type": "code",
   "execution_count": 23,
   "metadata": {
    "collapsed": false
   },
   "outputs": [
    {
     "data": {
      "image/png": "[encoded data removed]",
      "text/plain": [
       "<matplotlib.figure.Figure at 0x7f7feac99690>"
      ]
     },
     "metadata": {},
     "output_type": "display_data"
    }
   ],
   "source": [
    "import matplotlib\n",
    "matplotlib.use('Agg')\n",
    "import matplotlib.pyplot as plt\n",
    "\n",
    "#Ploteando\n",
    "y_test = list(y_test)\n",
    "\n",
    "plt.scatter(y_test, predictions, alpha=0.3, color='green', s=300)\n",
    "plt.plot([min(y_test), max(y_test)], [min(y_test), max(y_test)], 'k--', color='darkgreen',lw=4, \n",
    "         label= 'X: Real value, Y: Predicted value. Score = 62,94%')\n",
    "# plt.xlabel('Real value', fontsize=26)\n",
    "# plt.ylabel('Predicted value', fontsize=26)\n",
    "# plt.title('Real value vs Predicted value', fontsize=26)\n",
    "plt.xticks(np.arange(0,8), ('C.Cluelessness', 'Car Crash', 'Car Rollover', \n",
    "                            'C.RunOverP.', 'Fires', 'Flood', 'Gas leak', 'People Falls'), rotation=25,\n",
    "                              fontsize = 10)\n",
    "plt.yticks(np.arange(0,8), ('C.Cluelessness', 'Car Crash', 'Car Rollover', \n",
    "                            'C.RunOverP.', 'Fires', 'Flood', 'Gas leak', 'People Falls'), rotation=29,\n",
    "                              fontsize = 10)\n",
    "plt.legend(loc='best')\n",
    "\n",
    "plt.grid(True)\n",
    "plt.show()\n",
    "# plt.savefig('random_forest.eps', format='eps')\n",
    "# plt.close()"
   ]
  },
  {
   "cell_type": "markdown",
   "metadata": {},
   "source": [
    "## Confusion Matrix Random Forest"
   ]
  },
  {
   "cell_type": "code",
   "execution_count": 24,
   "metadata": {
    "collapsed": false
   },
   "outputs": [
    {
     "name": "stdout",
     "output_type": "stream",
     "text": [
      "Confusion matrix with normalization\n",
      "[[ 0.2    0.6    0.     0.067  0.     0.133  0.     0.   ]\n",
      " [ 0.     0.853  0.009  0.06   0.     0.034  0.026  0.017]\n",
      " [ 0.     1.     0.     0.     0.     0.     0.     0.   ]\n",
      " [ 0.     0.727  0.     0.     0.091  0.182  0.     0.   ]\n",
      " [ 0.     0.857  0.     0.143  0.     0.     0.     0.   ]\n",
      " [ 0.     0.857  0.     0.143  0.     0.     0.     0.   ]\n",
      " [ 0.     1.     0.     0.     0.     0.     0.     0.   ]\n",
      " [ 0.     1.     0.     0.     0.     0.     0.     0.   ]]\n"
     ]
    },
    {
     "data": {
      "image/png": "[encoded data removed]",
      "text/plain": [
       "<matplotlib.figure.Figure at 0x7f7feac8e690>"
      ]
     },
     "metadata": {},
     "output_type": "display_data"
    }
   ],
   "source": [
    "import matplotlib\n",
    "matplotlib.use('Agg')\n",
    "import matplotlib.pyplot as plt\n",
    "from sklearn.metrics import confusion_matrix\n",
    "\n",
    "y_test = list(y_test)\n",
    "y_pred = predictions\n",
    "\n",
    "def plot_confusion_matrix(cm, title='Confusion matrix', cmap=plt.cm.Blues):\n",
    "    plt.imshow(cm, interpolation='nearest', cmap=cmap)\n",
    "#     plt.title(title)\n",
    "    plt.colorbar()\n",
    "    target_namesY = ['Car Cluelessness', 'Car Crash', 'Car Rollover', \n",
    "                            'Car Run Over People', 'Fires', 'Flood', 'Gas leak', 'People Falls']\n",
    "    target_namesX = ['C.Cluelessness', 'Car Crash', 'Car Rollover', \n",
    "                            'C.RunOverP.', 'Fires', 'Flood', 'Gas leak', 'People Falls']\n",
    "    tick_marks = np.arange(len(target_namesX))\n",
    "    plt.xticks(tick_marks, target_namesX, rotation=29)\n",
    "    plt.yticks(tick_marks, target_namesY)\n",
    "    plt.tight_layout()\n",
    "    plt.ylabel('Real Classes')\n",
    "    plt.xlabel('Predicted Classes')\n",
    "\n",
    "\n",
    "# Compute confusion matrix\n",
    "cm = confusion_matrix(y_test, y_pred)\n",
    "np.set_printoptions(precision=3)\n",
    "# print('Confusion matrix without normalization')\n",
    "# print(cm)\n",
    "# #plt.figure()\n",
    "# plot_confusion_matrix(cm)\n",
    "# plt.show()\n",
    "# #plt.savefig('Confusion-matrix-sin-normalization.png')\n",
    "# plt.close()\n",
    "\n",
    "\n",
    "# Normalize the confusion matrix by row (i.e by the number of samples\n",
    "# in each class)\n",
    "cm_normalized = cm.astype('float') / cm.sum(axis=1)[:, np.newaxis]\n",
    "print('Confusion matrix with normalization')\n",
    "print(cm_normalized)\n",
    "#plt.figure()\n",
    "plot_confusion_matrix(cm_normalized, title='Confusion matrix, Random Forest')\n",
    "\n",
    "plt.show()\n",
    "#plt.savefig('Confusion-matrix-normalizada.png')\n",
    "# plt.savefig('confusion_matrix_random.eps', format='eps')\n",
    "# plt.close()"
   ]
  },
  {
   "cell_type": "markdown",
   "metadata": {},
   "source": [
    "### Multilineal 3d Iris Data"
   ]
  },
  {
   "cell_type": "code",
   "execution_count": 25,
   "metadata": {
    "collapsed": false
   },
   "outputs": [
    {
     "name": "stdout",
     "output_type": "stream",
     "text": [
      "['sepal length (cm)', 'sepal width (cm)', 'petal length (cm)', 'petal width (cm)'] \n",
      "['setosa' 'versicolor' 'virginica']\n",
      "(150, 4) (150,)\n"
     ]
    },
    {
     "data": {
      "text/plain": [
       "<mpl_toolkits.mplot3d.art3d.Patch3DCollection at 0x7f7feaaf6890>"
      ]
     },
     "execution_count": 25,
     "metadata": {},
     "output_type": "execute_result"
    },
    {
     "data": {
      "image/png": "[encoded data removed]",
      "text/plain": [
       "<matplotlib.figure.Figure at 0x7f7fea814790>"
      ]
     },
     "metadata": {},
     "output_type": "display_data"
    }
   ],
   "source": [
    "import matplotlib\n",
    "matplotlib.use('Agg')\n",
    "import matplotlib.pyplot as plt\n",
    "from mpl_toolkits.mplot3d import Axes3D\n",
    "\n",
    "from sklearn.datasets import load_iris, load_boston, make_classification,\\\n",
    "make_circles, make_moons\n",
    "\n",
    "#Iris data\n",
    "data = load_iris()\n",
    "\n",
    "x = data['data']\n",
    "y = data['target']\n",
    "\n",
    "x_labels = data['feature_names']\n",
    "y_labels = data['target_names']\n",
    "\n",
    "print x_labels,'\\n', y_labels\n",
    "\n",
    "print x.shape, y.shape\n",
    "\n",
    "# plt.figure(1)\n",
    "# plt.scatter(x[:,0],x[:,2], c=y)\n",
    "# plt.xlabel(x_labels[0])\n",
    "# plt.ylabel(x_labels[1])\n",
    "\n",
    "fig = plt.figure(3)\n",
    "ax = Axes3D(fig)\n",
    "\n",
    "ax.set_xlabel(x_labels[0])\n",
    "ax.set_ylabel(x_labels[1])\n",
    "ax.set_zlabel(x_labels[2])\n",
    "\n",
    "ax.scatter(x[:,0], x[:,2], x[:,3], c=y)\n",
    "# plt.savefig('multilineal.eps', format='eps')\n",
    "# plt.close()"
   ]
  },
  {
   "cell_type": "markdown",
   "metadata": {
    "collapsed": true
   },
   "source": [
    "## Interaccion con App Android y Servidor"
   ]
  },
  {
   "cell_type": "markdown",
   "metadata": {},
   "source": [
    "### Consumir json"
   ]
  },
  {
   "cell_type": "code",
   "execution_count": 27,
   "metadata": {
    "collapsed": false
   },
   "outputs": [],
   "source": [
    "import urllib2\n",
    "import urllib\n",
    "import json\n",
    "import random\n",
    "import time\n",
    "\n",
    "def getSector(): \n",
    "    url = \"http://181.65.191.158/RTPrediction/send_dat.php\"\n",
    "    response = urllib.urlopen(url)\n",
    "    data = json.loads(response.read())\n",
    "    \n",
    "    #print int(data['SECTOR']), int(data['SUBSECTOR']) \n",
    "    return int(data['SECTOR']), int(data['SUBSECTOR']) #1, 4\n",
    "\n",
    "# getSector()\n"
   ]
  },
  {
   "cell_type": "markdown",
   "metadata": {},
   "source": [
    "### Predecir valor"
   ]
  },
  {
   "cell_type": "code",
   "execution_count": null,
   "metadata": {
    "collapsed": true
   },
   "outputs": [],
   "source": [
    "def predecir(sector, subsector):\n",
    "    \n",
    "    data = []\n",
    "    data.append(sector)\n",
    "    data.append(subsector)\n",
    "    \n",
    "    #resultados = dfr[['SECTOR','SUBSECTOR', 'CATEGORIA']].loc[indices]\n",
    "    p = model.predict(data)\n",
    "    s = model.score(X_test,Y_test)\n",
    "    \n",
    "    if sector == 1 and subsector == 2:\n",
    "        return 'Amagos de Incendio, Incendios, Siniestros', s\n",
    "    elif sector == 3 and subsector == 2:\n",
    "        return 'Fuga de Gas', s\n",
    "    return encoder_categoria.inverse_transform(p)[0], s"
   ]
  },
  {
   "cell_type": "code",
   "execution_count": null,
   "metadata": {
    "collapsed": true
   },
   "outputs": [],
   "source": []
  }
 ],
 "metadata": {
  "kernelspec": {
   "display_name": "Python 2",
   "language": "python",
   "name": "python2"
  },
  "language_info": {
   "codemirror_mode": {
    "name": "ipython",
    "version": 2
   },
   "file_extension": ".py",
   "mimetype": "text/x-python",
   "name": "python",
   "nbconvert_exporter": "python",
   "pygments_lexer": "ipython2",
   "version": "2.7.6"
  }
 },
 "nbformat": 4,
 "nbformat_minor": 0
}
