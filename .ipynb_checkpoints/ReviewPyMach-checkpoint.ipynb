{
 "cells": [
  {
   "cell_type": "markdown",
   "metadata": {},
   "source": [
    "# Machine Learning Pipeline\n",
    "\n",
    "### Los siguientes capitulos se encargan  de explicar todos los pasos para la creacion de un modelo de Machine Learning."
   ]
  },
  {
   "cell_type": "markdown",
   "metadata": {},
   "source": [
    "# Chapter 2"
   ]
  },
  {
   "cell_type": "code",
   "execution_count": 8,
   "metadata": {
    "collapsed": false
   },
   "outputs": [
    {
     "name": "stdout",
     "output_type": "stream",
     "text": [
      "(150, 4)\n",
      "<class 'pandas.core.frame.DataFrame'>\n",
      "<class 'pandas.core.frame.DataFrame'>\n"
     ]
    }
   ],
   "source": [
    "from sklearn.datasets import load_iris\n",
    "from sklearn import preprocessing\n",
    "# load the Iris dataset\n",
    "iris = load_iris()\n",
    "print(iris.data.shape)\n",
    "# separate the data and target attributes\n",
    "X = iris.data\n",
    "y = iris.target\n",
    "X = pandas.DataFrame(X)\n",
    "print type(X.head(10))\n",
    "print type(X.head(10).dropna())"
   ]
  },
  {
   "cell_type": "code",
   "execution_count": 1,
   "metadata": {
    "collapsed": false
   },
   "outputs": [
    {
     "name": "stdout",
     "output_type": "stream",
     "text": [
      " scipy: 0.17.1 \n",
      " numpy: 1.10.1 \n",
      " matplotlib: 1.3.1 \n",
      " pandas: 0.17.0 \n",
      " sklearn: 0.18 \n"
     ]
    }
   ],
   "source": [
    "import scipy\n",
    "import numpy\n",
    "import matplotlib\n",
    "import pandas\n",
    "import sklearn\n",
    "\n",
    "print( ' scipy: {} ' .format(scipy.__version__))\n",
    "print( ' numpy: {} ' .format(numpy.__version__))\n",
    "print( ' matplotlib: {} ' .format(matplotlib.__version__))\n",
    "print( ' pandas: {} ' .format(pandas.__version__))\n",
    "print( ' sklearn: {} ' .format(sklearn.__version__))"
   ]
  },
  {
   "cell_type": "markdown",
   "metadata": {},
   "source": [
    "# Chapter 3"
   ]
  },
  {
   "cell_type": "code",
   "execution_count": 2,
   "metadata": {
    "collapsed": false
   },
   "outputs": [
    {
     "name": "stdout",
     "output_type": "stream",
     "text": [
      "   one  two  three\n",
      "a    1    2      3\n",
      "b    4    5      6\n"
     ]
    }
   ],
   "source": [
    "myarray = numpy.array([[1,2,3], [4,5,6]])\n",
    "rownames = ['a', 'b']\n",
    "colnames = ['one', 'two', 'three']\n",
    "df = pandas.DataFrame(myarray, index=rownames, columns=colnames)\n",
    "print(df)\n",
    "\n"
   ]
  },
  {
   "cell_type": "code",
   "execution_count": 3,
   "metadata": {
    "collapsed": false
   },
   "outputs": [
    {
     "name": "stdout",
     "output_type": "stream",
     "text": [
      "a    1\n",
      "b    4\n",
      "Name: one, dtype: int64\n"
     ]
    }
   ],
   "source": [
    "print(df['one'])"
   ]
  },
  {
   "cell_type": "markdown",
   "metadata": {},
   "source": [
    "# Chapter 4\n",
    "\n",
    "La Base de datos Pima Indians Diabetes es una base de datos, donde se ha recogido muestras biologicas de pacientes de la tribu de los indigenas Pima, en EEUU (Arizona posiblemente), de mujeres de al menos 21 anios de edad. Mas informacion en https://archive.ics.uci.edu/ml/datasets/Pima+Indians+Diabetes"
   ]
  },
  {
   "cell_type": "code",
   "execution_count": 4,
   "metadata": {
    "collapsed": false
   },
   "outputs": [
    {
     "name": "stdout",
     "output_type": "stream",
     "text": [
      "(768, 9)\n"
     ]
    }
   ],
   "source": [
    "import urllib\n",
    "#Database: pima-indians-diabetes\n",
    "url = \"https://goo.gl/vhm1eU\"\n",
    "raw_data = urllib.urlopen(url)\n",
    "dataset = numpy.loadtxt(raw_data, delimiter=\",\")\n",
    "print(dataset.shape)"
   ]
  },
  {
   "cell_type": "code",
   "execution_count": null,
   "metadata": {
    "collapsed": false
   },
   "outputs": [],
   "source": []
  },
  {
   "cell_type": "code",
   "execution_count": 5,
   "metadata": {
    "collapsed": false
   },
   "outputs": [
    {
     "name": "stdout",
     "output_type": "stream",
     "text": [
      "(768, 9)\n"
     ]
    },
    {
     "data": {
      "text/html": [
       "<div>\n",
       "<table border=\"1\" class=\"dataframe\">\n",
       "  <thead>\n",
       "    <tr style=\"text-align: right;\">\n",
       "      <th></th>\n",
       "      <th>preg</th>\n",
       "      <th>plas</th>\n",
       "      <th>pres</th>\n",
       "      <th>skin</th>\n",
       "      <th>test</th>\n",
       "      <th>mass</th>\n",
       "      <th>pedi</th>\n",
       "      <th>age</th>\n",
       "      <th>class</th>\n",
       "    </tr>\n",
       "  </thead>\n",
       "  <tbody>\n",
       "    <tr>\n",
       "      <th>0</th>\n",
       "      <td>6</td>\n",
       "      <td>148</td>\n",
       "      <td>72</td>\n",
       "      <td>35</td>\n",
       "      <td>0</td>\n",
       "      <td>33.6</td>\n",
       "      <td>0.627</td>\n",
       "      <td>50</td>\n",
       "      <td>1</td>\n",
       "    </tr>\n",
       "    <tr>\n",
       "      <th>1</th>\n",
       "      <td>1</td>\n",
       "      <td>85</td>\n",
       "      <td>66</td>\n",
       "      <td>29</td>\n",
       "      <td>0</td>\n",
       "      <td>26.6</td>\n",
       "      <td>0.351</td>\n",
       "      <td>31</td>\n",
       "      <td>0</td>\n",
       "    </tr>\n",
       "    <tr>\n",
       "      <th>2</th>\n",
       "      <td>8</td>\n",
       "      <td>183</td>\n",
       "      <td>64</td>\n",
       "      <td>0</td>\n",
       "      <td>0</td>\n",
       "      <td>23.3</td>\n",
       "      <td>0.672</td>\n",
       "      <td>32</td>\n",
       "      <td>1</td>\n",
       "    </tr>\n",
       "    <tr>\n",
       "      <th>3</th>\n",
       "      <td>1</td>\n",
       "      <td>89</td>\n",
       "      <td>66</td>\n",
       "      <td>23</td>\n",
       "      <td>94</td>\n",
       "      <td>28.1</td>\n",
       "      <td>0.167</td>\n",
       "      <td>21</td>\n",
       "      <td>0</td>\n",
       "    </tr>\n",
       "    <tr>\n",
       "      <th>4</th>\n",
       "      <td>0</td>\n",
       "      <td>137</td>\n",
       "      <td>40</td>\n",
       "      <td>35</td>\n",
       "      <td>168</td>\n",
       "      <td>43.1</td>\n",
       "      <td>2.288</td>\n",
       "      <td>33</td>\n",
       "      <td>1</td>\n",
       "    </tr>\n",
       "    <tr>\n",
       "      <th>5</th>\n",
       "      <td>5</td>\n",
       "      <td>116</td>\n",
       "      <td>74</td>\n",
       "      <td>0</td>\n",
       "      <td>0</td>\n",
       "      <td>25.6</td>\n",
       "      <td>0.201</td>\n",
       "      <td>30</td>\n",
       "      <td>0</td>\n",
       "    </tr>\n",
       "    <tr>\n",
       "      <th>6</th>\n",
       "      <td>3</td>\n",
       "      <td>78</td>\n",
       "      <td>50</td>\n",
       "      <td>32</td>\n",
       "      <td>88</td>\n",
       "      <td>31.0</td>\n",
       "      <td>0.248</td>\n",
       "      <td>26</td>\n",
       "      <td>1</td>\n",
       "    </tr>\n",
       "    <tr>\n",
       "      <th>7</th>\n",
       "      <td>10</td>\n",
       "      <td>115</td>\n",
       "      <td>0</td>\n",
       "      <td>0</td>\n",
       "      <td>0</td>\n",
       "      <td>35.3</td>\n",
       "      <td>0.134</td>\n",
       "      <td>29</td>\n",
       "      <td>0</td>\n",
       "    </tr>\n",
       "    <tr>\n",
       "      <th>8</th>\n",
       "      <td>2</td>\n",
       "      <td>197</td>\n",
       "      <td>70</td>\n",
       "      <td>45</td>\n",
       "      <td>543</td>\n",
       "      <td>30.5</td>\n",
       "      <td>0.158</td>\n",
       "      <td>53</td>\n",
       "      <td>1</td>\n",
       "    </tr>\n",
       "    <tr>\n",
       "      <th>9</th>\n",
       "      <td>8</td>\n",
       "      <td>125</td>\n",
       "      <td>96</td>\n",
       "      <td>0</td>\n",
       "      <td>0</td>\n",
       "      <td>0.0</td>\n",
       "      <td>0.232</td>\n",
       "      <td>54</td>\n",
       "      <td>1</td>\n",
       "    </tr>\n",
       "    <tr>\n",
       "      <th>10</th>\n",
       "      <td>4</td>\n",
       "      <td>110</td>\n",
       "      <td>92</td>\n",
       "      <td>0</td>\n",
       "      <td>0</td>\n",
       "      <td>37.6</td>\n",
       "      <td>0.191</td>\n",
       "      <td>30</td>\n",
       "      <td>0</td>\n",
       "    </tr>\n",
       "    <tr>\n",
       "      <th>11</th>\n",
       "      <td>10</td>\n",
       "      <td>168</td>\n",
       "      <td>74</td>\n",
       "      <td>0</td>\n",
       "      <td>0</td>\n",
       "      <td>38.0</td>\n",
       "      <td>0.537</td>\n",
       "      <td>34</td>\n",
       "      <td>1</td>\n",
       "    </tr>\n",
       "    <tr>\n",
       "      <th>12</th>\n",
       "      <td>10</td>\n",
       "      <td>139</td>\n",
       "      <td>80</td>\n",
       "      <td>0</td>\n",
       "      <td>0</td>\n",
       "      <td>27.1</td>\n",
       "      <td>1.441</td>\n",
       "      <td>57</td>\n",
       "      <td>0</td>\n",
       "    </tr>\n",
       "    <tr>\n",
       "      <th>13</th>\n",
       "      <td>1</td>\n",
       "      <td>189</td>\n",
       "      <td>60</td>\n",
       "      <td>23</td>\n",
       "      <td>846</td>\n",
       "      <td>30.1</td>\n",
       "      <td>0.398</td>\n",
       "      <td>59</td>\n",
       "      <td>1</td>\n",
       "    </tr>\n",
       "    <tr>\n",
       "      <th>14</th>\n",
       "      <td>5</td>\n",
       "      <td>166</td>\n",
       "      <td>72</td>\n",
       "      <td>19</td>\n",
       "      <td>175</td>\n",
       "      <td>25.8</td>\n",
       "      <td>0.587</td>\n",
       "      <td>51</td>\n",
       "      <td>1</td>\n",
       "    </tr>\n",
       "  </tbody>\n",
       "</table>\n",
       "</div>"
      ],
      "text/plain": [
       "    preg  plas  pres  skin  test  mass   pedi  age  class\n",
       "0      6   148    72    35     0  33.6  0.627   50      1\n",
       "1      1    85    66    29     0  26.6  0.351   31      0\n",
       "2      8   183    64     0     0  23.3  0.672   32      1\n",
       "3      1    89    66    23    94  28.1  0.167   21      0\n",
       "4      0   137    40    35   168  43.1  2.288   33      1\n",
       "5      5   116    74     0     0  25.6  0.201   30      0\n",
       "6      3    78    50    32    88  31.0  0.248   26      1\n",
       "7     10   115     0     0     0  35.3  0.134   29      0\n",
       "8      2   197    70    45   543  30.5  0.158   53      1\n",
       "9      8   125    96     0     0   0.0  0.232   54      1\n",
       "10     4   110    92     0     0  37.6  0.191   30      0\n",
       "11    10   168    74     0     0  38.0  0.537   34      1\n",
       "12    10   139    80     0     0  27.1  1.441   57      0\n",
       "13     1   189    60    23   846  30.1  0.398   59      1\n",
       "14     5   166    72    19   175  25.8  0.587   51      1"
      ]
     },
     "execution_count": 5,
     "metadata": {},
     "output_type": "execute_result"
    }
   ],
   "source": [
    "url = \"https://goo.gl/vhm1eU\"\n",
    "names = ['preg', 'plas', 'pres', 'skin', 'test', 'mass', 'pedi', 'age', 'class']\n",
    "\n",
    "data = pandas.read_csv(url, names=names)\n",
    "print(data.shape)\n",
    "data.head(15)"
   ]
  },
  {
   "cell_type": "markdown",
   "metadata": {},
   "source": [
    "# Chapter 5 - Understand Your Data With Descriptive Statistics"
   ]
  },
  {
   "cell_type": "code",
   "execution_count": 6,
   "metadata": {
    "collapsed": false
   },
   "outputs": [
    {
     "name": "stdout",
     "output_type": "stream",
     "text": [
      "          preg     plas     pres     skin     test     mass     pedi      age    class\n",
      "count  768.000  768.000  768.000  768.000  768.000  768.000  768.000  768.000  768.000\n",
      "mean     3.845  120.895   69.105   20.536   79.799   31.993    0.472   33.241    0.349\n",
      "std      3.370   31.973   19.356   15.952  115.244    7.884    0.331   11.760    0.477\n",
      "min      0.000    0.000    0.000    0.000    0.000    0.000    0.078   21.000    0.000\n",
      "25%      1.000   99.000   62.000    0.000    0.000   27.300    0.244   24.000    0.000\n",
      "50%      3.000  117.000   72.000   23.000   30.500   32.000    0.372   29.000    0.000\n",
      "75%      6.000  140.250   80.000   32.000  127.250   36.600    0.626   41.000    1.000\n",
      "max     17.000  199.000  122.000   99.000  846.000   67.100    2.420   81.000    1.000\n"
     ]
    }
   ],
   "source": [
    "url = \"https://goo.gl/vhm1eU\"\n",
    "names = ['preg', 'plas', 'pres', 'skin', 'test', 'mass', 'pedi', 'age', 'class']\n",
    "data = pandas.read_csv(url, names=names)\n",
    "pandas.set_option('display.width', 100)\n",
    "pandas.set_option('precision', 3)\n",
    "description = data.describe()\n",
    "print(description)"
   ]
  },
  {
   "cell_type": "code",
   "execution_count": 7,
   "metadata": {
    "collapsed": false
   },
   "outputs": [
    {
     "name": "stdout",
     "output_type": "stream",
     "text": [
      "class\n",
      "0    500\n",
      "1    268\n",
      "dtype: int64\n"
     ]
    }
   ],
   "source": [
    "#It is useful for knowing how balanced the class values are.\n",
    "class_counts = data.groupby('class').size()\n",
    "print class_counts"
   ]
  },
  {
   "cell_type": "markdown",
   "metadata": {},
   "source": [
    "## Correlations Between attributes"
   ]
  },
  {
   "cell_type": "code",
   "execution_count": 8,
   "metadata": {
    "collapsed": false
   },
   "outputs": [
    {
     "name": "stdout",
     "output_type": "stream",
     "text": [
      "        preg   plas   pres   skin   test   mass   pedi    age  class\n",
      "preg   1.000  0.129  0.141 -0.082 -0.074  0.018 -0.034  0.544  0.222\n",
      "plas   0.129  1.000  0.153  0.057  0.331  0.221  0.137  0.264  0.467\n",
      "pres   0.141  0.153  1.000  0.207  0.089  0.282  0.041  0.240  0.065\n",
      "skin  -0.082  0.057  0.207  1.000  0.437  0.393  0.184 -0.114  0.075\n",
      "test  -0.074  0.331  0.089  0.437  1.000  0.198  0.185 -0.042  0.131\n",
      "mass   0.018  0.221  0.282  0.393  0.198  1.000  0.141  0.036  0.293\n",
      "pedi  -0.034  0.137  0.041  0.184  0.185  0.141  1.000  0.034  0.174\n",
      "age    0.544  0.264  0.240 -0.114 -0.042  0.036  0.034  1.000  0.238\n",
      "class  0.222  0.467  0.065  0.075  0.131  0.293  0.174  0.238  1.000\n"
     ]
    }
   ],
   "source": [
    "correlations = data.corr(method='pearson')\n",
    "print(correlations)"
   ]
  },
  {
   "cell_type": "markdown",
   "metadata": {},
   "source": [
    "# Skew of Univariate Distributions\n",
    "\n",
    "Indica a que lado se esta concentrando la masa de la distribucion, positivo es a la derecha \n",
    "y negativo a la izquierda."
   ]
  },
  {
   "cell_type": "code",
   "execution_count": 9,
   "metadata": {
    "collapsed": false
   },
   "outputs": [
    {
     "name": "stdout",
     "output_type": "stream",
     "text": [
      "preg     0.902\n",
      "plas     0.174\n",
      "pres    -1.844\n",
      "skin     0.109\n",
      "test     2.272\n",
      "mass    -0.429\n",
      "pedi     1.920\n",
      "age      1.130\n",
      "class    0.635\n",
      "dtype: float64\n"
     ]
    }
   ],
   "source": [
    "skew = data.skew()\n",
    "print(skew)"
   ]
  },
  {
   "cell_type": "markdown",
   "metadata": {},
   "source": [
    "# Chapter 6\n",
    "## Understand Your Data With Visualization"
   ]
  },
  {
   "cell_type": "code",
   "execution_count": 10,
   "metadata": {
    "collapsed": false
   },
   "outputs": [],
   "source": [
    "%matplotlib inline\n",
    "import matplotlib.pyplot as plt\n",
    "'data.hist(figsize = (10, 10))'\n",
    "plt.show()\n",
    "#Se observa que las caracteristicas: 'age', 'pedi', y 'test' tiene una distribucion\n",
    "#exponencial. En cambio 'mass', 'pres', y 'plas' siguen una gaussiana."
   ]
  },
  {
   "cell_type": "markdown",
   "metadata": {},
   "source": [
    "## Density Plots"
   ]
  },
  {
   "cell_type": "code",
   "execution_count": 11,
   "metadata": {
    "collapsed": false
   },
   "outputs": [
    {
     "data": {
      "image/png": "[encoded data removed]",
      "text/plain": [
       "<matplotlib.figure.Figure at 0x7fa9d3dc79d0>"
      ]
     },
     "metadata": {},
     "output_type": "display_data"
    }
   ],
   "source": [
    "data.plot(kind='density', subplots=True, layout=(3,3), sharex=False, figsize = (10, 10))\n",
    "plt.show()\n",
    "#Se grafica la parte del top de cada bin del histrograma.-"
   ]
  },
  {
   "cell_type": "markdown",
   "metadata": {},
   "source": [
    "## Box and Whisker Plots = BoxPlots"
   ]
  },
  {
   "cell_type": "markdown",
   "metadata": {},
   "source": [
    "https://es.wikipedia.org/wiki/Diagrama_de_caja\n",
    "\n",
    "Es un gráfico que suministra información sobre los valores mínimo y máximo, los cuartiles Q1, Q2 o mediana y Q3, y sobre la existencia de valores atípicos y la simetría de la distribución. \n",
    "\n",
    "<ul>\n",
    "<li> Proporcionan una visión general de la simetría de la distribución de los datos; \n",
    "    si la mediana no está en el centro del rectángulo, la distribución no es simétrica.\n",
    "\n",
    "<li> Son útiles para ver la presencia de valores atípicos también llamados outliers. (los valores fuera de los bigotes).\n",
    "<li> Permite ver como es la dispersión de los puntos con la mediana, los percentiles 25 y 75 y los valores máximos y mínimos.\n",
    "</ul> \n",
    "\n",
    "Por ejemplo, en el boxplot 'age':\n",
    "\n",
    "<ul>\n",
    "<li> En la caja la mediana esta pegada al lado inferior, por lo tanto, las edades\n",
    "comprendidas entre el 25% y el 50% de la poblacion esta mas concentrada que entre el 50% y el 75%.\n",
    "</ul> "
   ]
  },
  {
   "cell_type": "code",
   "execution_count": 12,
   "metadata": {
    "collapsed": false
   },
   "outputs": [
    {
     "data": {
      "image/png": "[encoded data removed]",
      "text/plain": [
       "<matplotlib.figure.Figure at 0x7fa9d35641d0>"
      ]
     },
     "metadata": {},
     "output_type": "display_data"
    }
   ],
   "source": [
    "data.plot(kind='box', subplots=True, layout=(3,3), sharex=False, sharey=False, figsize = (10, 10))\n",
    "plt.show()"
   ]
  },
  {
   "cell_type": "markdown",
   "metadata": {},
   "source": [
    "# Multivariate Plots"
   ]
  },
  {
   "cell_type": "markdown",
   "metadata": {},
   "source": [
    "## Correlation Matrix Plot"
   ]
  },
  {
   "cell_type": "markdown",
   "metadata": {
    "collapsed": true
   },
   "source": [
    "This is useful to know, because some machine learning algorithms like linear\n",
    "and logistic regression can have poor performance if there are highly correlated input variables in your data.\n",
    "\n",
    "Es decir, en lineas generales (hay modelos que no son sensibles) si las variables son altamente correlacionadas, hacen que el performance del modelo se vea afectado negativamente. Si dado un conjunto altamente correlacionado se pueden aplicar las tecnicas PCA para mejorar el modelo (volviendolas ortogonales). \n",
    "\n",
    "¿ Pero que es correlacion?\n",
    "\n",
    "La correlacion entre variables es muy importante en la busqueda de caracteristicas para la creacion de un modelo predictivo optimo. El termino correlacion indica relacion de dependencia o independencia con una variable. Si dos variables estan fuertemente correlacionadas (valor cercanos a 1 ó -1), entonces indica que una de ella puede ser expresada por la otra, por lo tanto esa dos variables podrian juntarse en una sola, teniendo el mismo efecto en el modelo, pero con la ventaja que al reducir la dimensionalidad de las caracteristicas, se mejora el rendimiento del modelo, i.e, computacionalmente, el modelado, es más rápido. \n"
   ]
  },
  {
   "cell_type": "code",
   "execution_count": 13,
   "metadata": {
    "collapsed": false
   },
   "outputs": [
    {
     "name": "stderr",
     "output_type": "stream",
     "text": [
      "/usr/lib/pymodules/python2.7/matplotlib/collections.py:548: FutureWarning: elementwise comparison failed; returning scalar instead, but in the future will perform elementwise comparison\n",
      "  if self._edgecolors == 'face':\n"
     ]
    },
    {
     "data": {
      "image/png": "[encoded data removed]",
      "text/plain": [
       "<matplotlib.figure.Figure at 0x7fa9c9e84a50>"
      ]
     },
     "metadata": {},
     "output_type": "display_data"
    }
   ],
   "source": [
    "correlations = data.corr()\n",
    "fig = plt.figure(figsize=(10, 10))\n",
    "ax = fig.add_subplot(111)\n",
    "cax = ax.matshow(correlations, vmin=-1, vmax=1)\n",
    "fig.colorbar(cax)\n",
    "ticks = numpy.arange(0,9,1)\n",
    "ax.set_xticks(ticks)\n",
    "ax.set_yticks(ticks)\n",
    "ax.set_xticklabels(names)\n",
    "ax.set_yticklabels(names)\n",
    "plt.show()"
   ]
  },
  {
   "cell_type": "markdown",
   "metadata": {},
   "source": [
    "## Scatter Plot Matrix"
   ]
  },
  {
   "cell_type": "code",
   "execution_count": 14,
   "metadata": {
    "collapsed": false
   },
   "outputs": [
    {
     "data": {
      "text/plain": [
       "<matplotlib.figure.Figure at 0x7fa9d102f1d0>"
      ]
     },
     "metadata": {},
     "output_type": "display_data"
    },
    {
     "data": {
      "image/png": "[encoded data removed]",
      "text/plain": [
       "<matplotlib.figure.Figure at 0x7fa9d0d43950>"
      ]
     },
     "metadata": {},
     "output_type": "display_data"
    }
   ],
   "source": [
    "from pandas.tools.plotting import scatter_matrix\n",
    "\n",
    "plt.figure(figsize=(10, 10))\n",
    "scatter_matrix(data)\n",
    "#plt.savefig('hola.png')\n",
    "plt.show()"
   ]
  },
  {
   "cell_type": "markdown",
   "metadata": {
    "collapsed": true
   },
   "source": [
    "# Chapter 7\n",
    "## Prepare your data for Machine Learning\n",
    "\n",
    "<ol>\n",
    "<li>Rescale data.\n",
    "<li>Standardize data.\n",
    "<li>Normalize data.\n",
    "<li>Binarize data.\n",
    "<ol>"
   ]
  },
  {
   "cell_type": "markdown",
   "metadata": {},
   "source": [
    "## Rescale Data\n",
    "\n",
    "Se reescala cada atributo entre un rango definido, ayudando al performance del modelo, como el grandiente descendente, k-means, neural networks."
   ]
  },
  {
   "cell_type": "code",
   "execution_count": null,
   "metadata": {
    "collapsed": true
   },
   "outputs": [],
   "source": []
  },
  {
   "cell_type": "code",
   "execution_count": 15,
   "metadata": {
    "collapsed": false
   },
   "outputs": [
    {
     "name": "stdout",
     "output_type": "stream",
     "text": [
      "[[   6.     148.      72.      35.       0.      33.6      0.627   50.   ]\n",
      " [   1.      85.      66.      29.       0.      26.6      0.351   31.   ]]\n",
      "\n",
      "[[ 0.353  0.744  0.59   0.354  0.     0.501  0.234  0.483]\n",
      " [ 0.059  0.427  0.541  0.293  0.     0.396  0.117  0.167]]\n",
      "\n",
      "[[   6.     148.      72.      35.       0.      33.6      0.627   50.   ]\n",
      " [   1.      85.      66.      29.       0.      26.6      0.351   31.   ]]\n"
     ]
    }
   ],
   "source": [
    "from sklearn.preprocessing import MinMaxScaler\n",
    "url = \"https://goo.gl/vhm1eU\"\n",
    "names = ['preg', 'plas', 'pres', 'skin', 'test', 'mass', 'pedi', 'age', 'class']\n",
    "data = pandas.read_csv(url, names=names)\n",
    "array = data.values\n",
    "# separate array into input and output components\n",
    "X = array[:,0:8]\n",
    "Y = array[:,8]\n",
    "\n",
    "#Se crea el objeto 'escalador', encargador de escalar los valores, ie, mapearlos en el rango de [0,1]\n",
    "scaler = MinMaxScaler(feature_range=(0,1))\n",
    "rescaledX = scaler.fit_transform(X)\n",
    "numpy.set_printoptions(precision=3)\n",
    "\n",
    "print X[0:2,:]\n",
    "print\n",
    "print rescaledX[0:2,:]\n",
    "print\n",
    "#Se regresa al estado inicial\n",
    "print scaler.inverse_transform(rescaledX)[0:2]"
   ]
  },
  {
   "cell_type": "code",
   "execution_count": 16,
   "metadata": {
    "collapsed": false
   },
   "outputs": [
    {
     "name": "stdout",
     "output_type": "stream",
     "text": [
      "150\n"
     ]
    }
   ],
   "source": [
    "data2 = pandas.read_csv('iris.csv')\n",
    "# print(data2.species.value_counts())\n",
    "# print(data2.groupby('species').size())\n",
    "dataArray = data2.values\n",
    "X = dataArray[:, 0:len(data2.columns)-1]\n",
    "Y = dataArray[:,len(data2.columns)-1]\n",
    "print len(Y)"
   ]
  },
  {
   "cell_type": "markdown",
   "metadata": {
    "collapsed": true
   },
   "source": [
    "## Standardize Data\n",
    "\n",
    "Lo que se busca es convertir los atributos en una distribucion Gaussiana (Normal), es decir, con media = 0 y desviacion estandar = 1. Muchos algoritmos de ML, trabajan mejor con una distribucion Gaussiana, tales como, Linear Regression, Logistic Regression, etc.\n",
    "\n",
    "Pero por qué la distribucion Gaussiana causa eso?\n",
    "\n",
    "https://www.quora.com/Why-do-we-use-the-normal-distribution\n",
    "\n",
    "Esto es debido al Teorema Central del Limite, que dice que si promediamos la suficiente cantidad de cosas no relacionadas, entonces eventualmente obtendras la Normal.\n",
    "\n",
    "http://www.inf.fu-berlin.de/inst/ag-ki/rojas_home/documents/tutorials/Gaussian-distribution.pdf\n",
    "Otra razon es que la variable aleatoria que sigue una distribucion normal, tiene la maxima entropia que las demás, es decir la data es la mas general posible.  \n"
   ]
  },
  {
   "cell_type": "code",
   "execution_count": 17,
   "metadata": {
    "collapsed": false
   },
   "outputs": [
    {
     "name": "stdout",
     "output_type": "stream",
     "text": [
      "[[   6.     148.      72.      35.       0.      33.6      0.627   50.   ]\n",
      " [   1.      85.      66.      29.       0.      26.6      0.351   31.   ]]\n",
      "\n",
      "[[ 0.64   0.848  0.15   0.907 -0.693  0.204  0.468  1.426]\n",
      " [-0.845 -1.123 -0.161  0.531 -0.693 -0.684 -0.365 -0.191]]\n",
      "\n",
      "[[   6.     148.      72.      35.       0.      33.6      0.627   50.   ]\n",
      " [   1.      85.      66.      29.       0.      26.6      0.351   31.   ]]\n"
     ]
    }
   ],
   "source": [
    "from sklearn.preprocessing import StandardScaler\n",
    "url = \"https://goo.gl/vhm1eU\"\n",
    "names = ['preg', 'plas', 'pres', 'skin', 'test', 'mass', 'pedi', 'age', 'class']\n",
    "data = pandas.read_csv(url, names=names)\n",
    "array = data.values\n",
    "# separate array into input and output components\n",
    "X = array[:,0:8]\n",
    "Y = array[:,8]\n",
    "\n",
    "scaler = StandardScaler()\n",
    "\n",
    "rescaledX = scaler.fit_transform(X)\n",
    "numpy.set_printoptions(precision=3)\n",
    "\n",
    "print X[0:2]\n",
    "print\n",
    "print rescaledX[0:2]\n",
    "print\n",
    "#Se regresa al estado inicial\n",
    "print scaler.inverse_transform(rescaledX)[0:2]"
   ]
  },
  {
   "cell_type": "markdown",
   "metadata": {
    "collapsed": true
   },
   "source": [
    "## Normalize Data\n",
    "\n",
    "Lo que se busca es hacer que las filas tengan longitud 1, segun la norma l2, o sea, la magnitud de los vectores de cada fila tiene que ser 1. Esta caracteristica es buena para Neural Networks y K-nearest neighbors.\n"
   ]
  },
  {
   "cell_type": "code",
   "execution_count": 18,
   "metadata": {
    "collapsed": false
   },
   "outputs": [
    {
     "name": "stdout",
     "output_type": "stream",
     "text": [
      "[[   6.     148.      72.      35.       0.      33.6      0.627   50.   ]\n",
      " [   1.      85.      66.      29.       0.      26.6      0.351   31.   ]]\n",
      "\n",
      "[[ 0.034  0.828  0.403  0.196  0.     0.188  0.004  0.28 ]\n",
      " [ 0.008  0.716  0.556  0.244  0.     0.224  0.003  0.261]]\n"
     ]
    }
   ],
   "source": [
    "from sklearn.preprocessing import Normalizer\n",
    "url = \"https://goo.gl/vhm1eU\"\n",
    "names = ['preg', 'plas', 'pres', 'skin', 'test', 'mass', 'pedi', 'age', 'class']\n",
    "data = pandas.read_csv(url, names=names)\n",
    "array = data.values\n",
    "# separate array into input and output components\n",
    "X = array[:,0:8]\n",
    "Y = array[:,8]\n",
    "\n",
    "scaler = Normalizer()\n",
    "\n",
    "normalizedX = scaler.fit_transform(X)\n",
    "numpy.set_printoptions(precision=3)\n",
    "\n",
    "print X[0:2]\n",
    "print\n",
    "print normalizedX[0:2]\n",
    "\n",
    "#Se regresa al estado inicial\n",
    "#print scaler.inverse_transform(normalizedX)[0:2]\n",
    "\n",
    "a = normalizedX[0:1]\n",
    "\n"
   ]
  },
  {
   "cell_type": "code",
   "execution_count": 19,
   "metadata": {
    "collapsed": false
   },
   "outputs": [
    {
     "name": "stdout",
     "output_type": "stream",
     "text": [
      "1.0\n"
     ]
    }
   ],
   "source": [
    "#O sea, si se aplica la normal l2 a cualquier fila, debe dar 1.\n",
    "\n",
    "def sqrt(x): return x**2\n",
    "\n",
    "x = sum(map(sqrt, a[0]))**0.5\n",
    "print x\n"
   ]
  },
  {
   "cell_type": "markdown",
   "metadata": {
    "collapsed": true
   },
   "source": [
    "## Binarize Data (Make Binary)\n",
    "\n",
    "Binarizing is when you mark your data as 1 or 0. It is useful when feature engineering and you want to add new features that indicate something useful."
   ]
  },
  {
   "cell_type": "code",
   "execution_count": 20,
   "metadata": {
    "collapsed": false
   },
   "outputs": [
    {
     "name": "stdout",
     "output_type": "stream",
     "text": [
      "[[   6.     148.      72.      35.       0.      33.6      0.627   50.   ]\n",
      " [   1.      85.      66.      29.       0.      26.6      0.351   31.   ]]\n",
      "[[ 1.  1.  1.  1.  0.  1.  1.  1.]\n",
      " [ 1.  1.  1.  1.  0.  1.  1.  1.]]\n"
     ]
    }
   ],
   "source": [
    "from sklearn.preprocessing import Binarizer\n",
    "url = \"https://goo.gl/vhm1eU\"\n",
    "names = ['preg', 'plas', 'pres', 'skin', 'test', 'mass', 'pedi', 'age', 'class']\n",
    "data = pandas.read_csv(url, names=names)\n",
    "array = data.values\n",
    "# separate array into input and output components\n",
    "X = array[:,0:8]\n",
    "Y = array[:,8]\n",
    "\n",
    "binarizer = Binarizer()\n",
    "\n",
    "binaryX = binarizer.fit_transform(X)\n",
    "numpy.set_printoptions(precision=3)\n",
    "\n",
    "print X[0:2]\n",
    "print binaryX[0:2]\n",
    "\n",
    "\n"
   ]
  },
  {
   "cell_type": "markdown",
   "metadata": {},
   "source": [
    "# Chapter 8\n",
    "\n",
    "# Feature Selection For Machine Learning\n",
    "\n",
    "1. Univariate Selection.\n",
    "2. Recursive Feature Elimination.\n",
    "3. Principle Component Analysis.\n",
    "4. Feature Importance"
   ]
  },
  {
   "cell_type": "markdown",
   "metadata": {},
   "source": [
    "## Beneficios\n",
    "\n",
    "Reduces Overfitting: Menos oportunidad para hacer hacer decisiones basado en ruido.\n",
    "\n",
    "Improves Accuracy: Datos menos engañosos significa una mejora en la exactitud del modelo.\n",
    "\n",
    "Reduces Training Time: Menos data significa que los algoritmos entrenan mas rapido."
   ]
  },
  {
   "cell_type": "markdown",
   "metadata": {},
   "source": [
    "## Univariate Selection"
   ]
  },
  {
   "cell_type": "markdown",
   "metadata": {
    "collapsed": true
   },
   "source": [
    "For regression: f_regression\n",
    "\n",
    "For classification: chi2 or f_classif\n",
    "\n",
    "\n",
    "En este caso de clasificacion, se realiza el test chi square, el cual mide la dependencia entre variables estocasticas, este test remueve las caracteristicas mas probables a ser independientes, por lo tanto, irrelevantes para la clasificacion."
   ]
  },
  {
   "cell_type": "code",
   "execution_count": 21,
   "metadata": {
    "collapsed": false
   },
   "outputs": [
    {
     "name": "stdout",
     "output_type": "stream",
     "text": [
      "[  111.52   1411.887    17.605    53.108  2175.565   127.669     5.393\n",
      "   181.304]\n",
      "\n",
      "[[  6.000e+00   1.480e+02   7.200e+01   3.500e+01   0.000e+00   3.360e+01\n",
      "    6.270e-01   5.000e+01]\n",
      " [  1.000e+00   8.500e+01   6.600e+01   2.900e+01   0.000e+00   2.660e+01\n",
      "    3.510e-01   3.100e+01]\n",
      " [  8.000e+00   1.830e+02   6.400e+01   0.000e+00   0.000e+00   2.330e+01\n",
      "    6.720e-01   3.200e+01]\n",
      " [  1.000e+00   8.900e+01   6.600e+01   2.300e+01   9.400e+01   2.810e+01\n",
      "    1.670e-01   2.100e+01]\n",
      " [  0.000e+00   1.370e+02   4.000e+01   3.500e+01   1.680e+02   4.310e+01\n",
      "    2.288e+00   3.300e+01]]\n",
      "\n",
      "[[ 148.     0.    33.6   50. ]\n",
      " [  85.     0.    26.6   31. ]\n",
      " [ 183.     0.    23.3   32. ]\n",
      " [  89.    94.    28.1   21. ]\n",
      " [ 137.   168.    43.1   33. ]]\n"
     ]
    }
   ],
   "source": [
    "from sklearn.feature_selection import SelectKBest\n",
    "from sklearn.feature_selection import chi2\n",
    "url = \"https://goo.gl/vhm1eU\"\n",
    "names = ['preg', 'plas', 'pres', 'skin', 'test', 'mass', 'pedi', 'age', 'class']\n",
    "data = pandas.read_csv(url, names=names)\n",
    "array = data.values\n",
    "# separate array into input and output components\n",
    "X = array[:,0:8]\n",
    "Y = array[:,8]\n",
    "\n",
    "numpy.set_printoptions(precision=3)\n",
    "test = SelectKBest(score_func=chi2, k=4)\n",
    "fit = test.fit(X, Y)\n",
    "\n",
    "print fit.scores_\n",
    "\n",
    "print\n",
    "\n",
    "print X[0:5,:]\n",
    "features = fit.transform(X)\n",
    "\n",
    "print\n",
    "\n",
    "print features[0:5,:]"
   ]
  },
  {
   "cell_type": "markdown",
   "metadata": {
    "collapsed": true
   },
   "source": [
    "Se observa que la columnas elegidas, segun el test, son plas, test, mass y age."
   ]
  },
  {
   "cell_type": "markdown",
   "metadata": {
    "collapsed": true
   },
   "source": [
    "## Recursive Feature Elimination\n",
    "\n",
    "Dado un estimador que asigna pesos a las caracteristicas, i.e, los coeficientes de un modelo lineal. Los pesos que tienen los menores pesos son podados, asi recursivamente hasta obtener la cantidad de caracteristicas deseada."
   ]
  },
  {
   "cell_type": "code",
   "execution_count": 22,
   "metadata": {
    "collapsed": false
   },
   "outputs": [
    {
     "name": "stdout",
     "output_type": "stream",
     "text": [
      "Num Features: 3\n",
      "Selected Features: [ True False False False False  True  True False]\n",
      "Feature Ranking: [1 2 3 5 6 1 1 4]\n"
     ]
    }
   ],
   "source": [
    "from pandas import read_csv\n",
    "from sklearn.feature_selection import RFE\n",
    "from sklearn.linear_model import LogisticRegression\n",
    "\n",
    "url = \"https://goo.gl/vhm1eU\"\n",
    "names = ['preg', 'plas', 'pres', 'skin', 'test', 'mass', 'pedi', 'age', 'class']\n",
    "data = pandas.read_csv(url, names=names)\n",
    "array = data.values\n",
    "# separate array into input and output components\n",
    "X = array[:,0:8]\n",
    "Y = array[:,8]\n",
    "\n",
    "#feature extaction\n",
    "\n",
    "model = LogisticRegression()\n",
    "rfe = RFE(estimator=model, n_features_to_select=3)\n",
    "fit = rfe.fit(X,Y)\n",
    "\n",
    "print(\"Num Features: %d\") % fit.n_features_\n",
    "print(\"Selected Features: %s\") % fit.support_\n",
    "print(\"Feature Ranking: %s\") % fit.ranking_\n"
   ]
  },
  {
   "cell_type": "markdown",
   "metadata": {
    "collapsed": true
   },
   "source": [
    "Las caracteristicas escogidas son: <b>preg</b>, <b>mass</b> y <b>pedi</b>, las cuales son marcadas por True, tambien marcadas con 1 en ranking_"
   ]
  },
  {
   "cell_type": "markdown",
   "metadata": {},
   "source": [
    "## Principal Component Analysis\n",
    "\n",
    "PCA reduce el numero de dimensiones de un dataset, es decir, transforma el dataset en una forma mas comprimida, representados por los componentes principales."
   ]
  },
  {
   "cell_type": "code",
   "execution_count": 23,
   "metadata": {
    "collapsed": false
   },
   "outputs": [
    {
     "name": "stdout",
     "output_type": "stream",
     "text": [
      "Explained Variance: [ 0.889  0.062  0.026]\n",
      "[[ -2.022e-03   9.781e-02   1.609e-02   6.076e-02   9.931e-01   1.401e-02\n",
      "    5.372e-04  -3.565e-03]\n",
      " [  2.265e-02   9.722e-01   1.419e-01  -5.786e-02  -9.463e-02   4.697e-02\n",
      "    8.168e-04   1.402e-01]\n",
      " [ -2.246e-02   1.434e-01  -9.225e-01  -3.070e-01   2.098e-02  -1.324e-01\n",
      "   -6.400e-04  -1.255e-01]]\n",
      "Nuevas features\n",
      "[[ -7.571e+01   3.595e+01  -7.261e+00]\n",
      " [ -8.236e+01  -2.891e+01  -5.497e+00]\n",
      " [ -7.463e+01   6.791e+01   1.946e+01]\n",
      " [  1.108e+01  -3.490e+01  -5.302e-02]\n",
      " [  8.974e+01   2.747e+00   2.521e+01]]\n"
     ]
    }
   ],
   "source": [
    "from pandas import read_csv\n",
    "from sklearn.decomposition import PCA\n",
    "\n",
    "url = \"https://goo.gl/vhm1eU\"\n",
    "names = ['preg', 'plas', 'pres', 'skin', 'test', 'mass', 'pedi', 'age', 'class']\n",
    "data = pandas.read_csv(url, names=names)\n",
    "array = data.values\n",
    "# separate array into input and output components\n",
    "X = array[:,0:8]\n",
    "Y = array[:,8]\n",
    "\n",
    "#feature extaction\n",
    "\n",
    "pca = PCA(n_components=3)\n",
    "fit = pca.fit(X)\n",
    "\n",
    "#summarize components\n",
    "\n",
    "print(\"Explained Variance: %s\") % fit.explained_variance_ratio_\n",
    "print(fit.components_)\n",
    "\n",
    "features = fit.transform(X)\n",
    "\n",
    "print \"Nuevas features\"\n",
    "\n",
    "print features[0:5,:]"
   ]
  },
  {
   "cell_type": "markdown",
   "metadata": {
    "collapsed": true
   },
   "source": [
    "## Feature Importance\n",
    "\n",
    "Bagged decision trees como Random Forest y Extra Trees pueden ser usados para estimar la importancia de caracteristicas. En este caso se usara Extra Trees."
   ]
  },
  {
   "cell_type": "code",
   "execution_count": 24,
   "metadata": {
    "collapsed": false
   },
   "outputs": [
    {
     "name": "stdout",
     "output_type": "stream",
     "text": [
      "[ 0.113  0.25   0.088  0.074  0.082  0.136  0.121  0.136]\n"
     ]
    }
   ],
   "source": [
    "from pandas import read_csv\n",
    "from sklearn.ensemble import ExtraTreesClassifier\n",
    "\n",
    "url = \"https://goo.gl/vhm1eU\"\n",
    "names = ['preg', 'plas', 'pres', 'skin', 'test', 'mass', 'pedi', 'age', 'class']\n",
    "data = pandas.read_csv(url, names=names)\n",
    "array = data.values\n",
    "# separate array into input and output components\n",
    "X = array[:,0:8]\n",
    "Y = array[:,8]\n",
    "\n",
    "model = ExtraTreesClassifier()\n",
    "model.fit(X, Y)\n",
    "print (model.feature_importances_)"
   ]
  },
  {
   "cell_type": "markdown",
   "metadata": {},
   "source": [
    "Se observa que los mayores puntajes los tienen las columnas <b>plas</b>, <b>age</b> y <b>mass</b>."
   ]
  },
  {
   "cell_type": "markdown",
   "metadata": {},
   "source": [
    "Hasta ahora se tiene 4 tecnicas para la seleccion automatica de caracteristicas:\n",
    "\n",
    "<ul>\n",
    "<li> Univariate Selection\n",
    "<li> Recursive Feature Elimination\n",
    "<li> Principal Component Analysis\n",
    "<li> Feature Importance\n",
    "</ul>"
   ]
  },
  {
   "cell_type": "markdown",
   "metadata": {},
   "source": [
    "# Chapter 9\n",
    "\n",
    "# Evaluate the Performance of Machine Learning Algorithms with Resampling\n",
    "\n",
    "En este apartado se aprendera como evaluar un algoritmo, mediante diferentes tecnicas de estimacion:\n",
    "\n",
    "<ul>\n",
    "<li> Train y Test Sets\n",
    "<li> K-fold Cross Validation\n",
    "<li> Leave One Out Cross Validation\n",
    "<li> Repeated Random Test-Train Splits\n",
    "</ul>"
   ]
  },
  {
   "cell_type": "markdown",
   "metadata": {},
   "source": [
    "## Split into Train and Test Sets\n",
    "\n",
    "Esta tecnica es usada para grandes datasets, ya que es rapida. Es ideal para usarlo en algoritmos que se demoran para entrenar la data. Por contra, es que este tipo de enfoque puede tener una alta varianza, es decir, las diferencias entre la data de entrenamiento y test pueden ser significativas a la hora de estimar la precision del modelo.\n",
    "\n",
    "Lo mas comun es dividir la data en: 67% para el training y 33% para el testing."
   ]
  },
  {
   "cell_type": "code",
   "execution_count": 25,
   "metadata": {
    "collapsed": false
   },
   "outputs": [
    {
     "name": "stdout",
     "output_type": "stream",
     "text": [
      "Accuracy: 75.591%\n",
      "CPU times: user 25.2 ms, sys: 2.85 ms, total: 28 ms\n",
      "Wall time: 1.17 s\n"
     ]
    }
   ],
   "source": [
    "%%time\n",
    "from pandas import read_csv\n",
    "from sklearn import cross_validation\n",
    "from sklearn.linear_model import LogisticRegression\n",
    "\n",
    "url = \"https://goo.gl/vhm1eU\"\n",
    "names = ['preg', 'plas', 'pres', 'skin', 'test', 'mass', 'pedi', 'age', 'class']\n",
    "data = pandas.read_csv(url, names=names)\n",
    "array = data.values\n",
    "# separate array into input and output components\n",
    "X = array[:,0:8]\n",
    "Y = array[:,8]\n",
    "test_size = 0.33\n",
    "seed = 7\n",
    "X_train, X_test, Y_train, Y_test = cross_validation.train_test_split(X, Y,\n",
    "                                                                    test_size=test_size, random_state=seed)\n",
    "model = LogisticRegression()\n",
    "model.fit(X_train, Y_train)\n",
    "result = model.score(X_test, Y_test)\n",
    "\n",
    "print(\"Accuracy: %.3f%%\") % (result*100.0)"
   ]
  },
  {
   "cell_type": "markdown",
   "metadata": {
    "collapsed": true
   },
   "source": [
    "El seed es fijo para tener el mismo conjunto de datos, de tal manera, que cuando se haga pruebas usando otro algoritmo, se pueda usar la misma dataset."
   ]
  },
  {
   "cell_type": "markdown",
   "metadata": {},
   "source": [
    "## K-fold Cross Validation\n",
    "\n",
    "Usando esta tecnica se parte la data en k conjuntos, de tal manera que se entrena con los <i>k-1</i> folds(pliegues) y se testea con el sobrante, luego se hace el mismo procedimiento escogiendo otros <i>k-1</i> . Este procedimiento se realiza hasta que cada fold es testeado. Luego de tener las <i>k</i>  puntuaciones de rendimiento se puede resumir usando la media o la desviacion estandar. Este resultado es mas fiable en el rendimiento del algoritmo, cuando se presenta una nueva data. Es necesario que la eleccion de <i>k</i> permita que las muestras sean lo suficientemente grande, lo valores mas comunes para <i>k</i> son 3, 5, 10."
   ]
  },
  {
   "cell_type": "code",
   "execution_count": 26,
   "metadata": {
    "collapsed": false
   },
   "outputs": [
    {
     "name": "stdout",
     "output_type": "stream",
     "text": [
      "Accuracy: mean : 76.951%, SD : 4.841%\n",
      "CPU times: user 138 ms, sys: 3.17 ms, total: 141 ms\n",
      "Wall time: 1.28 s\n"
     ]
    }
   ],
   "source": [
    "%%time\n",
    "from pandas import read_csv\n",
    "from sklearn import cross_validation\n",
    "from sklearn.linear_model import LogisticRegression\n",
    "\n",
    "url = \"https://goo.gl/vhm1eU\"\n",
    "names = ['preg', 'plas', 'pres', 'skin', 'test', 'mass', 'pedi', 'age', 'class']\n",
    "data = pandas.read_csv(url, names=names)\n",
    "array = data.values\n",
    "# separate array into input and output components\n",
    "X = array[:,0:8]\n",
    "Y = array[:,8]\n",
    "num_folds = 10\n",
    "num_instances = len(X)\n",
    "seed = 7\n",
    "\n",
    "kfold = cross_validation.KFold(n=num_instances, n_folds=num_folds,\n",
    "                              random_state=seed)\n",
    "model = LogisticRegression()\n",
    "results = cross_validation.cross_val_score(model, X, Y, cv=kfold)\n",
    "\n",
    "#model.fit(X_train, Y_train)\n",
    "#result = model.score(X_test, Y_test)\n",
    "print(\"Accuracy: mean : %.3f%%, SD : %.3f%%\") % (results.mean()*100.0, results.std()*100.0)"
   ]
  },
  {
   "cell_type": "markdown",
   "metadata": {
    "collapsed": true
   },
   "source": [
    "## Leave One Out Cross Validation\n",
    "\n",
    "Esta tecnica trabaja con <i>k</i> = len(X), con el objetivo de estimar con una mayor precision el modelo para datos nuevos. Una desventaja es que es computacionalmente costoso que la tecnica k-fold cross validation."
   ]
  },
  {
   "cell_type": "code",
   "execution_count": 27,
   "metadata": {
    "collapsed": false
   },
   "outputs": [
    {
     "name": "stdout",
     "output_type": "stream",
     "text": [
      "Accuracy: mean : 76.823%, SD : 42.196%\n",
      "CPU times: user 8.53 s, sys: 42 ms, total: 8.58 s\n",
      "Wall time: 9.73 s\n"
     ]
    }
   ],
   "source": [
    "%%time\n",
    "from pandas import read_csv\n",
    "from sklearn import cross_validation\n",
    "from sklearn.linear_model import LogisticRegression\n",
    "\n",
    "url = \"https://goo.gl/vhm1eU\"\n",
    "names = ['preg', 'plas', 'pres', 'skin', 'test', 'mass', 'pedi', 'age', 'class']\n",
    "data = pandas.read_csv(url, names=names)\n",
    "array = data.values\n",
    "# separate array into input and output components\n",
    "X = array[:,0:8]\n",
    "Y = array[:,8]\n",
    "num_folds = 10\n",
    "num_instances = len(X)\n",
    "\n",
    "loocv = cross_validation.LeaveOneOut(n=num_instances)\n",
    "model = LogisticRegression()\n",
    "results = cross_validation.cross_val_score(model, X, Y, cv=loocv)\n",
    "\n",
    "#model.fit(X_train, Y_train)\n",
    "#result = model.score(X_test, Y_test)\n",
    "print(\"Accuracy: mean : %.3f%%, SD : %.3f%%\") % (results.mean()*100.0, results.std()*100.0)"
   ]
  },
  {
   "cell_type": "markdown",
   "metadata": {
    "collapsed": true
   },
   "source": [
    "## Repeated Random Test-Train Splits\n",
    "\n",
    "Es como un k-fold pero el conjunto de data se selecciona de manera aleatoria. Tiene la velocidad de un train/train split y la poca varianza de un k-fold. La desventaja es que al escoger los conjuntos aleatoriamente, se puede escoger ciertos datos repetidos, por lo tanto, se puede redundar en la validacion."
   ]
  },
  {
   "cell_type": "code",
   "execution_count": 28,
   "metadata": {
    "collapsed": false
   },
   "outputs": [
    {
     "name": "stdout",
     "output_type": "stream",
     "text": [
      "Accuracy: mean : 76.823%, SD : 42.196%\n",
      "CPU times: user 104 ms, sys: 3.3 ms, total: 107 ms\n",
      "Wall time: 1.92 s\n"
     ]
    }
   ],
   "source": [
    "%%time\n",
    "from pandas import read_csv\n",
    "from sklearn import cross_validation\n",
    "from sklearn.linear_model import LogisticRegression\n",
    "\n",
    "url = \"https://goo.gl/vhm1eU\"\n",
    "names = ['preg', 'plas', 'pres', 'skin', 'test', 'mass', 'pedi', 'age', 'class']\n",
    "data = pandas.read_csv(url, names=names)\n",
    "array = data.values\n",
    "# separate array into input and output components\n",
    "X = array[:,0:8]\n",
    "Y = array[:,8]\n",
    "test_size = 0.33\n",
    "num_instances = len(X)\n",
    "num_samples = 10\n",
    "seed = 7\n",
    "\n",
    "kfold = cross_validation.ShuffleSplit(n=num_instances, n_iter=num_samples, \n",
    "                                     test_size=test_size, random_state=seed)\n",
    "\n",
    "model = LogisticRegression()                                                                 \n",
    "result = cross_validation.cross_val_score(model, X, Y, cv=kfold)\n",
    "\n",
    "print(\"Accuracy: mean : %.3f%%, SD : %.3f%%\") % (results.mean()*100.0, results.std()*100.0)"
   ]
  },
  {
   "cell_type": "markdown",
   "metadata": {
    "collapsed": true
   },
   "source": [
    "## Summary\n",
    "\n",
    "Tips:\n",
    "\n",
    "<ul>\n",
    "<li> La tecnica de k-fold, es la tecnica estandard para la evaluacion del perfomance en algoritmos de ML, con k = 3, 5 ó 10.\n",
    "<li> La train/test es buena cuando el algoritmo de ML es lento y hay mas de un millon de registros.\n",
    "<li> Las tecnicas Leave-one-out cross validation y Random Split, cuando se busca un punto medio entre varianza, model training speed y dataset size.\n",
    "<li> En caso de duda usar 10-fold cross validation.\n",
    "</ul>\n",
    "\n"
   ]
  },
  {
   "cell_type": "markdown",
   "metadata": {
    "collapsed": true
   },
   "source": [
    "# Chapter 10\n",
    "\n",
    "# Machine Learning Algorithm Performance Metrics\n",
    "\n",
    "En esta parte se verá las diferentes metricas para evaluar la calidad de las predicciones de un modelo de ML. Para la validacion se usara una 10-fold en todas las datasets."
   ]
  },
  {
   "cell_type": "markdown",
   "metadata": {},
   "source": [
    "### Clasification:\n",
    "\n",
    "<ul>\n",
    "    <li> Dataset: Pima Indianas onset of diabetes.\n",
    "    <li> Algorithm : Logistic Regression.\n",
    "    <li> Test Harness: 10-fold Cross validation.\n",
    "</ul>\n",
    "\n",
    "### Regression:\n",
    "\n",
    "<ul>\n",
    "    <li> Dataset: Boston House Price.\n",
    "    <li> Algorithm : Linear Regression.\n",
    "    <li> Test Harness: 10-fold Cross validation.\n",
    "</ul>\n",
    "\n",
    "\n",
    "\n"
   ]
  },
  {
   "cell_type": "markdown",
   "metadata": {
    "collapsed": true
   },
   "source": [
    "# Clasification Metrics\n",
    "\n",
    "<ul>\n",
    "    <li> Classification Accuracy.\n",
    "    <li> Logarithmic Loss\n",
    "    <li> Area Under ROC Curve.\n",
    "    <li> Confusion Matrix.\n",
    "    <li> Classification Report.\n",
    "</ul>"
   ]
  },
  {
   "cell_type": "markdown",
   "metadata": {
    "collapsed": true
   },
   "source": [
    "## Clasification Accuraty\n",
    "\n",
    "$$ \\text{metric} = \\frac{\\text{# correct predictions}}{\\text{# total predictions}}$$\n",
    "\n",
    "It is only suitable when you have an equal number of observations in each class (which is weird)."
   ]
  },
  {
   "cell_type": "code",
   "execution_count": 7,
   "metadata": {
    "collapsed": false
   },
   "outputs": [
    {
     "name": "stdout",
     "output_type": "stream",
     "text": [
      "Accuracy: mean : 0.770 (0.048)\n"
     ]
    }
   ],
   "source": [
    "from pandas import read_csv\n",
    "from sklearn import model_selection\n",
    "from sklearn.linear_model import LogisticRegression\n",
    "\n",
    "url = \"https://goo.gl/vhm1eU\"\n",
    "names = ['preg', 'plas', 'pres', 'skin', 'test', 'mass', 'pedi', 'age', 'class']\n",
    "data = pandas.read_csv(url, names=names)\n",
    "array = data.values\n",
    "# separate array into input and output components\n",
    "X = array[:,0:8]\n",
    "Y = array[:,8]\n",
    "num_folds = 10\n",
    "num_instances = len(X)\n",
    "num_samples = 10\n",
    "seed = 7\n",
    "\n",
    "kfold = cross_validation.KFold(n=num_instances, n_folds=num_folds,\n",
    "                              random_state=seed)\n",
    "model = LogisticRegression()\n",
    "scoring = 'accuracy'\n",
    "results = cross_validation.cross_val_score(model, X, Y, \n",
    "                                           cv=kfold, scoring=scoring)\n",
    "\n",
    "print(\"Accuracy: mean : %.3f (%.3f)\") % (results.mean(), results.std())\n"
   ]
  },
  {
   "cell_type": "markdown",
   "metadata": {},
   "source": [
    "## Logarithmic Loss\n",
    "\n",
    "$$ \\text{metric} = \\frac{\\text{# correct predictions}}{\\text{# total predictions}}$$\n",
    "\n",
    "It is only suitable when you have an equal number of observations in each class (which is weird)."
   ]
  },
  {
   "cell_type": "markdown",
   "metadata": {
    "collapsed": true
   },
   "source": [
    "# Chapter 14\n",
    "\n",
    "# Automate Machine Learning Workflows with Pipelines\n",
    "\n",
    "El Pipeline es una manera de juntar transformer y estimators en un solo flujo, de tal manera que cada funcion se ejecuta secuencialmente hasta lograr el modelo predictivo. Por ejemplo, se puede poner en un flujo los Transformers: Scale, Normalization, etc, y en otro pipeline, transformers para features selections: univariate, pca, etc. y en otro pipeline poner estimadores: logistic regression, k-means, etc. Entonces con la funcion FeatureUnion, podemos unir esos tres pipelines para crear un pipeline total, que realiza todos esos pasos como uno solo. Esto ayuda a evitar la perdida de data y al legibilidad.\n"
   ]
  },
  {
   "cell_type": "code",
   "execution_count": 50,
   "metadata": {
    "collapsed": false
   },
   "outputs": [
    {
     "name": "stdout",
     "output_type": "stream",
     "text": [
      "0.779955570745\n",
      "Pipeline(steps=[('feature_union', FeatureUnion(n_jobs=1,\n",
      "       transformer_list=[('transf_union', FeatureUnion(n_jobs=1,\n",
      "       transformer_list=[('standardize', StandardScaler(copy=True, with_mean=True, with_std=True))],\n",
      "       transformer_weights=None)), ('pca', PCA(copy=True, n_components=3, whiten=False...ty='l2', random_state=None, solver='liblinear', tol=0.0001,\n",
      "          verbose=0, warm_start=False))])\n",
      "CPU times: user 162 ms, sys: 3.19 ms, total: 165 ms\n",
      "Wall time: 1.47 s\n"
     ]
    }
   ],
   "source": [
    "%%time\n",
    "# Create a pipeline that standardizes the data then creates a model\n",
    "from pandas import read_csv\n",
    "from sklearn.cross_validation import KFold\n",
    "from sklearn.cross_validation import cross_val_score\n",
    "from sklearn.preprocessing import StandardScaler\n",
    "from sklearn.preprocessing import Normalizer\n",
    "from sklearn.pipeline import Pipeline\n",
    "from sklearn.discriminant_analysis import LinearDiscriminantAnalysis\n",
    "from sklearn.pipeline import FeatureUnion\n",
    "from sklearn.linear_model import LogisticRegression\n",
    "from sklearn.decomposition import PCA\n",
    "from sklearn.feature_selection import SelectKBest\n",
    "from sklearn.grid_search import GridSearchCV\n",
    "from sklearn.svm import SVC\n",
    "\n",
    "# load data\n",
    "url = \"https://goo.gl/vhm1eU\"\n",
    "names = ['preg', 'plas', 'pres', 'skin', 'test', 'mass', 'pedi', 'age', 'class']\n",
    "data = pandas.read_csv(url, names=names)\n",
    "array = data.values\n",
    "X = array[:,0:8]\n",
    "Y = array[:,8]\n",
    "# create pipeline\n",
    "transformers = []\n",
    "transformers.append(( 'standardize' , StandardScaler()))\n",
    "# # estimators.append(( 'normalizer' , Normalizer()))\n",
    "# estimators.append(( 'lda' , LinearDiscriminantAnalysis()))\n",
    "transf_union = FeatureUnion(transformers)\n",
    "# model = Pipeline(estimators)\n",
    "\n",
    "# create feature union\n",
    "features = []\n",
    "features.append(('transf_union', transf_union))\n",
    "features.append(( 'pca', PCA(n_components=3)))\n",
    "features.append(( 'select_best' , SelectKBest(k=6)))\n",
    "feature_union = FeatureUnion(features)\n",
    "# create pipeline\n",
    "estimators = []\n",
    "estimators.append(( 'feature_union' , feature_union))\n",
    "estimators.append(( 'logistic' , LogisticRegression()))\n",
    "# estimators.append(('svm' , SVC(kernel=\"linear\")))\n",
    "model = Pipeline(estimators)\n",
    "\n",
    "# evaluate pipeline\n",
    "num_folds = 10\n",
    "num_instances = len(X)\n",
    "seed = 7\n",
    "kfold = KFold(n=num_instances, n_folds=num_folds, random_state=seed)\n",
    "results = cross_val_score(model, X, Y, cv=kfold)\n",
    "print(results.mean())\n",
    "print model"
   ]
  },
  {
   "cell_type": "code",
   "execution_count": 75,
   "metadata": {
    "collapsed": false
   },
   "outputs": [
    {
     "name": "stdout",
     "output_type": "stream",
     "text": [
      "Guido\n",
      "<__main__.Head instance at 0x7f0dca34b5f0>\n"
     ]
    }
   ],
   "source": [
    "class Human():\n",
    " \n",
    "    def __init__(self):\n",
    "        self.name = 'Guido'\n",
    "        self.head = self.Head()\n",
    " \n",
    "    def foo(self):\n",
    "        return self.Head()\n",
    "    class Head:\n",
    "        def talk(self):\n",
    "            return 'talking...'\n",
    " \n",
    "\n",
    "guido = Human()\n",
    "print guido.name\n",
    "print guido.foo()\n",
    "    \n"
   ]
  },
  {
   "cell_type": "code",
   "execution_count": 10,
   "metadata": {
    "collapsed": false
   },
   "outputs": [
    {
     "name": "stdout",
     "output_type": "stream",
     "text": [
      "0.779955570745\n"
     ]
    }
   ],
   "source": [
    "# Create a pipeline that standardizes the data then creates a model\n",
    "from pandas import read_csv\n",
    "from sklearn.cross_validation import KFold\n",
    "from sklearn.cross_validation import cross_val_score\n",
    "from sklearn.preprocessing import StandardScaler\n",
    "from sklearn.preprocessing import Normalizer\n",
    "from sklearn.pipeline import Pipeline\n",
    "from sklearn.discriminant_analysis import LinearDiscriminantAnalysis\n",
    "from sklearn.pipeline import FeatureUnion\n",
    "from sklearn.linear_model import LogisticRegression\n",
    "from sklearn.decomposition import PCA\n",
    "from sklearn.feature_selection import SelectKBest\n",
    "from sklearn.grid_search import GridSearchCV\n",
    "from sklearn.svm import SVC\n",
    "from sklearn.base import BaseEstimator, TransformerMixin\n",
    "# load data\n",
    "url = \"https://goo.gl/vhm1eU\"\n",
    "names = ['preg', 'plas', 'pres', 'skin', 'test', 'mass', 'pedi', 'age', 'class']\n",
    "data = pandas.read_csv(url, names=names)\n",
    "array = data.values\n",
    "X = array[:,0:8]\n",
    "Y = array[:,8]\n",
    "# create pipeline\n",
    "\n",
    "\n",
    "class Prepare():\n",
    " \n",
    "    def __init__(self):\n",
    "        pass\n",
    "\n",
    "    def preparePipeline(self):\n",
    "        transformers = []\n",
    "        \n",
    "        scaler = StandardScaler()\n",
    "        clean = self.Clean()\n",
    "        \n",
    "        transformers.append(('clean', clean))\n",
    "        transformers.append(('scaler', scaler))\n",
    "        \n",
    "        return FeatureUnion(transformers)\n",
    "\n",
    "    class Clean(TransformerMixin):\n",
    "\n",
    "        def transform(self, X, **transform_params):\n",
    "#             hours = DataFrame(X['datetime'].apply(lambda x: x.hour))\n",
    "            return pandas.DataFrame(X).dropna()\n",
    "#             return X\n",
    "\n",
    "        def fit(self, X, y=None, **fit_params):\n",
    "            return self\n",
    "\n",
    "    \n",
    "prepare = Prepare().preparePipeline()\n",
    "\n",
    "estimators = []\n",
    "estimators.append(( 'prepare' , prepare))\n",
    "estimators.append(( 'logistic' , LogisticRegression()))\n",
    "# estimators.append(('svm' , SVC(kernel=\"linear\")))\n",
    "model = Pipeline(estimators)\n",
    "\n",
    "# evaluate pipeline\n",
    "num_folds = 10\n",
    "num_instances = len(X)\n",
    "seed = 7\n",
    "kfold = KFold(n=num_instances, n_folds=num_folds, random_state=seed)\n",
    "results = cross_val_score(model, X, Y, cv=kfold)\n",
    "print(results.mean())\n",
    "# print model"
   ]
  },
  {
   "cell_type": "code",
   "execution_count": 52,
   "metadata": {
    "collapsed": false
   },
   "outputs": [
    {
     "name": "stdout",
     "output_type": "stream",
     "text": [
      "Fitting 3 folds for each of 75 candidates, totalling 225 fits\n",
      "[CV] feature_union__select_best__k=3, logistic__C=0.1, feature_union__pca__n_components=1 \n",
      "[CV]  feature_union__select_best__k=3, logistic__C=0.1, feature_union__pca__n_components=1, score=0.766537 -   0.0s\n",
      "[CV] feature_union__select_best__k=3, logistic__C=0.1, feature_union__pca__n_components=1 \n",
      "[CV]  feature_union__select_best__k=3, logistic__C=0.1, feature_union__pca__n_components=1, score=0.746094 -   0.0s\n",
      "[CV] feature_union__select_best__k=3, logistic__C=0.1, feature_union__pca__n_components=1 \n",
      "[CV]  feature_union__select_best__k=3, logistic__C=0.1, feature_union__pca__n_components=1, score=0.796078 -   0.0s\n",
      "[CV] feature_union__select_best__k=3, logistic__C=1, feature_union__pca__n_components=1 \n",
      "[CV]  feature_union__select_best__k=3, logistic__C=1, feature_union__pca__n_components=1, score=0.770428 -   0.0s\n",
      "[CV] feature_union__select_best__k=3, logistic__C=1, feature_union__pca__n_components=1 \n",
      "[CV]  feature_union__select_best__k=3, logistic__C=1, feature_union__pca__n_components=1, score=0.746094 -   0.0s\n",
      "[CV] feature_union__select_best__k=3, logistic__C=1, feature_union__pca__n_components=1 \n",
      "[CV]  feature_union__select_best__k=3, logistic__C=1, feature_union__pca__n_components=1, score=0.800000 -   0.0s\n",
      "[CV] feature_union__select_best__k=3, logistic__C=10, feature_union__pca__n_components=1 \n",
      "[CV]  feature_union__select_best__k=3, logistic__C=10, feature_union__pca__n_components=1, score=0.770428 -   0.0s\n",
      "[CV] feature_union__select_best__k=3, logistic__C=10, feature_union__pca__n_components=1 \n"
     ]
    },
    {
     "name": "stderr",
     "output_type": "stream",
     "text": [
      "[Parallel(n_jobs=1)]: Done   1 tasks       | elapsed:    0.0s\n",
      "[Parallel(n_jobs=1)]: Done   4 tasks       | elapsed:    0.1s\n",
      "[Parallel(n_jobs=1)]: Done   7 tasks       | elapsed:    0.2s\n"
     ]
    },
    {
     "name": "stdout",
     "output_type": "stream",
     "text": [
      "[CV]  feature_union__select_best__k=3, logistic__C=10, feature_union__pca__n_components=1, score=0.746094 -   0.0s\n",
      "[CV] feature_union__select_best__k=3, logistic__C=10, feature_union__pca__n_components=1 \n",
      "[CV]  feature_union__select_best__k=3, logistic__C=10, feature_union__pca__n_components=1, score=0.796078 -   0.0s\n",
      "[CV] feature_union__select_best__k=4, logistic__C=0.1, feature_union__pca__n_components=1 \n",
      "[CV]  feature_union__select_best__k=4, logistic__C=0.1, feature_union__pca__n_components=1, score=0.766537 -   0.0s\n",
      "[CV] feature_union__select_best__k=4, logistic__C=0.1, feature_union__pca__n_components=1 \n",
      "[CV]  feature_union__select_best__k=4, logistic__C=0.1, feature_union__pca__n_components=1, score=0.750000 -   0.0s\n",
      "[CV] feature_union__select_best__k=4, logistic__C=0.1, feature_union__pca__n_components=1 \n",
      "[CV]  feature_union__select_best__k=4, logistic__C=0.1, feature_union__pca__n_components=1, score=0.800000 -   0.0s\n",
      "[CV] feature_union__select_best__k=4, logistic__C=1, feature_union__pca__n_components=1 \n",
      "[CV]  feature_union__select_best__k=4, logistic__C=1, feature_union__pca__n_components=1, score=0.770428 -   0.0s\n",
      "[CV] feature_union__select_best__k=4, logistic__C=1, feature_union__pca__n_components=1 \n",
      "[CV]  feature_union__select_best__k=4, logistic__C=1, feature_union__pca__n_components=1, score=0.746094 -   0.0s\n",
      "[CV] feature_union__select_best__k=4, logistic__C=1, feature_union__pca__n_components=1 \n",
      "[CV]  feature_union__select_best__k=4, logistic__C=1, feature_union__pca__n_components=1, score=0.796078 -   0.0s\n",
      "[CV] feature_union__select_best__k=4, logistic__C=10, feature_union__pca__n_components=1 \n",
      "[CV]  feature_union__select_best__k=4, logistic__C=10, feature_union__pca__n_components=1, score=0.770428 -   0.0s\n",
      "[CV] feature_union__select_best__k=4, logistic__C=10, feature_union__pca__n_components=1 \n",
      "[CV]  feature_union__select_best__k=4, logistic__C=10, feature_union__pca__n_components=1, score=0.746094 -   0.0s\n",
      "[CV] feature_union__select_best__k=4, logistic__C=10, feature_union__pca__n_components=1 \n",
      "[CV]  feature_union__select_best__k=4, logistic__C=10, feature_union__pca__n_components=1, score=0.796078 -   0.0s\n",
      "[CV] feature_union__select_best__k=5, logistic__C=0.1, feature_union__pca__n_components=1 \n"
     ]
    },
    {
     "name": "stderr",
     "output_type": "stream",
     "text": [
      "[Parallel(n_jobs=1)]: Done  12 tasks       | elapsed:    0.3s\n",
      "[Parallel(n_jobs=1)]: Done  17 tasks       | elapsed:    0.4s\n"
     ]
    },
    {
     "name": "stdout",
     "output_type": "stream",
     "text": [
      "[CV]  feature_union__select_best__k=5, logistic__C=0.1, feature_union__pca__n_components=1, score=0.766537 -   0.0s\n",
      "[CV] feature_union__select_best__k=5, logistic__C=0.1, feature_union__pca__n_components=1 \n",
      "[CV]  feature_union__select_best__k=5, logistic__C=0.1, feature_union__pca__n_components=1, score=0.750000 -   0.0s\n",
      "[CV] feature_union__select_best__k=5, logistic__C=0.1, feature_union__pca__n_components=1 \n",
      "[CV]  feature_union__select_best__k=5, logistic__C=0.1, feature_union__pca__n_components=1, score=0.800000 -   0.0s\n",
      "[CV] feature_union__select_best__k=5, logistic__C=1, feature_union__pca__n_components=1 \n",
      "[CV]  feature_union__select_best__k=5, logistic__C=1, feature_union__pca__n_components=1, score=0.770428 -   0.0s\n",
      "[CV] feature_union__select_best__k=5, logistic__C=1, feature_union__pca__n_components=1 \n",
      "[CV]  feature_union__select_best__k=5, logistic__C=1, feature_union__pca__n_components=1, score=0.746094 -   0.0s\n",
      "[CV] feature_union__select_best__k=5, logistic__C=1, feature_union__pca__n_components=1 \n",
      "[CV]  feature_union__select_best__k=5, logistic__C=1, feature_union__pca__n_components=1, score=0.796078 -   0.0s\n",
      "[CV] feature_union__select_best__k=5, logistic__C=10, feature_union__pca__n_components=1 \n",
      "[CV]  feature_union__select_best__k=5, logistic__C=10, feature_union__pca__n_components=1, score=0.770428 -   0.0s\n",
      "[CV] feature_union__select_best__k=5, logistic__C=10, feature_union__pca__n_components=1 \n",
      "[CV]  feature_union__select_best__k=5, logistic__C=10, feature_union__pca__n_components=1, score=0.746094 -   0.0s\n",
      "[CV] feature_union__select_best__k=5, logistic__C=10, feature_union__pca__n_components=1 \n",
      "[CV]  feature_union__select_best__k=5, logistic__C=10, feature_union__pca__n_components=1, score=0.796078 -   0.0s\n",
      "[CV] feature_union__select_best__k=6, logistic__C=0.1, feature_union__pca__n_components=1 \n",
      "[CV]  feature_union__select_best__k=6, logistic__C=0.1, feature_union__pca__n_components=1, score=0.770428 -   0.0s\n",
      "[CV] feature_union__select_best__k=6, logistic__C=0.1, feature_union__pca__n_components=1 \n"
     ]
    },
    {
     "name": "stderr",
     "output_type": "stream",
     "text": [
      "[Parallel(n_jobs=1)]: Done  24 tasks       | elapsed:    0.5s\n",
      "[Parallel(n_jobs=1)]: Done  31 tasks       | elapsed:    0.7s\n"
     ]
    },
    {
     "name": "stdout",
     "output_type": "stream",
     "text": [
      "[CV]  feature_union__select_best__k=6, logistic__C=0.1, feature_union__pca__n_components=1, score=0.742188 -   0.0s\n",
      "[CV] feature_union__select_best__k=6, logistic__C=0.1, feature_union__pca__n_components=1 \n",
      "[CV]  feature_union__select_best__k=6, logistic__C=0.1, feature_union__pca__n_components=1, score=0.800000 -   0.0s\n",
      "[CV] feature_union__select_best__k=6, logistic__C=1, feature_union__pca__n_components=1 \n",
      "[CV]  feature_union__select_best__k=6, logistic__C=1, feature_union__pca__n_components=1, score=0.770428 -   0.0s\n",
      "[CV] feature_union__select_best__k=6, logistic__C=1, feature_union__pca__n_components=1 \n",
      "[CV]  feature_union__select_best__k=6, logistic__C=1, feature_union__pca__n_components=1, score=0.742188 -   0.0s\n",
      "[CV] feature_union__select_best__k=6, logistic__C=1, feature_union__pca__n_components=1 \n",
      "[CV]  feature_union__select_best__k=6, logistic__C=1, feature_union__pca__n_components=1, score=0.800000 -   0.0s\n",
      "[CV] feature_union__select_best__k=6, logistic__C=10, feature_union__pca__n_components=1 \n",
      "[CV]  feature_union__select_best__k=6, logistic__C=10, feature_union__pca__n_components=1, score=0.770428 -   0.0s\n",
      "[CV] feature_union__select_best__k=6, logistic__C=10, feature_union__pca__n_components=1 \n",
      "[CV]  feature_union__select_best__k=6, logistic__C=10, feature_union__pca__n_components=1, score=0.746094 -   0.0s\n",
      "[CV] feature_union__select_best__k=6, logistic__C=10, feature_union__pca__n_components=1 \n",
      "[CV]  feature_union__select_best__k=6, logistic__C=10, feature_union__pca__n_components=1, score=0.796078 -   0.0s\n",
      "[CV] feature_union__select_best__k=7, logistic__C=0.1, feature_union__pca__n_components=1 \n",
      "[CV]  feature_union__select_best__k=7, logistic__C=0.1, feature_union__pca__n_components=1, score=0.770428 -   0.0s\n",
      "[CV] feature_union__select_best__k=7, logistic__C=0.1, feature_union__pca__n_components=1 \n",
      "[CV]  feature_union__select_best__k=7, logistic__C=0.1, feature_union__pca__n_components=1, score=0.742188 -   0.0s\n",
      "[CV] feature_union__select_best__k=7, logistic__C=0.1, feature_union__pca__n_components=1 \n",
      "[CV]  feature_union__select_best__k=7, logistic__C=0.1, feature_union__pca__n_components=1, score=0.800000 -   0.0s\n",
      "[CV] feature_union__select_best__k=7, logistic__C=1, feature_union__pca__n_components=1 \n",
      "[CV]  feature_union__select_best__k=7, logistic__C=1, feature_union__pca__n_components=1, score=0.770428 -   0.0s\n",
      "[CV] feature_union__select_best__k=7, logistic__C=1, feature_union__pca__n_components=1 \n"
     ]
    },
    {
     "name": "stderr",
     "output_type": "stream",
     "text": [
      "[Parallel(n_jobs=1)]: Done  40 tasks       | elapsed:    0.8s\n",
      "[Parallel(n_jobs=1)]: Done  49 tasks       | elapsed:    1.0s\n"
     ]
    },
    {
     "name": "stdout",
     "output_type": "stream",
     "text": [
      "[CV]  feature_union__select_best__k=7, logistic__C=1, feature_union__pca__n_components=1, score=0.742188 -   0.0s\n",
      "[CV] feature_union__select_best__k=7, logistic__C=1, feature_union__pca__n_components=1 \n",
      "[CV]  feature_union__select_best__k=7, logistic__C=1, feature_union__pca__n_components=1, score=0.800000 -   0.0s\n",
      "[CV] feature_union__select_best__k=7, logistic__C=10, feature_union__pca__n_components=1 \n",
      "[CV]  feature_union__select_best__k=7, logistic__C=10, feature_union__pca__n_components=1, score=0.770428 -   0.0s\n",
      "[CV] feature_union__select_best__k=7, logistic__C=10, feature_union__pca__n_components=1 \n",
      "[CV]  feature_union__select_best__k=7, logistic__C=10, feature_union__pca__n_components=1, score=0.746094 -   0.0s\n",
      "[CV] feature_union__select_best__k=7, logistic__C=10, feature_union__pca__n_components=1 \n",
      "[CV]  feature_union__select_best__k=7, logistic__C=10, feature_union__pca__n_components=1, score=0.796078 -   0.0s\n",
      "[CV] feature_union__select_best__k=3, logistic__C=0.1, feature_union__pca__n_components=2 \n",
      "[CV]  feature_union__select_best__k=3, logistic__C=0.1, feature_union__pca__n_components=2, score=0.774319 -   0.0s\n",
      "[CV] feature_union__select_best__k=3, logistic__C=0.1, feature_union__pca__n_components=2 \n",
      "[CV]  feature_union__select_best__k=3, logistic__C=0.1, feature_union__pca__n_components=2, score=0.738281 -   0.0s\n",
      "[CV] feature_union__select_best__k=3, logistic__C=0.1, feature_union__pca__n_components=2 \n",
      "[CV]  feature_union__select_best__k=3, logistic__C=0.1, feature_union__pca__n_components=2, score=0.796078 -   0.0s\n",
      "[CV] feature_union__select_best__k=3, logistic__C=1, feature_union__pca__n_components=2 \n",
      "[CV]  feature_union__select_best__k=3, logistic__C=1, feature_union__pca__n_components=2, score=0.770428 -   0.0s\n",
      "[CV] feature_union__select_best__k=3, logistic__C=1, feature_union__pca__n_components=2 \n",
      "[CV]  feature_union__select_best__k=3, logistic__C=1, feature_union__pca__n_components=2, score=0.742188 -   0.0s\n",
      "[CV] feature_union__select_best__k=3, logistic__C=1, feature_union__pca__n_components=2 \n",
      "[CV]  feature_union__select_best__k=3, logistic__C=1, feature_union__pca__n_components=2, score=0.800000 -   0.0s\n",
      "[CV] feature_union__select_best__k=3, logistic__C=10, feature_union__pca__n_components=2 \n",
      "[CV]  feature_union__select_best__k=3, logistic__C=10, feature_union__pca__n_components=2, score=0.770428 -   0.0s\n",
      "[CV] feature_union__select_best__k=3, logistic__C=10, feature_union__pca__n_components=2 \n",
      "[CV]  feature_union__select_best__k=3, logistic__C=10, feature_union__pca__n_components=2, score=0.746094 -   0.0s\n",
      "[CV] feature_union__select_best__k=3, logistic__C=10, feature_union__pca__n_components=2 \n",
      "[CV]  feature_union__select_best__k=3, logistic__C=10, feature_union__pca__n_components=2, score=0.796078 -   0.0s\n",
      "[CV] feature_union__select_best__k=4, logistic__C=0.1, feature_union__pca__n_components=2 \n",
      "[CV]  feature_union__select_best__k=4, logistic__C=0.1, feature_union__pca__n_components=2, score=0.770428 -   0.0s\n",
      "[CV] feature_union__select_best__k=4, logistic__C=0.1, feature_union__pca__n_components=2 \n",
      "[CV]  feature_union__select_best__k=4, logistic__C=0.1, feature_union__pca__n_components=2, score=0.742188 -   0.0s\n",
      "[CV] feature_union__select_best__k=4, logistic__C=0.1, feature_union__pca__n_components=2 \n",
      "[CV]  feature_union__select_best__k=4, logistic__C=0.1, feature_union__pca__n_components=2, score=0.796078 -   0.0s\n",
      "[CV] feature_union__select_best__k=4, logistic__C=1, feature_union__pca__n_components=2 \n",
      "[CV]  feature_union__select_best__k=4, logistic__C=1, feature_union__pca__n_components=2, score=0.770428 -   0.0s\n",
      "[CV] feature_union__select_best__k=4, logistic__C=1, feature_union__pca__n_components=2 \n",
      "[CV]  feature_union__select_best__k=4, logistic__C=1, feature_union__pca__n_components=2, score=0.742188 -   0.0s\n",
      "[CV] feature_union__select_best__k=4, logistic__C=1, feature_union__pca__n_components=2 \n",
      "[CV]  feature_union__select_best__k=4, logistic__C=1, feature_union__pca__n_components=2, score=0.800000 -   0.0s\n",
      "[CV] feature_union__select_best__k=4, logistic__C=10, feature_union__pca__n_components=2 \n",
      "[CV]  feature_union__select_best__k=4, logistic__C=10, feature_union__pca__n_components=2, score=0.770428 -   0.0s\n",
      "[CV] feature_union__select_best__k=4, logistic__C=10, feature_union__pca__n_components=2 \n",
      "[CV]  feature_union__select_best__k=4, logistic__C=10, feature_union__pca__n_components=2, score=0.746094 -   0.0s\n",
      "[CV] feature_union__select_best__k=4, logistic__C=10, feature_union__pca__n_components=2 \n",
      "[CV]  feature_union__select_best__k=4, logistic__C=10, feature_union__pca__n_components=2, score=0.796078 -   0.0s\n",
      "[CV] feature_union__select_best__k=5, logistic__C=0.1, feature_union__pca__n_components=2 \n",
      "[CV]  feature_union__select_best__k=5, logistic__C=0.1, feature_union__pca__n_components=2, score=0.770428 -   0.0s\n",
      "[CV] feature_union__select_best__k=5, logistic__C=0.1, feature_union__pca__n_components=2 \n",
      "[CV]  feature_union__select_best__k=5, logistic__C=0.1, feature_union__pca__n_components=2, score=0.742188 -   0.0s\n",
      "[CV] feature_union__select_best__k=5, logistic__C=0.1, feature_union__pca__n_components=2 \n",
      "[CV]  feature_union__select_best__k=5, logistic__C=0.1, feature_union__pca__n_components=2, score=0.796078 -   0.0s\n",
      "[CV] feature_union__select_best__k=5, logistic__C=1, feature_union__pca__n_components=2 \n"
     ]
    },
    {
     "name": "stderr",
     "output_type": "stream",
     "text": [
      "[Parallel(n_jobs=1)]: Done  60 tasks       | elapsed:    1.2s\n",
      "[Parallel(n_jobs=1)]: Done  71 tasks       | elapsed:    1.4s\n"
     ]
    },
    {
     "name": "stdout",
     "output_type": "stream",
     "text": [
      "[CV]  feature_union__select_best__k=5, logistic__C=1, feature_union__pca__n_components=2, score=0.770428 -   0.0s\n",
      "[CV] feature_union__select_best__k=5, logistic__C=1, feature_union__pca__n_components=2 \n",
      "[CV]  feature_union__select_best__k=5, logistic__C=1, feature_union__pca__n_components=2, score=0.746094 -   0.0s\n",
      "[CV] feature_union__select_best__k=5, logistic__C=1, feature_union__pca__n_components=2 \n",
      "[CV]  feature_union__select_best__k=5, logistic__C=1, feature_union__pca__n_components=2, score=0.800000 -   0.0s\n",
      "[CV] feature_union__select_best__k=5, logistic__C=10, feature_union__pca__n_components=2 \n",
      "[CV]  feature_union__select_best__k=5, logistic__C=10, feature_union__pca__n_components=2, score=0.770428 -   0.0s\n",
      "[CV] feature_union__select_best__k=5, logistic__C=10, feature_union__pca__n_components=2 \n",
      "[CV]  feature_union__select_best__k=5, logistic__C=10, feature_union__pca__n_components=2, score=0.746094 -   0.0s\n",
      "[CV] feature_union__select_best__k=5, logistic__C=10, feature_union__pca__n_components=2 \n",
      "[CV]  feature_union__select_best__k=5, logistic__C=10, feature_union__pca__n_components=2, score=0.800000 -   0.0s\n",
      "[CV] feature_union__select_best__k=6, logistic__C=0.1, feature_union__pca__n_components=2 \n",
      "[CV]  feature_union__select_best__k=6, logistic__C=0.1, feature_union__pca__n_components=2, score=0.766537 -   0.0s\n",
      "[CV] feature_union__select_best__k=6, logistic__C=0.1, feature_union__pca__n_components=2 \n",
      "[CV]  feature_union__select_best__k=6, logistic__C=0.1, feature_union__pca__n_components=2, score=0.742188 -   0.0s\n",
      "[CV] feature_union__select_best__k=6, logistic__C=0.1, feature_union__pca__n_components=2 \n",
      "[CV]  feature_union__select_best__k=6, logistic__C=0.1, feature_union__pca__n_components=2, score=0.800000 -   0.0s\n",
      "[CV] feature_union__select_best__k=6, logistic__C=1, feature_union__pca__n_components=2 \n",
      "[CV]  feature_union__select_best__k=6, logistic__C=1, feature_union__pca__n_components=2, score=0.770428 -   0.0s\n",
      "[CV] feature_union__select_best__k=6, logistic__C=1, feature_union__pca__n_components=2 \n",
      "[CV]  feature_union__select_best__k=6, logistic__C=1, feature_union__pca__n_components=2, score=0.742188 -   0.0s\n",
      "[CV] feature_union__select_best__k=6, logistic__C=1, feature_union__pca__n_components=2 \n",
      "[CV]  feature_union__select_best__k=6, logistic__C=1, feature_union__pca__n_components=2, score=0.800000 -   0.0s\n",
      "[CV] feature_union__select_best__k=6, logistic__C=10, feature_union__pca__n_components=2 \n",
      "[CV]  feature_union__select_best__k=6, logistic__C=10, feature_union__pca__n_components=2, score=0.770428 -   0.0s\n",
      "[CV] feature_union__select_best__k=6, logistic__C=10, feature_union__pca__n_components=2 \n",
      "[CV]  feature_union__select_best__k=6, logistic__C=10, feature_union__pca__n_components=2, score=0.746094 -   0.0s\n",
      "[CV] feature_union__select_best__k=6, logistic__C=10, feature_union__pca__n_components=2 \n",
      "[CV]  feature_union__select_best__k=6, logistic__C=10, feature_union__pca__n_components=2, score=0.796078 -   0.0s\n",
      "[CV] feature_union__select_best__k=7, logistic__C=0.1, feature_union__pca__n_components=2 \n",
      "[CV]  feature_union__select_best__k=7, logistic__C=0.1, feature_union__pca__n_components=2, score=0.770428 -   0.0s\n",
      "[CV] feature_union__select_best__k=7, logistic__C=0.1, feature_union__pca__n_components=2 \n",
      "[CV]  feature_union__select_best__k=7, logistic__C=0.1, feature_union__pca__n_components=2, score=0.742188 -   0.0s\n",
      "[CV] feature_union__select_best__k=7, logistic__C=0.1, feature_union__pca__n_components=2 \n",
      "[CV]  feature_union__select_best__k=7, logistic__C=0.1, feature_union__pca__n_components=2, score=0.800000 -   0.0s\n",
      "[CV] feature_union__select_best__k=7, logistic__C=1, feature_union__pca__n_components=2 \n",
      "[CV]  feature_union__select_best__k=7, logistic__C=1, feature_union__pca__n_components=2, score=0.770428 -   0.0s\n",
      "[CV] feature_union__select_best__k=7, logistic__C=1, feature_union__pca__n_components=2 \n",
      "[CV]  feature_union__select_best__k=7, logistic__C=1, feature_union__pca__n_components=2, score=0.742188 -   0.0s\n",
      "[CV] feature_union__select_best__k=7, logistic__C=1, feature_union__pca__n_components=2 \n",
      "[CV]  feature_union__select_best__k=7, logistic__C=1, feature_union__pca__n_components=2, score=0.800000 -   0.0s\n",
      "[CV] feature_union__select_best__k=7, logistic__C=10, feature_union__pca__n_components=2 \n",
      "[CV]  feature_union__select_best__k=7, logistic__C=10, feature_union__pca__n_components=2, score=0.770428 -   0.0s\n",
      "[CV] feature_union__select_best__k=7, logistic__C=10, feature_union__pca__n_components=2 \n"
     ]
    },
    {
     "name": "stderr",
     "output_type": "stream",
     "text": [
      "[Parallel(n_jobs=1)]: Done  84 tasks       | elapsed:    1.7s\n"
     ]
    },
    {
     "name": "stdout",
     "output_type": "stream",
     "text": [
      "[CV]  feature_union__select_best__k=7, logistic__C=10, feature_union__pca__n_components=2, score=0.746094 -   0.0s\n",
      "[CV] feature_union__select_best__k=7, logistic__C=10, feature_union__pca__n_components=2 \n",
      "[CV]  feature_union__select_best__k=7, logistic__C=10, feature_union__pca__n_components=2, score=0.796078 -   0.0s\n",
      "[CV] feature_union__select_best__k=3, logistic__C=0.1, feature_union__pca__n_components=3 \n",
      "[CV]  feature_union__select_best__k=3, logistic__C=0.1, feature_union__pca__n_components=3, score=0.774319 -   0.0s\n",
      "[CV] feature_union__select_best__k=3, logistic__C=0.1, feature_union__pca__n_components=3 \n",
      "[CV]  feature_union__select_best__k=3, logistic__C=0.1, feature_union__pca__n_components=3, score=0.742188 -   0.0s\n",
      "[CV] feature_union__select_best__k=3, logistic__C=0.1, feature_union__pca__n_components=3 \n",
      "[CV]  feature_union__select_best__k=3, logistic__C=0.1, feature_union__pca__n_components=3, score=0.796078 -   0.0s\n",
      "[CV] feature_union__select_best__k=3, logistic__C=1, feature_union__pca__n_components=3 \n",
      "[CV]  feature_union__select_best__k=3, logistic__C=1, feature_union__pca__n_components=3, score=0.770428 -   0.0s\n",
      "[CV] feature_union__select_best__k=3, logistic__C=1, feature_union__pca__n_components=3 \n",
      "[CV]  feature_union__select_best__k=3, logistic__C=1, feature_union__pca__n_components=3, score=0.742188 -   0.0s\n",
      "[CV] feature_union__select_best__k=3, logistic__C=1, feature_union__pca__n_components=3 \n",
      "[CV]  feature_union__select_best__k=3, logistic__C=1, feature_union__pca__n_components=3, score=0.800000 -   0.0s\n",
      "[CV] feature_union__select_best__k=3, logistic__C=10, feature_union__pca__n_components=3 \n",
      "[CV]  feature_union__select_best__k=3, logistic__C=10, feature_union__pca__n_components=3, score=0.770428 -   0.0s\n",
      "[CV] feature_union__select_best__k=3, logistic__C=10, feature_union__pca__n_components=3 \n",
      "[CV]  feature_union__select_best__k=3, logistic__C=10, feature_union__pca__n_components=3, score=0.746094 -   0.0s\n",
      "[CV] feature_union__select_best__k=3, logistic__C=10, feature_union__pca__n_components=3 \n",
      "[CV]  feature_union__select_best__k=3, logistic__C=10, feature_union__pca__n_components=3, score=0.796078 -   0.0s\n",
      "[CV] feature_union__select_best__k=4, logistic__C=0.1, feature_union__pca__n_components=3 \n"
     ]
    },
    {
     "name": "stderr",
     "output_type": "stream",
     "text": [
      "[Parallel(n_jobs=1)]: Done  97 tasks       | elapsed:    1.9s\n"
     ]
    },
    {
     "name": "stdout",
     "output_type": "stream",
     "text": [
      "[CV]  feature_union__select_best__k=4, logistic__C=0.1, feature_union__pca__n_components=3, score=0.770428 -   0.0s\n",
      "[CV] feature_union__select_best__k=4, logistic__C=0.1, feature_union__pca__n_components=3 \n",
      "[CV]  feature_union__select_best__k=4, logistic__C=0.1, feature_union__pca__n_components=3, score=0.746094 -   0.0s\n",
      "[CV] feature_union__select_best__k=4, logistic__C=0.1, feature_union__pca__n_components=3 \n",
      "[CV]  feature_union__select_best__k=4, logistic__C=0.1, feature_union__pca__n_components=3, score=0.796078 -   0.0s\n",
      "[CV] feature_union__select_best__k=4, logistic__C=1, feature_union__pca__n_components=3 \n",
      "[CV]  feature_union__select_best__k=4, logistic__C=1, feature_union__pca__n_components=3, score=0.770428 -   0.0s\n",
      "[CV] feature_union__select_best__k=4, logistic__C=1, feature_union__pca__n_components=3 \n",
      "[CV]  feature_union__select_best__k=4, logistic__C=1, feature_union__pca__n_components=3, score=0.746094 -   0.0s\n",
      "[CV] feature_union__select_best__k=4, logistic__C=1, feature_union__pca__n_components=3 \n",
      "[CV]  feature_union__select_best__k=4, logistic__C=1, feature_union__pca__n_components=3, score=0.800000 -   0.0s\n",
      "[CV] feature_union__select_best__k=4, logistic__C=10, feature_union__pca__n_components=3 \n",
      "[CV]  feature_union__select_best__k=4, logistic__C=10, feature_union__pca__n_components=3, score=0.770428 -   0.0s\n",
      "[CV] feature_union__select_best__k=4, logistic__C=10, feature_union__pca__n_components=3 \n",
      "[CV]  feature_union__select_best__k=4, logistic__C=10, feature_union__pca__n_components=3, score=0.746094 -   0.0s\n",
      "[CV] feature_union__select_best__k=4, logistic__C=10, feature_union__pca__n_components=3 \n",
      "[CV]  feature_union__select_best__k=4, logistic__C=10, feature_union__pca__n_components=3, score=0.796078 -   0.0s\n",
      "[CV] feature_union__select_best__k=5, logistic__C=0.1, feature_union__pca__n_components=3 \n",
      "[CV]  feature_union__select_best__k=5, logistic__C=0.1, feature_union__pca__n_components=3, score=0.770428 -   0.0s\n",
      "[CV] feature_union__select_best__k=5, logistic__C=0.1, feature_union__pca__n_components=3 \n",
      "[CV]  feature_union__select_best__k=5, logistic__C=0.1, feature_union__pca__n_components=3, score=0.746094 -   0.0s\n",
      "[CV] feature_union__select_best__k=5, logistic__C=0.1, feature_union__pca__n_components=3 \n",
      "[CV]  feature_union__select_best__k=5, logistic__C=0.1, feature_union__pca__n_components=3, score=0.796078 -   0.0s\n",
      "[CV] feature_union__select_best__k=5, logistic__C=1, feature_union__pca__n_components=3 \n",
      "[CV]  feature_union__select_best__k=5, logistic__C=1, feature_union__pca__n_components=3, score=0.770428 -   0.0s\n",
      "[CV] feature_union__select_best__k=5, logistic__C=1, feature_union__pca__n_components=3 \n",
      "[CV]  feature_union__select_best__k=5, logistic__C=1, feature_union__pca__n_components=3, score=0.746094 -   0.0s\n",
      "[CV] feature_union__select_best__k=5, logistic__C=1, feature_union__pca__n_components=3 \n",
      "[CV]  feature_union__select_best__k=5, logistic__C=1, feature_union__pca__n_components=3, score=0.800000 -   0.0s\n",
      "[CV] feature_union__select_best__k=5, logistic__C=10, feature_union__pca__n_components=3 \n",
      "[CV]  feature_union__select_best__k=5, logistic__C=10, feature_union__pca__n_components=3, score=0.770428 -   0.0s\n",
      "[CV] feature_union__select_best__k=5, logistic__C=10, feature_union__pca__n_components=3 \n",
      "[CV]  feature_union__select_best__k=5, logistic__C=10, feature_union__pca__n_components=3, score=0.746094 -   0.0s\n",
      "[CV] feature_union__select_best__k=5, logistic__C=10, feature_union__pca__n_components=3 \n",
      "[CV]  feature_union__select_best__k=5, logistic__C=10, feature_union__pca__n_components=3, score=0.796078 -   0.0s\n",
      "[CV] feature_union__select_best__k=6, logistic__C=0.1, feature_union__pca__n_components=3 \n",
      "[CV]  feature_union__select_best__k=6, logistic__C=0.1, feature_union__pca__n_components=3, score=0.770428 -   0.0s\n",
      "[CV] feature_union__select_best__k=6, logistic__C=0.1, feature_union__pca__n_components=3 \n",
      "[CV]  feature_union__select_best__k=6, logistic__C=0.1, feature_union__pca__n_components=3, score=0.742188 -   0.0s\n",
      "[CV] feature_union__select_best__k=6, logistic__C=0.1, feature_union__pca__n_components=3 \n",
      "[CV]  feature_union__select_best__k=6, logistic__C=0.1, feature_union__pca__n_components=3, score=0.800000 -   0.0s\n",
      "[CV] feature_union__select_best__k=6, logistic__C=1, feature_union__pca__n_components=3 \n",
      "[CV]  feature_union__select_best__k=6, logistic__C=1, feature_union__pca__n_components=3, score=0.770428 -   0.0s\n",
      "[CV] feature_union__select_best__k=6, logistic__C=1, feature_union__pca__n_components=3 \n",
      "[CV]  feature_union__select_best__k=6, logistic__C=1, feature_union__pca__n_components=3, score=0.746094 -   0.0s\n",
      "[CV] feature_union__select_best__k=6, logistic__C=1, feature_union__pca__n_components=3 \n"
     ]
    },
    {
     "name": "stderr",
     "output_type": "stream",
     "text": [
      "[Parallel(n_jobs=1)]: Done 112 tasks       | elapsed:    2.2s\n"
     ]
    },
    {
     "name": "stdout",
     "output_type": "stream",
     "text": [
      "[CV]  feature_union__select_best__k=6, logistic__C=1, feature_union__pca__n_components=3, score=0.800000 -   0.0s\n",
      "[CV] feature_union__select_best__k=6, logistic__C=10, feature_union__pca__n_components=3 \n",
      "[CV]  feature_union__select_best__k=6, logistic__C=10, feature_union__pca__n_components=3, score=0.770428 -   0.0s\n",
      "[CV] feature_union__select_best__k=6, logistic__C=10, feature_union__pca__n_components=3 \n",
      "[CV]  feature_union__select_best__k=6, logistic__C=10, feature_union__pca__n_components=3, score=0.746094 -   0.0s\n",
      "[CV] feature_union__select_best__k=6, logistic__C=10, feature_union__pca__n_components=3 \n",
      "[CV]  feature_union__select_best__k=6, logistic__C=10, feature_union__pca__n_components=3, score=0.796078 -   0.0s\n",
      "[CV] feature_union__select_best__k=7, logistic__C=0.1, feature_union__pca__n_components=3 \n",
      "[CV]  feature_union__select_best__k=7, logistic__C=0.1, feature_union__pca__n_components=3, score=0.766537 -   0.0s\n",
      "[CV] feature_union__select_best__k=7, logistic__C=0.1, feature_union__pca__n_components=3 \n",
      "[CV]  feature_union__select_best__k=7, logistic__C=0.1, feature_union__pca__n_components=3, score=0.742188 -   0.0s\n",
      "[CV] feature_union__select_best__k=7, logistic__C=0.1, feature_union__pca__n_components=3 \n",
      "[CV]  feature_union__select_best__k=7, logistic__C=0.1, feature_union__pca__n_components=3, score=0.800000 -   0.0s\n",
      "[CV] feature_union__select_best__k=7, logistic__C=1, feature_union__pca__n_components=3 \n",
      "[CV]  feature_union__select_best__k=7, logistic__C=1, feature_union__pca__n_components=3, score=0.770428 -   0.0s\n",
      "[CV] feature_union__select_best__k=7, logistic__C=1, feature_union__pca__n_components=3 \n",
      "[CV]  feature_union__select_best__k=7, logistic__C=1, feature_union__pca__n_components=3, score=0.742188 -   0.0s\n",
      "[CV] feature_union__select_best__k=7, logistic__C=1, feature_union__pca__n_components=3 \n",
      "[CV]  feature_union__select_best__k=7, logistic__C=1, feature_union__pca__n_components=3, score=0.800000 -   0.0s\n",
      "[CV] feature_union__select_best__k=7, logistic__C=10, feature_union__pca__n_components=3 \n",
      "[CV]  feature_union__select_best__k=7, logistic__C=10, feature_union__pca__n_components=3, score=0.770428 -   0.0s\n",
      "[CV] feature_union__select_best__k=7, logistic__C=10, feature_union__pca__n_components=3 \n",
      "[CV]  feature_union__select_best__k=7, logistic__C=10, feature_union__pca__n_components=3, score=0.746094 -   0.0s\n",
      "[CV] feature_union__select_best__k=7, logistic__C=10, feature_union__pca__n_components=3 \n"
     ]
    },
    {
     "name": "stderr",
     "output_type": "stream",
     "text": [
      "[Parallel(n_jobs=1)]: Done 127 tasks       | elapsed:    2.5s\n"
     ]
    },
    {
     "name": "stdout",
     "output_type": "stream",
     "text": [
      "[CV]  feature_union__select_best__k=7, logistic__C=10, feature_union__pca__n_components=3, score=0.796078 -   0.0s\n",
      "[CV] feature_union__select_best__k=3, logistic__C=0.1, feature_union__pca__n_components=4 \n",
      "[CV]  feature_union__select_best__k=3, logistic__C=0.1, feature_union__pca__n_components=4, score=0.770428 -   0.0s\n",
      "[CV] feature_union__select_best__k=3, logistic__C=0.1, feature_union__pca__n_components=4 \n",
      "[CV]  feature_union__select_best__k=3, logistic__C=0.1, feature_union__pca__n_components=4, score=0.742188 -   0.0s\n",
      "[CV] feature_union__select_best__k=3, logistic__C=0.1, feature_union__pca__n_components=4 \n",
      "[CV]  feature_union__select_best__k=3, logistic__C=0.1, feature_union__pca__n_components=4, score=0.800000 -   0.0s\n",
      "[CV] feature_union__select_best__k=3, logistic__C=1, feature_union__pca__n_components=4 \n",
      "[CV]  feature_union__select_best__k=3, logistic__C=1, feature_union__pca__n_components=4, score=0.770428 -   0.0s\n",
      "[CV] feature_union__select_best__k=3, logistic__C=1, feature_union__pca__n_components=4 \n",
      "[CV]  feature_union__select_best__k=3, logistic__C=1, feature_union__pca__n_components=4, score=0.742188 -   0.0s\n",
      "[CV] feature_union__select_best__k=3, logistic__C=1, feature_union__pca__n_components=4 \n",
      "[CV]  feature_union__select_best__k=3, logistic__C=1, feature_union__pca__n_components=4, score=0.800000 -   0.0s\n",
      "[CV] feature_union__select_best__k=3, logistic__C=10, feature_union__pca__n_components=4 \n",
      "[CV]  feature_union__select_best__k=3, logistic__C=10, feature_union__pca__n_components=4, score=0.770428 -   0.0s\n",
      "[CV] feature_union__select_best__k=3, logistic__C=10, feature_union__pca__n_components=4 \n",
      "[CV]  feature_union__select_best__k=3, logistic__C=10, feature_union__pca__n_components=4, score=0.742188 -   0.0s\n",
      "[CV] feature_union__select_best__k=3, logistic__C=10, feature_union__pca__n_components=4 \n",
      "[CV]  feature_union__select_best__k=3, logistic__C=10, feature_union__pca__n_components=4, score=0.796078 -   0.0s\n",
      "[CV] feature_union__select_best__k=4, logistic__C=0.1, feature_union__pca__n_components=4 \n",
      "[CV]  feature_union__select_best__k=4, logistic__C=0.1, feature_union__pca__n_components=4, score=0.766537 -   0.0s\n",
      "[CV] feature_union__select_best__k=4, logistic__C=0.1, feature_union__pca__n_components=4 \n"
     ]
    },
    {
     "name": "stderr",
     "output_type": "stream",
     "text": [
      "[Parallel(n_jobs=1)]: Done 144 tasks       | elapsed:    2.8s\n"
     ]
    },
    {
     "name": "stdout",
     "output_type": "stream",
     "text": [
      "[CV]  feature_union__select_best__k=4, logistic__C=0.1, feature_union__pca__n_components=4, score=0.742188 -   0.0s\n",
      "[CV] feature_union__select_best__k=4, logistic__C=0.1, feature_union__pca__n_components=4 \n",
      "[CV]  feature_union__select_best__k=4, logistic__C=0.1, feature_union__pca__n_components=4, score=0.796078 -   0.0s\n",
      "[CV] feature_union__select_best__k=4, logistic__C=1, feature_union__pca__n_components=4 \n",
      "[CV]  feature_union__select_best__k=4, logistic__C=1, feature_union__pca__n_components=4, score=0.770428 -   0.0s\n",
      "[CV] feature_union__select_best__k=4, logistic__C=1, feature_union__pca__n_components=4 \n",
      "[CV]  feature_union__select_best__k=4, logistic__C=1, feature_union__pca__n_components=4, score=0.742188 -   0.0s\n",
      "[CV] feature_union__select_best__k=4, logistic__C=1, feature_union__pca__n_components=4 \n",
      "[CV]  feature_union__select_best__k=4, logistic__C=1, feature_union__pca__n_components=4, score=0.800000 -   0.0s\n",
      "[CV] feature_union__select_best__k=4, logistic__C=10, feature_union__pca__n_components=4 \n",
      "[CV]  feature_union__select_best__k=4, logistic__C=10, feature_union__pca__n_components=4, score=0.770428 -   0.0s\n",
      "[CV] feature_union__select_best__k=4, logistic__C=10, feature_union__pca__n_components=4 \n",
      "[CV]  feature_union__select_best__k=4, logistic__C=10, feature_union__pca__n_components=4, score=0.746094 -   0.0s\n",
      "[CV] feature_union__select_best__k=4, logistic__C=10, feature_union__pca__n_components=4 \n",
      "[CV]  feature_union__select_best__k=4, logistic__C=10, feature_union__pca__n_components=4, score=0.796078 -   0.0s\n",
      "[CV] feature_union__select_best__k=5, logistic__C=0.1, feature_union__pca__n_components=4 \n",
      "[CV]  feature_union__select_best__k=5, logistic__C=0.1, feature_union__pca__n_components=4, score=0.766537 -   0.0s\n",
      "[CV] feature_union__select_best__k=5, logistic__C=0.1, feature_union__pca__n_components=4 \n",
      "[CV]  feature_union__select_best__k=5, logistic__C=0.1, feature_union__pca__n_components=4, score=0.742188 -   0.0s\n",
      "[CV] feature_union__select_best__k=5, logistic__C=0.1, feature_union__pca__n_components=4 \n",
      "[CV]  feature_union__select_best__k=5, logistic__C=0.1, feature_union__pca__n_components=4, score=0.800000 -   0.0s\n",
      "[CV] feature_union__select_best__k=5, logistic__C=1, feature_union__pca__n_components=4 \n",
      "[CV]  feature_union__select_best__k=5, logistic__C=1, feature_union__pca__n_components=4, score=0.770428 -   0.0s\n",
      "[CV] feature_union__select_best__k=5, logistic__C=1, feature_union__pca__n_components=4 \n",
      "[CV]  feature_union__select_best__k=5, logistic__C=1, feature_union__pca__n_components=4, score=0.742188 -   0.0s\n",
      "[CV] feature_union__select_best__k=5, logistic__C=1, feature_union__pca__n_components=4 \n",
      "[CV]  feature_union__select_best__k=5, logistic__C=1, feature_union__pca__n_components=4, score=0.800000 -   0.0s\n",
      "[CV] feature_union__select_best__k=5, logistic__C=10, feature_union__pca__n_components=4 \n",
      "[CV]  feature_union__select_best__k=5, logistic__C=10, feature_union__pca__n_components=4, score=0.770428 -   0.0s\n",
      "[CV] feature_union__select_best__k=5, logistic__C=10, feature_union__pca__n_components=4 \n",
      "[CV]  feature_union__select_best__k=5, logistic__C=10, feature_union__pca__n_components=4, score=0.746094 -   0.0s\n",
      "[CV] feature_union__select_best__k=5, logistic__C=10, feature_union__pca__n_components=4 \n"
     ]
    },
    {
     "name": "stderr",
     "output_type": "stream",
     "text": [
      "[Parallel(n_jobs=1)]: Done 161 tasks       | elapsed:    3.2s\n"
     ]
    },
    {
     "name": "stdout",
     "output_type": "stream",
     "text": [
      "[CV]  feature_union__select_best__k=5, logistic__C=10, feature_union__pca__n_components=4, score=0.796078 -   0.0s\n",
      "[CV] feature_union__select_best__k=6, logistic__C=0.1, feature_union__pca__n_components=4 \n",
      "[CV]  feature_union__select_best__k=6, logistic__C=0.1, feature_union__pca__n_components=4, score=0.766537 -   0.0s\n",
      "[CV] feature_union__select_best__k=6, logistic__C=0.1, feature_union__pca__n_components=4 \n",
      "[CV]  feature_union__select_best__k=6, logistic__C=0.1, feature_union__pca__n_components=4, score=0.742188 -   0.0s\n",
      "[CV] feature_union__select_best__k=6, logistic__C=0.1, feature_union__pca__n_components=4 \n",
      "[CV]  feature_union__select_best__k=6, logistic__C=0.1, feature_union__pca__n_components=4, score=0.800000 -   0.0s\n",
      "[CV] feature_union__select_best__k=6, logistic__C=1, feature_union__pca__n_components=4 \n",
      "[CV]  feature_union__select_best__k=6, logistic__C=1, feature_union__pca__n_components=4, score=0.770428 -   0.0s\n",
      "[CV] feature_union__select_best__k=6, logistic__C=1, feature_union__pca__n_components=4 \n",
      "[CV]  feature_union__select_best__k=6, logistic__C=1, feature_union__pca__n_components=4, score=0.742188 -   0.0s\n",
      "[CV] feature_union__select_best__k=6, logistic__C=1, feature_union__pca__n_components=4 \n",
      "[CV]  feature_union__select_best__k=6, logistic__C=1, feature_union__pca__n_components=4, score=0.800000 -   0.0s\n",
      "[CV] feature_union__select_best__k=6, logistic__C=10, feature_union__pca__n_components=4 \n",
      "[CV]  feature_union__select_best__k=6, logistic__C=10, feature_union__pca__n_components=4, score=0.770428 -   0.0s\n",
      "[CV] feature_union__select_best__k=6, logistic__C=10, feature_union__pca__n_components=4 \n",
      "[CV]  feature_union__select_best__k=6, logistic__C=10, feature_union__pca__n_components=4, score=0.746094 -   0.0s\n",
      "[CV] feature_union__select_best__k=6, logistic__C=10, feature_union__pca__n_components=4 \n",
      "[CV]  feature_union__select_best__k=6, logistic__C=10, feature_union__pca__n_components=4, score=0.796078 -   0.0s\n",
      "[CV] feature_union__select_best__k=7, logistic__C=0.1, feature_union__pca__n_components=4 \n",
      "[CV]  feature_union__select_best__k=7, logistic__C=0.1, feature_union__pca__n_components=4, score=0.766537 -   0.0s\n",
      "[CV] feature_union__select_best__k=7, logistic__C=0.1, feature_union__pca__n_components=4 \n",
      "[CV]  feature_union__select_best__k=7, logistic__C=0.1, feature_union__pca__n_components=4, score=0.742188 -   0.0s\n",
      "[CV] feature_union__select_best__k=7, logistic__C=0.1, feature_union__pca__n_components=4 \n",
      "[CV]  feature_union__select_best__k=7, logistic__C=0.1, feature_union__pca__n_components=4, score=0.800000 -   0.0s\n",
      "[CV] feature_union__select_best__k=7, logistic__C=1, feature_union__pca__n_components=4 \n",
      "[CV]  feature_union__select_best__k=7, logistic__C=1, feature_union__pca__n_components=4, score=0.770428 -   0.0s\n",
      "[CV] feature_union__select_best__k=7, logistic__C=1, feature_union__pca__n_components=4 \n",
      "[CV]  feature_union__select_best__k=7, logistic__C=1, feature_union__pca__n_components=4, score=0.742188 -   0.0s\n",
      "[CV] feature_union__select_best__k=7, logistic__C=1, feature_union__pca__n_components=4 \n",
      "[CV]  feature_union__select_best__k=7, logistic__C=1, feature_union__pca__n_components=4, score=0.800000 -   0.0s\n",
      "[CV] feature_union__select_best__k=7, logistic__C=10, feature_union__pca__n_components=4 \n",
      "[CV]  feature_union__select_best__k=7, logistic__C=10, feature_union__pca__n_components=4, score=0.770428 -   0.0s\n",
      "[CV] feature_union__select_best__k=7, logistic__C=10, feature_union__pca__n_components=4 \n",
      "[CV]  feature_union__select_best__k=7, logistic__C=10, feature_union__pca__n_components=4, score=0.746094 -   0.0s\n",
      "[CV] feature_union__select_best__k=7, logistic__C=10, feature_union__pca__n_components=4 \n",
      "[CV]  feature_union__select_best__k=7, logistic__C=10, feature_union__pca__n_components=4, score=0.796078 -   0.0s\n",
      "[CV] feature_union__select_best__k=3, logistic__C=0.1, feature_union__pca__n_components=5 \n",
      "[CV]  feature_union__select_best__k=3, logistic__C=0.1, feature_union__pca__n_components=5, score=0.770428 -   0.0s\n",
      "[CV] feature_union__select_best__k=3, logistic__C=0.1, feature_union__pca__n_components=5 \n",
      "[CV]  feature_union__select_best__k=3, logistic__C=0.1, feature_union__pca__n_components=5, score=0.742188 -   0.0s\n",
      "[CV] feature_union__select_best__k=3, logistic__C=0.1, feature_union__pca__n_components=5 \n",
      "[CV]  feature_union__select_best__k=3, logistic__C=0.1, feature_union__pca__n_components=5, score=0.796078 -   0.0s\n",
      "[CV] feature_union__select_best__k=3, logistic__C=1, feature_union__pca__n_components=5 \n"
     ]
    },
    {
     "name": "stderr",
     "output_type": "stream",
     "text": [
      "[Parallel(n_jobs=1)]: Done 180 tasks       | elapsed:    3.6s\n"
     ]
    },
    {
     "name": "stdout",
     "output_type": "stream",
     "text": [
      "[CV]  feature_union__select_best__k=3, logistic__C=1, feature_union__pca__n_components=5, score=0.770428 -   0.0s\n",
      "[CV] feature_union__select_best__k=3, logistic__C=1, feature_union__pca__n_components=5 \n",
      "[CV]  feature_union__select_best__k=3, logistic__C=1, feature_union__pca__n_components=5, score=0.742188 -   0.0s\n",
      "[CV] feature_union__select_best__k=3, logistic__C=1, feature_union__pca__n_components=5 \n",
      "[CV]  feature_union__select_best__k=3, logistic__C=1, feature_union__pca__n_components=5, score=0.800000 -   0.0s\n",
      "[CV] feature_union__select_best__k=3, logistic__C=10, feature_union__pca__n_components=5 \n",
      "[CV]  feature_union__select_best__k=3, logistic__C=10, feature_union__pca__n_components=5, score=0.770428 -   0.0s\n",
      "[CV] feature_union__select_best__k=3, logistic__C=10, feature_union__pca__n_components=5 \n",
      "[CV]  feature_union__select_best__k=3, logistic__C=10, feature_union__pca__n_components=5, score=0.746094 -   0.0s\n",
      "[CV] feature_union__select_best__k=3, logistic__C=10, feature_union__pca__n_components=5 \n",
      "[CV]  feature_union__select_best__k=3, logistic__C=10, feature_union__pca__n_components=5, score=0.796078 -   0.0s\n",
      "[CV] feature_union__select_best__k=4, logistic__C=0.1, feature_union__pca__n_components=5 \n",
      "[CV]  feature_union__select_best__k=4, logistic__C=0.1, feature_union__pca__n_components=5, score=0.766537 -   0.0s\n",
      "[CV] feature_union__select_best__k=4, logistic__C=0.1, feature_union__pca__n_components=5 \n",
      "[CV]  feature_union__select_best__k=4, logistic__C=0.1, feature_union__pca__n_components=5, score=0.742188 -   0.0s\n",
      "[CV] feature_union__select_best__k=4, logistic__C=0.1, feature_union__pca__n_components=5 \n",
      "[CV]  feature_union__select_best__k=4, logistic__C=0.1, feature_union__pca__n_components=5, score=0.796078 -   0.0s\n",
      "[CV] feature_union__select_best__k=4, logistic__C=1, feature_union__pca__n_components=5 \n",
      "[CV]  feature_union__select_best__k=4, logistic__C=1, feature_union__pca__n_components=5, score=0.770428 -   0.0s\n",
      "[CV] feature_union__select_best__k=4, logistic__C=1, feature_union__pca__n_components=5 \n",
      "[CV]  feature_union__select_best__k=4, logistic__C=1, feature_union__pca__n_components=5, score=0.742188 -   0.0s\n",
      "[CV] feature_union__select_best__k=4, logistic__C=1, feature_union__pca__n_components=5 \n",
      "[CV]  feature_union__select_best__k=4, logistic__C=1, feature_union__pca__n_components=5, score=0.800000 -   0.0s\n",
      "[CV] feature_union__select_best__k=4, logistic__C=10, feature_union__pca__n_components=5 \n",
      "[CV]  feature_union__select_best__k=4, logistic__C=10, feature_union__pca__n_components=5, score=0.770428 -   0.0s\n",
      "[CV] feature_union__select_best__k=4, logistic__C=10, feature_union__pca__n_components=5 \n",
      "[CV]  feature_union__select_best__k=4, logistic__C=10, feature_union__pca__n_components=5, score=0.746094 -   0.0s\n",
      "[CV] feature_union__select_best__k=4, logistic__C=10, feature_union__pca__n_components=5 \n",
      "[CV]  feature_union__select_best__k=4, logistic__C=10, feature_union__pca__n_components=5, score=0.796078 -   0.0s\n",
      "[CV] feature_union__select_best__k=5, logistic__C=0.1, feature_union__pca__n_components=5 \n",
      "[CV]  feature_union__select_best__k=5, logistic__C=0.1, feature_union__pca__n_components=5, score=0.766537 -   0.0s\n",
      "[CV] feature_union__select_best__k=5, logistic__C=0.1, feature_union__pca__n_components=5 \n",
      "[CV]  feature_union__select_best__k=5, logistic__C=0.1, feature_union__pca__n_components=5, score=0.742188 -   0.0s\n",
      "[CV] feature_union__select_best__k=5, logistic__C=0.1, feature_union__pca__n_components=5 \n",
      "[CV]  feature_union__select_best__k=5, logistic__C=0.1, feature_union__pca__n_components=5, score=0.800000 -   0.0s\n",
      "[CV] feature_union__select_best__k=5, logistic__C=1, feature_union__pca__n_components=5 \n",
      "[CV]  feature_union__select_best__k=5, logistic__C=1, feature_union__pca__n_components=5, score=0.770428 -   0.0s\n",
      "[CV] feature_union__select_best__k=5, logistic__C=1, feature_union__pca__n_components=5 \n",
      "[CV]  feature_union__select_best__k=5, logistic__C=1, feature_union__pca__n_components=5, score=0.742188 -   0.0s\n",
      "[CV] feature_union__select_best__k=5, logistic__C=1, feature_union__pca__n_components=5 \n"
     ]
    },
    {
     "name": "stderr",
     "output_type": "stream",
     "text": [
      "[Parallel(n_jobs=1)]: Done 199 tasks       | elapsed:    4.0s\n"
     ]
    },
    {
     "name": "stdout",
     "output_type": "stream",
     "text": [
      "[CV]  feature_union__select_best__k=5, logistic__C=1, feature_union__pca__n_components=5, score=0.800000 -   0.0s\n",
      "[CV] feature_union__select_best__k=5, logistic__C=10, feature_union__pca__n_components=5 \n",
      "[CV]  feature_union__select_best__k=5, logistic__C=10, feature_union__pca__n_components=5, score=0.770428 -   0.0s\n",
      "[CV] feature_union__select_best__k=5, logistic__C=10, feature_union__pca__n_components=5 \n",
      "[CV]  feature_union__select_best__k=5, logistic__C=10, feature_union__pca__n_components=5, score=0.746094 -   0.0s\n",
      "[CV] feature_union__select_best__k=5, logistic__C=10, feature_union__pca__n_components=5 \n",
      "[CV]  feature_union__select_best__k=5, logistic__C=10, feature_union__pca__n_components=5, score=0.796078 -   0.0s\n",
      "[CV] feature_union__select_best__k=6, logistic__C=0.1, feature_union__pca__n_components=5 \n",
      "[CV]  feature_union__select_best__k=6, logistic__C=0.1, feature_union__pca__n_components=5, score=0.766537 -   0.0s\n",
      "[CV] feature_union__select_best__k=6, logistic__C=0.1, feature_union__pca__n_components=5 \n",
      "[CV]  feature_union__select_best__k=6, logistic__C=0.1, feature_union__pca__n_components=5, score=0.742188 -   0.0s\n",
      "[CV] feature_union__select_best__k=6, logistic__C=0.1, feature_union__pca__n_components=5 \n",
      "[CV]  feature_union__select_best__k=6, logistic__C=0.1, feature_union__pca__n_components=5, score=0.800000 -   0.0s\n",
      "[CV] feature_union__select_best__k=6, logistic__C=1, feature_union__pca__n_components=5 \n",
      "[CV]  feature_union__select_best__k=6, logistic__C=1, feature_union__pca__n_components=5, score=0.770428 -   0.0s\n",
      "[CV] feature_union__select_best__k=6, logistic__C=1, feature_union__pca__n_components=5 \n",
      "[CV]  feature_union__select_best__k=6, logistic__C=1, feature_union__pca__n_components=5, score=0.742188 -   0.0s\n",
      "[CV] feature_union__select_best__k=6, logistic__C=1, feature_union__pca__n_components=5 \n",
      "[CV]  feature_union__select_best__k=6, logistic__C=1, feature_union__pca__n_components=5, score=0.800000 -   0.0s\n",
      "[CV] feature_union__select_best__k=6, logistic__C=10, feature_union__pca__n_components=5 \n",
      "[CV]  feature_union__select_best__k=6, logistic__C=10, feature_union__pca__n_components=5, score=0.770428 -   0.0s\n",
      "[CV] feature_union__select_best__k=6, logistic__C=10, feature_union__pca__n_components=5 \n",
      "[CV]  feature_union__select_best__k=6, logistic__C=10, feature_union__pca__n_components=5, score=0.746094 -   0.0s\n",
      "[CV] feature_union__select_best__k=6, logistic__C=10, feature_union__pca__n_components=5 \n",
      "[CV]  feature_union__select_best__k=6, logistic__C=10, feature_union__pca__n_components=5, score=0.796078 -   0.0s\n",
      "[CV] feature_union__select_best__k=7, logistic__C=0.1, feature_union__pca__n_components=5 \n",
      "[CV]  feature_union__select_best__k=7, logistic__C=0.1, feature_union__pca__n_components=5, score=0.766537 -   0.0s\n",
      "[CV] feature_union__select_best__k=7, logistic__C=0.1, feature_union__pca__n_components=5 \n",
      "[CV]  feature_union__select_best__k=7, logistic__C=0.1, feature_union__pca__n_components=5, score=0.742188 -   0.0s\n",
      "[CV] feature_union__select_best__k=7, logistic__C=0.1, feature_union__pca__n_components=5 \n",
      "[CV]  feature_union__select_best__k=7, logistic__C=0.1, feature_union__pca__n_components=5, score=0.800000 -   0.0s\n",
      "[CV] feature_union__select_best__k=7, logistic__C=1, feature_union__pca__n_components=5 \n",
      "[CV]  feature_union__select_best__k=7, logistic__C=1, feature_union__pca__n_components=5, score=0.770428 -   0.0s\n",
      "[CV] feature_union__select_best__k=7, logistic__C=1, feature_union__pca__n_components=5 \n",
      "[CV]  feature_union__select_best__k=7, logistic__C=1, feature_union__pca__n_components=5, score=0.742188 -   0.0s\n",
      "[CV] feature_union__select_best__k=7, logistic__C=1, feature_union__pca__n_components=5 \n",
      "[CV]  feature_union__select_best__k=7, logistic__C=1, feature_union__pca__n_components=5, score=0.800000 -   0.0s\n",
      "[CV] feature_union__select_best__k=7, logistic__C=10, feature_union__pca__n_components=5 \n",
      "[CV]  feature_union__select_best__k=7, logistic__C=10, feature_union__pca__n_components=5, score=0.770428 -   0.0s\n",
      "[CV] feature_union__select_best__k=7, logistic__C=10, feature_union__pca__n_components=5 \n",
      "[CV]  feature_union__select_best__k=7, logistic__C=10, feature_union__pca__n_components=5, score=0.746094 -   0.0s\n",
      "[CV] feature_union__select_best__k=7, logistic__C=10, feature_union__pca__n_components=5 \n",
      "[CV]  feature_union__select_best__k=7, logistic__C=10, feature_union__pca__n_components=5, score=0.796078 -   0.0s\n",
      "0.772135416667\n"
     ]
    },
    {
     "name": "stderr",
     "output_type": "stream",
     "text": [
      "[Parallel(n_jobs=1)]: Done 220 tasks       | elapsed:    4.5s\n",
      "[Parallel(n_jobs=1)]: Done 225 out of 225 | elapsed:    4.6s finished\n"
     ]
    }
   ],
   "source": [
    "param_grid = dict(feature_union__pca__n_components=[1, 2, 3, 4, 5],\n",
    "                  feature_union__select_best__k=[3, 4, 5, 6, 7],\n",
    "                  logistic__C=[0.1, 1, 10])\n",
    "\n",
    "grid_search = GridSearchCV(model, param_grid=param_grid, verbose=10)\n",
    "grid_search.fit(X, Y)\n",
    "# print(grid_search.best_estimator_)\n",
    "print(grid_search.best_score_)"
   ]
  },
  {
   "cell_type": "code",
   "execution_count": 42,
   "metadata": {
    "collapsed": false
   },
   "outputs": [
    {
     "name": "stdout",
     "output_type": "stream",
     "text": [
      "Fitting 3 folds for each of 18 candidates, totalling 54 fits\n",
      "[CV] features__pca__n_components=1, svm__C=0.1, features__univ_select__k=1 \n",
      "[CV]  features__pca__n_components=1, svm__C=0.1, features__univ_select__k=1, score=0.960784 -   0.0s\n",
      "[CV] features__pca__n_components=1, svm__C=0.1, features__univ_select__k=1 \n",
      "[CV]  features__pca__n_components=1, svm__C=0.1, features__univ_select__k=1, score=0.901961 -   0.0s\n",
      "[CV] features__pca__n_components=1, svm__C=0.1, features__univ_select__k=1 \n",
      "[CV]  features__pca__n_components=1, svm__C=0.1, features__univ_select__k=1, score=0.979167 -   0.0s\n",
      "[CV] features__pca__n_components=1, svm__C=1, features__univ_select__k=1 \n",
      "[CV]  features__pca__n_components=1, svm__C=1, features__univ_select__k=1, score=0.941176 -   0.0s\n",
      "[CV] features__pca__n_components=1, svm__C=1, features__univ_select__k=1 \n",
      "[CV]  features__pca__n_components=1, svm__C=1, features__univ_select__k=1, score=0.921569 -   0.0s\n",
      "[CV] features__pca__n_components=1, svm__C=1, features__univ_select__k=1 \n",
      "[CV]  features__pca__n_components=1, svm__C=1, features__univ_select__k=1, score=0.979167 -   0.0s\n",
      "[CV] features__pca__n_components=1, svm__C=10, features__univ_select__k=1 \n",
      "[CV]  features__pca__n_components=1, svm__C=10, features__univ_select__k=1, score=0.960784 -   0.0s\n",
      "[CV] features__pca__n_components=1, svm__C=10, features__univ_select__k=1 \n",
      "[CV]  features__pca__n_components=1, svm__C=10, features__univ_select__k=1, score=0.921569 -   0.0s\n",
      "[CV] features__pca__n_components=1, svm__C=10, features__univ_select__k=1 \n",
      "[CV]  features__pca__n_components=1, svm__C=10, features__univ_select__k=1, score=0.979167 -   0.0s\n",
      "[CV] features__pca__n_components=1, svm__C=0.1, features__univ_select__k=2 \n",
      "[CV]  features__pca__n_components=1, svm__C=0.1, features__univ_select__k=2, score=0.960784 -   0.0s\n",
      "[CV] features__pca__n_components=1, svm__C=0.1, features__univ_select__k=2 \n",
      "[CV]  features__pca__n_components=1, svm__C=0.1, features__univ_select__k=2, score=0.921569 -   0.0s\n",
      "[CV] features__pca__n_components=1, svm__C=0.1, features__univ_select__k=2 \n",
      "[CV]  features__pca__n_components=1, svm__C=0.1, features__univ_select__k=2, score=0.979167 -   0.0s\n",
      "[CV] features__pca__n_components=1, svm__C=1, features__univ_select__k=2 \n",
      "[CV]  features__pca__n_components=1, svm__C=1, features__univ_select__k=2, score=0.960784 -   0.0s\n",
      "[CV] features__pca__n_components=1, svm__C=1, features__univ_select__k=2 \n",
      "[CV]  features__pca__n_components=1, svm__C=1, features__univ_select__k=2, score=0.921569 -   0.0s\n",
      "[CV] features__pca__n_components=1, svm__C=1, features__univ_select__k=2 \n",
      "[CV]  features__pca__n_components=1, svm__C=1, features__univ_select__k=2, score=1.000000 -   0.0s\n",
      "[CV] features__pca__n_components=1, svm__C=10, features__univ_select__k=2 \n",
      "[CV]  features__pca__n_components=1, svm__C=10, features__univ_select__k=2, score=0.980392 -   0.0s\n",
      "[CV] features__pca__n_components=1, svm__C=10, features__univ_select__k=2 \n",
      "[CV]  features__pca__n_components=1, svm__C=10, features__univ_select__k=2, score=0.901961 -   0.0s\n",
      "[CV] features__pca__n_components=1, svm__C=10, features__univ_select__k=2 \n"
     ]
    },
    {
     "name": "stderr",
     "output_type": "stream",
     "text": [
      "[Parallel(n_jobs=1)]: Done   1 tasks       | elapsed:    0.0s\n",
      "[Parallel(n_jobs=1)]: Done   4 tasks       | elapsed:    0.1s\n",
      "[Parallel(n_jobs=1)]: Done   7 tasks       | elapsed:    0.1s\n",
      "[Parallel(n_jobs=1)]: Done  12 tasks       | elapsed:    0.2s\n",
      "[Parallel(n_jobs=1)]: Done  17 tasks       | elapsed:    0.2s\n"
     ]
    },
    {
     "name": "stdout",
     "output_type": "stream",
     "text": [
      "[CV]  features__pca__n_components=1, svm__C=10, features__univ_select__k=2, score=1.000000 -   0.0s\n",
      "[CV] features__pca__n_components=2, svm__C=0.1, features__univ_select__k=1 \n",
      "[CV]  features__pca__n_components=2, svm__C=0.1, features__univ_select__k=1, score=0.960784 -   0.0s\n",
      "[CV] features__pca__n_components=2, svm__C=0.1, features__univ_select__k=1 \n",
      "[CV]  features__pca__n_components=2, svm__C=0.1, features__univ_select__k=1, score=0.901961 -   0.0s\n",
      "[CV] features__pca__n_components=2, svm__C=0.1, features__univ_select__k=1 \n",
      "[CV]  features__pca__n_components=2, svm__C=0.1, features__univ_select__k=1, score=0.979167 -   0.0s\n",
      "[CV] features__pca__n_components=2, svm__C=1, features__univ_select__k=1 \n",
      "[CV]  features__pca__n_components=2, svm__C=1, features__univ_select__k=1, score=0.980392 -   0.0s\n",
      "[CV] features__pca__n_components=2, svm__C=1, features__univ_select__k=1 \n",
      "[CV]  features__pca__n_components=2, svm__C=1, features__univ_select__k=1, score=0.941176 -   0.0s\n",
      "[CV] features__pca__n_components=2, svm__C=1, features__univ_select__k=1 \n",
      "[CV]  features__pca__n_components=2, svm__C=1, features__univ_select__k=1, score=0.979167 -   0.0s\n",
      "[CV] features__pca__n_components=2, svm__C=10, features__univ_select__k=1 \n",
      "[CV]  features__pca__n_components=2, svm__C=10, features__univ_select__k=1, score=0.980392 -   0.0s\n",
      "[CV] features__pca__n_components=2, svm__C=10, features__univ_select__k=1 \n",
      "[CV]  features__pca__n_components=2, svm__C=10, features__univ_select__k=1, score=0.941176 -   0.0s\n",
      "[CV] features__pca__n_components=2, svm__C=10, features__univ_select__k=1 \n",
      "[CV]  features__pca__n_components=2, svm__C=10, features__univ_select__k=1, score=0.979167 -   0.0s\n",
      "[CV] features__pca__n_components=2, svm__C=0.1, features__univ_select__k=2 \n",
      "[CV]  features__pca__n_components=2, svm__C=0.1, features__univ_select__k=2, score=0.980392 -   0.0s\n",
      "[CV] features__pca__n_components=2, svm__C=0.1, features__univ_select__k=2 \n",
      "[CV]  features__pca__n_components=2, svm__C=0.1, features__univ_select__k=2, score=0.941176 -   0.0s\n",
      "[CV] features__pca__n_components=2, svm__C=0.1, features__univ_select__k=2 \n",
      "[CV]  features__pca__n_components=2, svm__C=0.1, features__univ_select__k=2, score=0.979167 -   0.0s\n",
      "[CV] features__pca__n_components=2, svm__C=1, features__univ_select__k=2 \n",
      "[CV]  features__pca__n_components=2, svm__C=1, features__univ_select__k=2, score=1.000000 -   0.0s\n",
      "[CV] features__pca__n_components=2, svm__C=1, features__univ_select__k=2 \n",
      "[CV]  features__pca__n_components=2, svm__C=1, features__univ_select__k=2, score=0.960784 -   0.0s\n",
      "[CV] features__pca__n_components=2, svm__C=1, features__univ_select__k=2 \n",
      "[CV]  features__pca__n_components=2, svm__C=1, features__univ_select__k=2, score=0.979167 -   0.0s\n",
      "[CV] features__pca__n_components=2, svm__C=10, features__univ_select__k=2 \n"
     ]
    },
    {
     "name": "stderr",
     "output_type": "stream",
     "text": [
      "[Parallel(n_jobs=1)]: Done  24 tasks       | elapsed:    0.3s\n",
      "[Parallel(n_jobs=1)]: Done  31 tasks       | elapsed:    0.4s\n",
      "[Parallel(n_jobs=1)]: Done  40 tasks       | elapsed:    0.5s\n"
     ]
    },
    {
     "name": "stdout",
     "output_type": "stream",
     "text": [
      "[CV]  features__pca__n_components=2, svm__C=10, features__univ_select__k=2, score=0.980392 -   0.0s\n",
      "[CV] features__pca__n_components=2, svm__C=10, features__univ_select__k=2 \n",
      "[CV]  features__pca__n_components=2, svm__C=10, features__univ_select__k=2, score=0.921569 -   0.0s\n",
      "[CV] features__pca__n_components=2, svm__C=10, features__univ_select__k=2 \n",
      "[CV]  features__pca__n_components=2, svm__C=10, features__univ_select__k=2, score=1.000000 -   0.0s\n",
      "[CV] features__pca__n_components=3, svm__C=0.1, features__univ_select__k=1 \n",
      "[CV]  features__pca__n_components=3, svm__C=0.1, features__univ_select__k=1, score=0.980392 -   0.0s\n",
      "[CV] features__pca__n_components=3, svm__C=0.1, features__univ_select__k=1 \n",
      "[CV]  features__pca__n_components=3, svm__C=0.1, features__univ_select__k=1, score=0.941176 -   0.0s\n",
      "[CV] features__pca__n_components=3, svm__C=0.1, features__univ_select__k=1 \n",
      "[CV]  features__pca__n_components=3, svm__C=0.1, features__univ_select__k=1, score=0.979167 -   0.0s\n",
      "[CV] features__pca__n_components=3, svm__C=1, features__univ_select__k=1 \n",
      "[CV]  features__pca__n_components=3, svm__C=1, features__univ_select__k=1, score=1.000000 -   0.0s\n",
      "[CV] features__pca__n_components=3, svm__C=1, features__univ_select__k=1 \n",
      "[CV]  features__pca__n_components=3, svm__C=1, features__univ_select__k=1, score=0.941176 -   0.0s\n",
      "[CV] features__pca__n_components=3, svm__C=1, features__univ_select__k=1 \n",
      "[CV]  features__pca__n_components=3, svm__C=1, features__univ_select__k=1, score=0.979167 -   0.0s\n",
      "[CV] features__pca__n_components=3, svm__C=10, features__univ_select__k=1 \n",
      "[CV]  features__pca__n_components=3, svm__C=10, features__univ_select__k=1, score=1.000000 -   0.0s\n",
      "[CV] features__pca__n_components=3, svm__C=10, features__univ_select__k=1 \n",
      "[CV]  features__pca__n_components=3, svm__C=10, features__univ_select__k=1, score=0.921569 -   0.0s\n",
      "[CV] features__pca__n_components=3, svm__C=10, features__univ_select__k=1 \n",
      "[CV]  features__pca__n_components=3, svm__C=10, features__univ_select__k=1, score=1.000000 -   0.0s\n",
      "[CV] features__pca__n_components=3, svm__C=0.1, features__univ_select__k=2 \n",
      "[CV]  features__pca__n_components=3, svm__C=0.1, features__univ_select__k=2, score=0.980392 -   0.0s\n",
      "[CV] features__pca__n_components=3, svm__C=0.1, features__univ_select__k=2 \n",
      "[CV]  features__pca__n_components=3, svm__C=0.1, features__univ_select__k=2, score=0.941176 -   0.0s\n",
      "[CV] features__pca__n_components=3, svm__C=0.1, features__univ_select__k=2 \n",
      "[CV]  features__pca__n_components=3, svm__C=0.1, features__univ_select__k=2, score=0.979167 -   0.0s\n",
      "[CV] features__pca__n_components=3, svm__C=1, features__univ_select__k=2 \n",
      "[CV]  features__pca__n_components=3, svm__C=1, features__univ_select__k=2, score=1.000000 -   0.0s\n",
      "[CV] features__pca__n_components=3, svm__C=1, features__univ_select__k=2 \n",
      "[CV]  features__pca__n_components=3, svm__C=1, features__univ_select__k=2, score=0.960784 -   0.0s\n",
      "[CV] features__pca__n_components=3, svm__C=1, features__univ_select__k=2 \n",
      "[CV]  features__pca__n_components=3, svm__C=1, features__univ_select__k=2, score=0.979167 -   0.0s\n",
      "[CV] features__pca__n_components=3, svm__C=10, features__univ_select__k=2 \n",
      "[CV]  features__pca__n_components=3, svm__C=10, features__univ_select__k=2, score=1.000000 -   0.0s\n",
      "[CV] features__pca__n_components=3, svm__C=10, features__univ_select__k=2 \n",
      "[CV]  features__pca__n_components=3, svm__C=10, features__univ_select__k=2, score=0.921569 -   0.0s\n",
      "[CV] features__pca__n_components=3, svm__C=10, features__univ_select__k=2 \n",
      "[CV]  features__pca__n_components=3, svm__C=10, features__univ_select__k=2, score=1.000000 -   0.0s\n",
      "Pipeline(steps=[('features', FeatureUnion(n_jobs=1,\n",
      "       transformer_list=[('pca', PCA(copy=True, n_components=2, whiten=False)), ('univ_select', SelectKBest(k=2, score_func=<function f_classif at 0x7f0dcbbe3758>))],\n",
      "       transformer_weights=None)), ('svm', SVC(C=1, cache_size=200, class_weight=None, coef0=0.0,\n",
      "  decision_function_shape=None, degree=3, gamma='auto', kernel='linear',\n",
      "  max_iter=-1, probability=False, random_state=None, shrinking=True,\n",
      "  tol=0.001, verbose=False))])\n",
      "0.98\n"
     ]
    },
    {
     "name": "stderr",
     "output_type": "stream",
     "text": [
      "[Parallel(n_jobs=1)]: Done  49 tasks       | elapsed:    0.6s\n",
      "[Parallel(n_jobs=1)]: Done  54 out of  54 | elapsed:    0.7s finished\n"
     ]
    }
   ],
   "source": [
    "# Author: Andreas Mueller <amueller@ais.uni-bonn.de>\n",
    "#\n",
    "# License: BSD 3 clause\n",
    "\n",
    "from sklearn.pipeline import Pipeline, FeatureUnion\n",
    "from sklearn.grid_search import GridSearchCV\n",
    "from sklearn.svm import SVC\n",
    "from sklearn.datasets import load_iris\n",
    "from sklearn.decomposition import PCA\n",
    "from sklearn.feature_selection import SelectKBest\n",
    "\n",
    "iris = load_iris()\n",
    "\n",
    "X, y = iris.data, iris.target\n",
    "\n",
    "# This dataset is way to high-dimensional. Better do PCA:\n",
    "pca = PCA(n_components=2)\n",
    "\n",
    "# Maybe some original features where good, too?\n",
    "selection = SelectKBest(k=1)\n",
    "\n",
    "# Build estimator from PCA and Univariate selection:\n",
    "\n",
    "combined_features = FeatureUnion([(\"pca\", pca), (\"univ_select\", selection)])\n",
    "\n",
    "# Use combined features to transform dataset:\n",
    "X_features = combined_features.fit(X, y).transform(X)\n",
    "\n",
    "svm = SVC(kernel=\"linear\")\n",
    "\n",
    "# Do grid search over k, n_components and C:\n",
    "\n",
    "pipeline = Pipeline([(\"features\", combined_features), (\"svm\", svm)])\n",
    "\n",
    "param_grid = dict(features__pca__n_components=[1, 2, 3],\n",
    "                  features__univ_select__k=[1, 2],\n",
    "                  svm__C=[0.1, 1, 10])\n",
    "\n",
    "grid_search = GridSearchCV(pipeline, param_grid=param_grid, verbose=10)\n",
    "grid_search.fit(X, y)\n",
    "print(grid_search.best_estimator_)\n",
    "print(grid_search.best_score_)"
   ]
  },
  {
   "cell_type": "code",
   "execution_count": null,
   "metadata": {
    "collapsed": false
   },
   "outputs": [],
   "source": []
  },
  {
   "cell_type": "code",
   "execution_count": null,
   "metadata": {
    "collapsed": true
   },
   "outputs": [],
   "source": []
  }
 ],
 "metadata": {
  "kernelspec": {
   "display_name": "Python 2",
   "language": "python",
   "name": "python2"
  },
  "language_info": {
   "codemirror_mode": {
    "name": "ipython",
    "version": 2
   },
   "file_extension": ".py",
   "mimetype": "text/x-python",
   "name": "python",
   "nbconvert_exporter": "python",
   "pygments_lexer": "ipython2",
   "version": "2.7.6"
  }
 },
 "nbformat": 4,
 "nbformat_minor": 0
}
